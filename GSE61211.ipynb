{
 "cells": [
  {
   "cell_type": "code",
   "execution_count": 1,
   "metadata": {},
   "outputs": [
    {
     "name": "stderr",
     "output_type": "stream",
     "text": [
      "Loading required package: Biobase\n",
      "\n",
      "Loading required package: BiocGenerics\n",
      "\n",
      "Loading required package: parallel\n",
      "\n",
      "\n",
      "Attaching package: 'BiocGenerics'\n",
      "\n",
      "\n",
      "The following objects are masked from 'package:parallel':\n",
      "\n",
      "    clusterApply, clusterApplyLB, clusterCall, clusterEvalQ,\n",
      "    clusterExport, clusterMap, parApply, parCapply, parLapply,\n",
      "    parLapplyLB, parRapply, parSapply, parSapplyLB\n",
      "\n",
      "\n",
      "The following objects are masked from 'package:stats':\n",
      "\n",
      "    IQR, mad, sd, var, xtabs\n",
      "\n",
      "\n",
      "The following objects are masked from 'package:base':\n",
      "\n",
      "    anyDuplicated, append, as.data.frame, basename, cbind, colnames,\n",
      "    dirname, do.call, duplicated, eval, evalq, Filter, Find, get, grep,\n",
      "    grepl, intersect, is.unsorted, lapply, Map, mapply, match, mget,\n",
      "    order, paste, pmax, pmax.int, pmin, pmin.int, Position, rank,\n",
      "    rbind, Reduce, rownames, sapply, setdiff, sort, table, tapply,\n",
      "    union, unique, unsplit, which.max, which.min\n",
      "\n",
      "\n",
      "Welcome to Bioconductor\n",
      "\n",
      "    Vignettes contain introductory material; view with\n",
      "    'browseVignettes()'. To cite Bioconductor, see\n",
      "    'citation(\"Biobase\")', and for packages 'citation(\"pkgname\")'.\n",
      "\n",
      "\n",
      "Setting options('download.file.method.GEOquery'='auto')\n",
      "\n",
      "Setting options('GEOquery.inmemory.gpl'=FALSE)\n",
      "\n",
      "Loading required package: oligoClasses\n",
      "\n",
      "Welcome to oligoClasses version 1.51.1\n",
      "\n",
      "Loading required package: Biostrings\n",
      "\n",
      "Loading required package: S4Vectors\n",
      "\n",
      "Loading required package: stats4\n",
      "\n",
      "\n",
      "Attaching package: 'S4Vectors'\n",
      "\n",
      "\n",
      "The following object is masked from 'package:base':\n",
      "\n",
      "    expand.grid\n",
      "\n",
      "\n",
      "Loading required package: IRanges\n",
      "\n",
      "\n",
      "Attaching package: 'IRanges'\n",
      "\n",
      "\n",
      "The following object is masked from 'package:grDevices':\n",
      "\n",
      "    windows\n",
      "\n",
      "\n",
      "Loading required package: XVector\n",
      "\n",
      "\n",
      "Attaching package: 'Biostrings'\n",
      "\n",
      "\n",
      "The following object is masked from 'package:base':\n",
      "\n",
      "    strsplit\n",
      "\n",
      "\n",
      "No methods found in package 'RSQLite' for request: 'dbListFields' when loading 'oligo'\n",
      "\n",
      "================================================================================\n",
      "\n",
      "Welcome to oligo version 1.53.0\n",
      "\n",
      "================================================================================\n",
      "\n"
     ]
    }
   ],
   "source": [
    "# load necessary library\n",
    "library(GEOquery)\n",
    "library(oligo)"
   ]
  },
  {
   "cell_type": "markdown",
   "metadata": {},
   "source": [
    "# Using GEOquery to Obtain Microarray Data<br>\n",
    "\n",
    "The GEOquery package allows you to programmatically access data from GEO. Depending on your needs, you can download only the processed data and metadata provided by the depositor. In some cases, you may want to download the raw data as well, if it was provided by the depositor."
   ]
  },
  {
   "cell_type": "code",
   "execution_count": 2,
   "metadata": {},
   "outputs": [],
   "source": [
    "# declare ccession number\n",
    "my.gse<-c(\"GSE61211\")\n",
    "#create directory for files downloaded from GEO and results to store\n",
    "if(!file.exists(\"geo_downloads\")) dir.create(\"geo_downloads\")\n",
    "if(!file.exists(\"results\"))  dir.create(\"results\", recursive=TRUE)"
   ]
  },
  {
   "cell_type": "code",
   "execution_count": 3,
   "metadata": {},
   "outputs": [
    {
     "name": "stderr",
     "output_type": "stream",
     "text": [
      "Found 1 file(s)\n",
      "\n",
      "GSE61211_series_matrix.txt.gz\n",
      "\n",
      "Using locally cached version: ./geo_downloads/GSE61211_series_matrix.txt.gz\n",
      "\n",
      "\n",
      "\u001b[36m--\u001b[39m \u001b[1m\u001b[1mColumn specification\u001b[1m\u001b[22m \u001b[36m--------------------------------------------------------\u001b[39m\n",
      "cols(\n",
      "  ID_REF = \u001b[32mcol_double()\u001b[39m,\n",
      "  GSM1499639 = \u001b[32mcol_double()\u001b[39m,\n",
      "  GSM1499640 = \u001b[32mcol_double()\u001b[39m,\n",
      "  GSM1499641 = \u001b[32mcol_double()\u001b[39m,\n",
      "  GSM1499642 = \u001b[32mcol_double()\u001b[39m,\n",
      "  GSM1499643 = \u001b[32mcol_double()\u001b[39m,\n",
      "  GSM1499644 = \u001b[32mcol_double()\u001b[39m,\n",
      "  GSM1499645 = \u001b[32mcol_double()\u001b[39m,\n",
      "  GSM1499646 = \u001b[32mcol_double()\u001b[39m,\n",
      "  GSM1499647 = \u001b[32mcol_double()\u001b[39m,\n",
      "  GSM1499648 = \u001b[32mcol_double()\u001b[39m,\n",
      "  GSM1499649 = \u001b[32mcol_double()\u001b[39m,\n",
      "  GSM1499650 = \u001b[32mcol_double()\u001b[39m,\n",
      "  GSM1499651 = \u001b[32mcol_double()\u001b[39m,\n",
      "  GSM1499652 = \u001b[32mcol_double()\u001b[39m,\n",
      "  GSM1499653 = \u001b[32mcol_double()\u001b[39m,\n",
      "  GSM1499654 = \u001b[32mcol_double()\u001b[39m,\n",
      "  GSM1499655 = \u001b[32mcol_double()\u001b[39m,\n",
      "  GSM1499656 = \u001b[32mcol_double()\u001b[39m\n",
      ")\n",
      "\n",
      "\n"
     ]
    },
    {
     "data": {
      "text/plain": [
       "$GSE61211_series_matrix.txt.gz\n",
       "ExpressionSet (storageMode: lockedEnvironment)\n",
       "assayData: 22011 features, 18 samples \n",
       "  element names: exprs \n",
       "protocolData: none\n",
       "phenoData\n",
       "  sampleNames: GSM1499639 GSM1499640 ... GSM1499656 (18 total)\n",
       "  varLabels: title geo_accession ... leishmania strain:ch1 (45 total)\n",
       "  varMetadata: labelDescription\n",
       "featureData: none\n",
       "experimentData: use 'experimentData(object)'\n",
       "  pubMedIds: 26052705 \n",
       "Annotation: GPL5175 \n"
      ]
     },
     "metadata": {},
     "output_type": "display_data"
    }
   ],
   "source": [
    "#get published processed data and metadata from GEO\n",
    "geo.gse <- getGEO(GEO=my.gse, filename=NULL, destdir=\"./geo_downloads\", \n",
    "                     GSElimits=NULL, GSEMatrix=TRUE, AnnotGPL=FALSE, \n",
    "                     getGPL=FALSE)\n",
    "geo.gse"
   ]
  },
  {
   "cell_type": "code",
   "execution_count": 4,
   "metadata": {
    "scrolled": false
   },
   "outputs": [
    {
     "data": {
      "text/html": [
       "'ExpressionSet'"
      ],
      "text/latex": [
       "'ExpressionSet'"
      ],
      "text/markdown": [
       "'ExpressionSet'"
      ],
      "text/plain": [
       "[1] \"ExpressionSet\"\n",
       "attr(,\"package\")\n",
       "[1] \"Biobase\""
      ]
     },
     "metadata": {},
     "output_type": "display_data"
    }
   ],
   "source": [
    "# data available from only one platform GPL5175\n",
    "my.geo.gse <- geo.gse[[1]]\n",
    "# object is now an ExpressionSet\n",
    "class(my.geo.gse)"
   ]
  },
  {
   "cell_type": "code",
   "execution_count": 5,
   "metadata": {
    "scrolled": false
   },
   "outputs": [
    {
     "data": {
      "text/html": [
       "<table>\n",
       "<caption>A data.frame: 3 × 45</caption>\n",
       "<thead>\n",
       "\t<tr><th></th><th scope=col>title</th><th scope=col>geo_accession</th><th scope=col>status</th><th scope=col>submission_date</th><th scope=col>last_update_date</th><th scope=col>type</th><th scope=col>channel_count</th><th scope=col>source_name_ch1</th><th scope=col>organism_ch1</th><th scope=col>characteristics_ch1</th><th scope=col>...</th><th scope=col>contact_city</th><th scope=col>contact_state</th><th scope=col>contact_zip/postal_code</th><th scope=col>contact_country</th><th scope=col>supplementary_file</th><th scope=col>data_row_count</th><th scope=col>cell line background:ch1</th><th scope=col>cell type:ch1</th><th scope=col>infected with:ch1</th><th scope=col>leishmania strain:ch1</th></tr>\n",
       "\t<tr><th></th><th scope=col>&lt;chr&gt;</th><th scope=col>&lt;chr&gt;</th><th scope=col>&lt;chr&gt;</th><th scope=col>&lt;chr&gt;</th><th scope=col>&lt;chr&gt;</th><th scope=col>&lt;chr&gt;</th><th scope=col>&lt;chr&gt;</th><th scope=col>&lt;chr&gt;</th><th scope=col>&lt;chr&gt;</th><th scope=col>&lt;chr&gt;</th><th scope=col>...</th><th scope=col>&lt;chr&gt;</th><th scope=col>&lt;chr&gt;</th><th scope=col>&lt;chr&gt;</th><th scope=col>&lt;chr&gt;</th><th scope=col>&lt;chr&gt;</th><th scope=col>&lt;chr&gt;</th><th scope=col>&lt;chr&gt;</th><th scope=col>&lt;chr&gt;</th><th scope=col>&lt;chr&gt;</th><th scope=col>&lt;chr&gt;</th></tr>\n",
       "</thead>\n",
       "<tbody>\n",
       "\t<tr><th scope=row>GSM1499639</th><td>Infected U937 derived macrophages by Leishmania braziliensis, biological replicate 1, technical replicate 1</td><td>GSM1499639</td><td>Public on Jun 10 2015</td><td>Sep 08 2014</td><td>Jun 10 2015</td><td>RNA</td><td>1</td><td>U937 derived macrophages infected by L. braziliensis for 72 h</td><td>Homo sapiens</td><td>cell line background: U937</td><td>...</td><td>BogotÃ¡ D.C.</td><td>BogotÃ¡ D.C.</td><td>1100</td><td>Colombia</td><td>ftp://ftp.ncbi.nlm.nih.gov/geo/samples/GSM1499nnn/GSM1499639/suppl/GSM1499639_S0762F0008.CEL.gz </td><td>22011</td><td>U937</td><td>U937 derived macrophages</td><td>Leishmania braziliensis</td><td>MHOM/BR/00/M2903</td></tr>\n",
       "\t<tr><th scope=row>GSM1499640</th><td>Infected U937 derived macrophages by Leishmania braziliensis, biological replicate 1, technical replicate 2</td><td>GSM1499640</td><td>Public on Jun 10 2015</td><td>Sep 08 2014</td><td>Jun 10 2015</td><td>RNA</td><td>1</td><td>U937 derived macrophages infected by L. braziliensis for 72 h</td><td>Homo sapiens</td><td>cell line background: U937</td><td>...</td><td>BogotÃ¡ D.C.</td><td>BogotÃ¡ D.C.</td><td>1100</td><td>Colombia</td><td>ftp://ftp.ncbi.nlm.nih.gov/geo/samples/GSM1499nnn/GSM1499640/suppl/GSM1499640_S0762F0016a.CEL.gz</td><td>22011</td><td>U937</td><td>U937 derived macrophages</td><td>Leishmania braziliensis</td><td>MHOM/BR/00/M2903</td></tr>\n",
       "\t<tr><th scope=row>GSM1499641</th><td>Infected U937 derived macrophages by Leishmania braziliensis, biological replicate 1, technical replicate 3</td><td>GSM1499641</td><td>Public on Jun 10 2015</td><td>Sep 08 2014</td><td>Jun 10 2015</td><td>RNA</td><td>1</td><td>U937 derived macrophages infected by L. braziliensis for 72 h</td><td>Homo sapiens</td><td>cell line background: U937</td><td>...</td><td>BogotÃ¡ D.C.</td><td>BogotÃ¡ D.C.</td><td>1100</td><td>Colombia</td><td>ftp://ftp.ncbi.nlm.nih.gov/geo/samples/GSM1499nnn/GSM1499641/suppl/GSM1499641_S0762F0013.CEL.gz </td><td>22011</td><td>U937</td><td>U937 derived macrophages</td><td>Leishmania braziliensis</td><td>MHOM/BR/00/M2903</td></tr>\n",
       "</tbody>\n",
       "</table>\n"
      ],
      "text/latex": [
       "A data.frame: 3 × 45\n",
       "\\begin{tabular}{r|lllllllllllllllllllll}\n",
       "  & title & geo\\_accession & status & submission\\_date & last\\_update\\_date & type & channel\\_count & source\\_name\\_ch1 & organism\\_ch1 & characteristics\\_ch1 & ... & contact\\_city & contact\\_state & contact\\_zip/postal\\_code & contact\\_country & supplementary\\_file & data\\_row\\_count & cell line background:ch1 & cell type:ch1 & infected with:ch1 & leishmania strain:ch1\\\\\n",
       "  & <chr> & <chr> & <chr> & <chr> & <chr> & <chr> & <chr> & <chr> & <chr> & <chr> & ... & <chr> & <chr> & <chr> & <chr> & <chr> & <chr> & <chr> & <chr> & <chr> & <chr>\\\\\n",
       "\\hline\n",
       "\tGSM1499639 & Infected U937 derived macrophages by Leishmania braziliensis, biological replicate 1, technical replicate 1 & GSM1499639 & Public on Jun 10 2015 & Sep 08 2014 & Jun 10 2015 & RNA & 1 & U937 derived macrophages infected by L. braziliensis for 72 h & Homo sapiens & cell line background: U937 & ... & BogotÃ¡ D.C. & BogotÃ¡ D.C. & 1100 & Colombia & ftp://ftp.ncbi.nlm.nih.gov/geo/samples/GSM1499nnn/GSM1499639/suppl/GSM1499639\\_S0762F0008.CEL.gz  & 22011 & U937 & U937 derived macrophages & Leishmania braziliensis & MHOM/BR/00/M2903\\\\\n",
       "\tGSM1499640 & Infected U937 derived macrophages by Leishmania braziliensis, biological replicate 1, technical replicate 2 & GSM1499640 & Public on Jun 10 2015 & Sep 08 2014 & Jun 10 2015 & RNA & 1 & U937 derived macrophages infected by L. braziliensis for 72 h & Homo sapiens & cell line background: U937 & ... & BogotÃ¡ D.C. & BogotÃ¡ D.C. & 1100 & Colombia & ftp://ftp.ncbi.nlm.nih.gov/geo/samples/GSM1499nnn/GSM1499640/suppl/GSM1499640\\_S0762F0016a.CEL.gz & 22011 & U937 & U937 derived macrophages & Leishmania braziliensis & MHOM/BR/00/M2903\\\\\n",
       "\tGSM1499641 & Infected U937 derived macrophages by Leishmania braziliensis, biological replicate 1, technical replicate 3 & GSM1499641 & Public on Jun 10 2015 & Sep 08 2014 & Jun 10 2015 & RNA & 1 & U937 derived macrophages infected by L. braziliensis for 72 h & Homo sapiens & cell line background: U937 & ... & BogotÃ¡ D.C. & BogotÃ¡ D.C. & 1100 & Colombia & ftp://ftp.ncbi.nlm.nih.gov/geo/samples/GSM1499nnn/GSM1499641/suppl/GSM1499641\\_S0762F0013.CEL.gz  & 22011 & U937 & U937 derived macrophages & Leishmania braziliensis & MHOM/BR/00/M2903\\\\\n",
       "\\end{tabular}\n"
      ],
      "text/markdown": [
       "\n",
       "A data.frame: 3 × 45\n",
       "\n",
       "| <!--/--> | title &lt;chr&gt; | geo_accession &lt;chr&gt; | status &lt;chr&gt; | submission_date &lt;chr&gt; | last_update_date &lt;chr&gt; | type &lt;chr&gt; | channel_count &lt;chr&gt; | source_name_ch1 &lt;chr&gt; | organism_ch1 &lt;chr&gt; | characteristics_ch1 &lt;chr&gt; | ... ... | contact_city &lt;chr&gt; | contact_state &lt;chr&gt; | contact_zip/postal_code &lt;chr&gt; | contact_country &lt;chr&gt; | supplementary_file &lt;chr&gt; | data_row_count &lt;chr&gt; | cell line background:ch1 &lt;chr&gt; | cell type:ch1 &lt;chr&gt; | infected with:ch1 &lt;chr&gt; | leishmania strain:ch1 &lt;chr&gt; |\n",
       "|---|---|---|---|---|---|---|---|---|---|---|---|---|---|---|---|---|---|---|---|---|---|\n",
       "| GSM1499639 | Infected U937 derived macrophages by Leishmania braziliensis, biological replicate 1, technical replicate 1 | GSM1499639 | Public on Jun 10 2015 | Sep 08 2014 | Jun 10 2015 | RNA | 1 | U937 derived macrophages infected by L. braziliensis for 72 h | Homo sapiens | cell line background: U937 | ... | BogotÃ¡ D.C. | BogotÃ¡ D.C. | 1100 | Colombia | ftp://ftp.ncbi.nlm.nih.gov/geo/samples/GSM1499nnn/GSM1499639/suppl/GSM1499639_S0762F0008.CEL.gz  | 22011 | U937 | U937 derived macrophages | Leishmania braziliensis | MHOM/BR/00/M2903 |\n",
       "| GSM1499640 | Infected U937 derived macrophages by Leishmania braziliensis, biological replicate 1, technical replicate 2 | GSM1499640 | Public on Jun 10 2015 | Sep 08 2014 | Jun 10 2015 | RNA | 1 | U937 derived macrophages infected by L. braziliensis for 72 h | Homo sapiens | cell line background: U937 | ... | BogotÃ¡ D.C. | BogotÃ¡ D.C. | 1100 | Colombia | ftp://ftp.ncbi.nlm.nih.gov/geo/samples/GSM1499nnn/GSM1499640/suppl/GSM1499640_S0762F0016a.CEL.gz | 22011 | U937 | U937 derived macrophages | Leishmania braziliensis | MHOM/BR/00/M2903 |\n",
       "| GSM1499641 | Infected U937 derived macrophages by Leishmania braziliensis, biological replicate 1, technical replicate 3 | GSM1499641 | Public on Jun 10 2015 | Sep 08 2014 | Jun 10 2015 | RNA | 1 | U937 derived macrophages infected by L. braziliensis for 72 h | Homo sapiens | cell line background: U937 | ... | BogotÃ¡ D.C. | BogotÃ¡ D.C. | 1100 | Colombia | ftp://ftp.ncbi.nlm.nih.gov/geo/samples/GSM1499nnn/GSM1499641/suppl/GSM1499641_S0762F0013.CEL.gz  | 22011 | U937 | U937 derived macrophages | Leishmania braziliensis | MHOM/BR/00/M2903 |\n",
       "\n"
      ],
      "text/plain": [
       "           title                                                                                                      \n",
       "GSM1499639 Infected U937 derived macrophages by Leishmania braziliensis, biological replicate 1, technical replicate 1\n",
       "GSM1499640 Infected U937 derived macrophages by Leishmania braziliensis, biological replicate 1, technical replicate 2\n",
       "GSM1499641 Infected U937 derived macrophages by Leishmania braziliensis, biological replicate 1, technical replicate 3\n",
       "           geo_accession status                submission_date last_update_date\n",
       "GSM1499639 GSM1499639    Public on Jun 10 2015 Sep 08 2014     Jun 10 2015     \n",
       "GSM1499640 GSM1499640    Public on Jun 10 2015 Sep 08 2014     Jun 10 2015     \n",
       "GSM1499641 GSM1499641    Public on Jun 10 2015 Sep 08 2014     Jun 10 2015     \n",
       "           type channel_count\n",
       "GSM1499639 RNA  1            \n",
       "GSM1499640 RNA  1            \n",
       "GSM1499641 RNA  1            \n",
       "           source_name_ch1                                              \n",
       "GSM1499639 U937 derived macrophages infected by L. braziliensis for 72 h\n",
       "GSM1499640 U937 derived macrophages infected by L. braziliensis for 72 h\n",
       "GSM1499641 U937 derived macrophages infected by L. braziliensis for 72 h\n",
       "           organism_ch1 characteristics_ch1        ... contact_city\n",
       "GSM1499639 Homo sapiens cell line background: U937 ... BogotÃ¡ D.C.\n",
       "GSM1499640 Homo sapiens cell line background: U937 ... BogotÃ¡ D.C.\n",
       "GSM1499641 Homo sapiens cell line background: U937 ... BogotÃ¡ D.C.\n",
       "           contact_state contact_zip/postal_code contact_country\n",
       "GSM1499639 BogotÃ¡ D.C.  1100                    Colombia       \n",
       "GSM1499640 BogotÃ¡ D.C.  1100                    Colombia       \n",
       "GSM1499641 BogotÃ¡ D.C.  1100                    Colombia       \n",
       "           supplementary_file                                                                              \n",
       "GSM1499639 ftp://ftp.ncbi.nlm.nih.gov/geo/samples/GSM1499nnn/GSM1499639/suppl/GSM1499639_S0762F0008.CEL.gz \n",
       "GSM1499640 ftp://ftp.ncbi.nlm.nih.gov/geo/samples/GSM1499nnn/GSM1499640/suppl/GSM1499640_S0762F0016a.CEL.gz\n",
       "GSM1499641 ftp://ftp.ncbi.nlm.nih.gov/geo/samples/GSM1499nnn/GSM1499641/suppl/GSM1499641_S0762F0013.CEL.gz \n",
       "           data_row_count cell line background:ch1 cell type:ch1           \n",
       "GSM1499639 22011          U937                     U937 derived macrophages\n",
       "GSM1499640 22011          U937                     U937 derived macrophages\n",
       "GSM1499641 22011          U937                     U937 derived macrophages\n",
       "           infected with:ch1       leishmania strain:ch1\n",
       "GSM1499639 Leishmania braziliensis MHOM/BR/00/M2903     \n",
       "GSM1499640 Leishmania braziliensis MHOM/BR/00/M2903     \n",
       "GSM1499641 Leishmania braziliensis MHOM/BR/00/M2903     "
      ]
     },
     "metadata": {},
     "output_type": "display_data"
    },
    {
     "data": {
      "text/html": [
       "<style>\n",
       ".list-inline {list-style: none; margin:0; padding: 0}\n",
       ".list-inline>li {display: inline-block}\n",
       ".list-inline>li:not(:last-child)::after {content: \"\\00b7\"; padding: 0 .5ex}\n",
       "</style>\n",
       "<ol class=list-inline><li>18</li><li>45</li></ol>\n"
      ],
      "text/latex": [
       "\\begin{enumerate*}\n",
       "\\item 18\n",
       "\\item 45\n",
       "\\end{enumerate*}\n"
      ],
      "text/markdown": [
       "1. 18\n",
       "2. 45\n",
       "\n",
       "\n"
      ],
      "text/plain": [
       "[1] 18 45"
      ]
     },
     "metadata": {},
     "output_type": "display_data"
    },
    {
     "data": {
      "text/html": [
       "<table>\n",
       "<caption>A matrix: 3 × 18 of type dbl</caption>\n",
       "<thead>\n",
       "\t<tr><th></th><th scope=col>GSM1499639</th><th scope=col>GSM1499640</th><th scope=col>GSM1499641</th><th scope=col>GSM1499642</th><th scope=col>GSM1499643</th><th scope=col>GSM1499644</th><th scope=col>GSM1499645</th><th scope=col>GSM1499646</th><th scope=col>GSM1499647</th><th scope=col>GSM1499648</th><th scope=col>GSM1499649</th><th scope=col>GSM1499650</th><th scope=col>GSM1499651</th><th scope=col>GSM1499652</th><th scope=col>GSM1499653</th><th scope=col>GSM1499654</th><th scope=col>GSM1499655</th><th scope=col>GSM1499656</th></tr>\n",
       "</thead>\n",
       "<tbody>\n",
       "\t<tr><th scope=row>2315554</th><td>6.00</td><td>5.77</td><td>5.95</td><td>5.80</td><td>5.73</td><td>5.91</td><td>5.84</td><td>5.84</td><td>5.88</td><td>5.51</td><td>5.74</td><td>5.76</td><td>5.90</td><td>5.72</td><td>5.76</td><td>5.69</td><td>5.74</td><td>5.69</td></tr>\n",
       "\t<tr><th scope=row>2315633</th><td>6.65</td><td>6.93</td><td>6.82</td><td>6.21</td><td>6.64</td><td>6.61</td><td>6.83</td><td>6.50</td><td>6.46</td><td>6.64</td><td>6.78</td><td>6.76</td><td>6.62</td><td>6.52</td><td>6.57</td><td>6.42</td><td>6.20</td><td>6.07</td></tr>\n",
       "\t<tr><th scope=row>2315674</th><td>6.07</td><td>5.92</td><td>6.08</td><td>5.99</td><td>5.96</td><td>5.95</td><td>5.90</td><td>5.79</td><td>5.83</td><td>5.92</td><td>5.77</td><td>5.95</td><td>5.89</td><td>5.88</td><td>5.68</td><td>5.67</td><td>5.57</td><td>5.67</td></tr>\n",
       "</tbody>\n",
       "</table>\n"
      ],
      "text/latex": [
       "A matrix: 3 × 18 of type dbl\n",
       "\\begin{tabular}{r|llllllllllllllllll}\n",
       "  & GSM1499639 & GSM1499640 & GSM1499641 & GSM1499642 & GSM1499643 & GSM1499644 & GSM1499645 & GSM1499646 & GSM1499647 & GSM1499648 & GSM1499649 & GSM1499650 & GSM1499651 & GSM1499652 & GSM1499653 & GSM1499654 & GSM1499655 & GSM1499656\\\\\n",
       "\\hline\n",
       "\t2315554 & 6.00 & 5.77 & 5.95 & 5.80 & 5.73 & 5.91 & 5.84 & 5.84 & 5.88 & 5.51 & 5.74 & 5.76 & 5.90 & 5.72 & 5.76 & 5.69 & 5.74 & 5.69\\\\\n",
       "\t2315633 & 6.65 & 6.93 & 6.82 & 6.21 & 6.64 & 6.61 & 6.83 & 6.50 & 6.46 & 6.64 & 6.78 & 6.76 & 6.62 & 6.52 & 6.57 & 6.42 & 6.20 & 6.07\\\\\n",
       "\t2315674 & 6.07 & 5.92 & 6.08 & 5.99 & 5.96 & 5.95 & 5.90 & 5.79 & 5.83 & 5.92 & 5.77 & 5.95 & 5.89 & 5.88 & 5.68 & 5.67 & 5.57 & 5.67\\\\\n",
       "\\end{tabular}\n"
      ],
      "text/markdown": [
       "\n",
       "A matrix: 3 × 18 of type dbl\n",
       "\n",
       "| <!--/--> | GSM1499639 | GSM1499640 | GSM1499641 | GSM1499642 | GSM1499643 | GSM1499644 | GSM1499645 | GSM1499646 | GSM1499647 | GSM1499648 | GSM1499649 | GSM1499650 | GSM1499651 | GSM1499652 | GSM1499653 | GSM1499654 | GSM1499655 | GSM1499656 |\n",
       "|---|---|---|---|---|---|---|---|---|---|---|---|---|---|---|---|---|---|---|\n",
       "| 2315554 | 6.00 | 5.77 | 5.95 | 5.80 | 5.73 | 5.91 | 5.84 | 5.84 | 5.88 | 5.51 | 5.74 | 5.76 | 5.90 | 5.72 | 5.76 | 5.69 | 5.74 | 5.69 |\n",
       "| 2315633 | 6.65 | 6.93 | 6.82 | 6.21 | 6.64 | 6.61 | 6.83 | 6.50 | 6.46 | 6.64 | 6.78 | 6.76 | 6.62 | 6.52 | 6.57 | 6.42 | 6.20 | 6.07 |\n",
       "| 2315674 | 6.07 | 5.92 | 6.08 | 5.99 | 5.96 | 5.95 | 5.90 | 5.79 | 5.83 | 5.92 | 5.77 | 5.95 | 5.89 | 5.88 | 5.68 | 5.67 | 5.57 | 5.67 |\n",
       "\n"
      ],
      "text/plain": [
       "        GSM1499639 GSM1499640 GSM1499641 GSM1499642 GSM1499643 GSM1499644\n",
       "2315554 6.00       5.77       5.95       5.80       5.73       5.91      \n",
       "2315633 6.65       6.93       6.82       6.21       6.64       6.61      \n",
       "2315674 6.07       5.92       6.08       5.99       5.96       5.95      \n",
       "        GSM1499645 GSM1499646 GSM1499647 GSM1499648 GSM1499649 GSM1499650\n",
       "2315554 5.84       5.84       5.88       5.51       5.74       5.76      \n",
       "2315633 6.83       6.50       6.46       6.64       6.78       6.76      \n",
       "2315674 5.90       5.79       5.83       5.92       5.77       5.95      \n",
       "        GSM1499651 GSM1499652 GSM1499653 GSM1499654 GSM1499655 GSM1499656\n",
       "2315554 5.90       5.72       5.76       5.69       5.74       5.69      \n",
       "2315633 6.62       6.52       6.57       6.42       6.20       6.07      \n",
       "2315674 5.89       5.88       5.68       5.67       5.57       5.67      "
      ]
     },
     "metadata": {},
     "output_type": "display_data"
    },
    {
     "data": {
      "text/html": [
       "<style>\n",
       ".list-inline {list-style: none; margin:0; padding: 0}\n",
       ".list-inline>li {display: inline-block}\n",
       ".list-inline>li:not(:last-child)::after {content: \"\\00b7\"; padding: 0 .5ex}\n",
       "</style>\n",
       "<ol class=list-inline><li>22011</li><li>18</li></ol>\n"
      ],
      "text/latex": [
       "\\begin{enumerate*}\n",
       "\\item 22011\n",
       "\\item 18\n",
       "\\end{enumerate*}\n"
      ],
      "text/markdown": [
       "1. 22011\n",
       "2. 18\n",
       "\n",
       "\n"
      ],
      "text/plain": [
       "[1] 22011    18"
      ]
     },
     "metadata": {},
     "output_type": "display_data"
    }
   ],
   "source": [
    "# The phenotype data is contained inside pData slot. \n",
    "head(pData(my.geo.gse),3)\n",
    "dim(pData(my.geo.gse))\n",
    "# the expression matrix is contained inside exprs slot\n",
    "head(exprs(my.geo.gse),3)\n",
    "dim(exprs(my.geo.gse))"
   ]
  },
  {
   "cell_type": "markdown",
   "metadata": {},
   "source": [
    "***Samples present are:***<br>\n",
    "`(9 brazilensis + 9 control) = 18 samples`"
   ]
  },
  {
   "cell_type": "markdown",
   "metadata": {},
   "source": [
    "# Preparing the Phenodata"
   ]
  },
  {
   "cell_type": "code",
   "execution_count": 6,
   "metadata": {},
   "outputs": [
    {
     "data": {
      "text/html": [
       "<table>\n",
       "<caption>A data.frame: 2 × 5</caption>\n",
       "<thead>\n",
       "\t<tr><th></th><th scope=col>title</th><th scope=col>geo_accession</th><th scope=col>source_name</th><th scope=col>organism</th><th scope=col>strain</th></tr>\n",
       "\t<tr><th></th><th scope=col>&lt;chr&gt;</th><th scope=col>&lt;chr&gt;</th><th scope=col>&lt;chr&gt;</th><th scope=col>&lt;chr&gt;</th><th scope=col>&lt;chr&gt;</th></tr>\n",
       "</thead>\n",
       "<tbody>\n",
       "\t<tr><th scope=row>1</th><td>Infected U937 derived macrophages by Leishmania braziliensis, biological replicate 1, technical replicate 1</td><td>GSM1499639</td><td>U937 derived macrophages infected by L. braziliensis for 72 h</td><td>Homo sapiens</td><td>MHOM/BR/00/M2903</td></tr>\n",
       "\t<tr><th scope=row>2</th><td>Infected U937 derived macrophages by Leishmania braziliensis, biological replicate 1, technical replicate 2</td><td>GSM1499640</td><td>U937 derived macrophages infected by L. braziliensis for 72 h</td><td>Homo sapiens</td><td>MHOM/BR/00/M2903</td></tr>\n",
       "</tbody>\n",
       "</table>\n"
      ],
      "text/latex": [
       "A data.frame: 2 × 5\n",
       "\\begin{tabular}{r|lllll}\n",
       "  & title & geo\\_accession & source\\_name & organism & strain\\\\\n",
       "  & <chr> & <chr> & <chr> & <chr> & <chr>\\\\\n",
       "\\hline\n",
       "\t1 & Infected U937 derived macrophages by Leishmania braziliensis, biological replicate 1, technical replicate 1 & GSM1499639 & U937 derived macrophages infected by L. braziliensis for 72 h & Homo sapiens & MHOM/BR/00/M2903\\\\\n",
       "\t2 & Infected U937 derived macrophages by Leishmania braziliensis, biological replicate 1, technical replicate 2 & GSM1499640 & U937 derived macrophages infected by L. braziliensis for 72 h & Homo sapiens & MHOM/BR/00/M2903\\\\\n",
       "\\end{tabular}\n"
      ],
      "text/markdown": [
       "\n",
       "A data.frame: 2 × 5\n",
       "\n",
       "| <!--/--> | title &lt;chr&gt; | geo_accession &lt;chr&gt; | source_name &lt;chr&gt; | organism &lt;chr&gt; | strain &lt;chr&gt; |\n",
       "|---|---|---|---|---|---|\n",
       "| 1 | Infected U937 derived macrophages by Leishmania braziliensis, biological replicate 1, technical replicate 1 | GSM1499639 | U937 derived macrophages infected by L. braziliensis for 72 h | Homo sapiens | MHOM/BR/00/M2903 |\n",
       "| 2 | Infected U937 derived macrophages by Leishmania braziliensis, biological replicate 1, technical replicate 2 | GSM1499640 | U937 derived macrophages infected by L. braziliensis for 72 h | Homo sapiens | MHOM/BR/00/M2903 |\n",
       "\n"
      ],
      "text/plain": [
       "  title                                                                                                      \n",
       "1 Infected U937 derived macrophages by Leishmania braziliensis, biological replicate 1, technical replicate 1\n",
       "2 Infected U937 derived macrophages by Leishmania braziliensis, biological replicate 1, technical replicate 2\n",
       "  geo_accession source_name                                                  \n",
       "1 GSM1499639    U937 derived macrophages infected by L. braziliensis for 72 h\n",
       "2 GSM1499640    U937 derived macrophages infected by L. braziliensis for 72 h\n",
       "  organism     strain          \n",
       "1 Homo sapiens MHOM/BR/00/M2903\n",
       "2 Homo sapiens MHOM/BR/00/M2903"
      ]
     },
     "metadata": {},
     "output_type": "display_data"
    }
   ],
   "source": [
    "# make data frame of phenotypic Data\n",
    "pdata <- as.data.frame(pData(my.geo.gse), stringsAsFactors=F)\n",
    "\n",
    "# column to retain from pheonotype dataframe\n",
    "names<-c(\"title\",\"geo_accession\",\"source_name\",\"organism\",\"species\" ,\"strain\",\"time\")\n",
    "my.pdata<-data.frame()\n",
    "\n",
    "for(col in names){\n",
    "    store<- data.frame(pdata[,grepl(col,colnames(pdata))])\n",
    "    if(dim(store)[2]!=0){\n",
    "        colnames(store)<- col\n",
    "        if(dim(my.pdata)[2]==0){\n",
    "            my.pdata<- store\n",
    "        }\n",
    "        else if(dim(my.pdata)[1]==dim(store)[1]){\n",
    "            my.pdata[col]<- store\n",
    "        }\n",
    "    }\n",
    "}\n",
    "head(my.pdata,2)"
   ]
  },
  {
   "cell_type": "code",
   "execution_count": 7,
   "metadata": {},
   "outputs": [
    {
     "data": {
      "text/html": [
       "<table>\n",
       "<caption>A data.frame: 3 × 6</caption>\n",
       "<thead>\n",
       "\t<tr><th></th><th scope=col>title</th><th scope=col>geo_accession</th><th scope=col>source_name</th><th scope=col>organism</th><th scope=col>strain</th><th scope=col>group</th></tr>\n",
       "\t<tr><th></th><th scope=col>&lt;chr&gt;</th><th scope=col>&lt;chr&gt;</th><th scope=col>&lt;chr&gt;</th><th scope=col>&lt;chr&gt;</th><th scope=col>&lt;chr&gt;</th><th scope=col>&lt;chr&gt;</th></tr>\n",
       "</thead>\n",
       "<tbody>\n",
       "\t<tr><th scope=row>GSM1499639</th><td>Infected U937 derived macrophages by Leishmania braziliensis, biological replicate 1, technical replicate 1</td><td>GSM1499639</td><td>U937 derived macrophages infected by L. braziliensis for 72 h</td><td>Homo sapiens</td><td>MHOM/BR/00/M2903</td><td>L.braziliensis</td></tr>\n",
       "\t<tr><th scope=row>GSM1499640</th><td>Infected U937 derived macrophages by Leishmania braziliensis, biological replicate 1, technical replicate 2</td><td>GSM1499640</td><td>U937 derived macrophages infected by L. braziliensis for 72 h</td><td>Homo sapiens</td><td>MHOM/BR/00/M2903</td><td>L.braziliensis</td></tr>\n",
       "\t<tr><th scope=row>GSM1499641</th><td>Infected U937 derived macrophages by Leishmania braziliensis, biological replicate 1, technical replicate 3</td><td>GSM1499641</td><td>U937 derived macrophages infected by L. braziliensis for 72 h</td><td>Homo sapiens</td><td>MHOM/BR/00/M2903</td><td>L.braziliensis</td></tr>\n",
       "</tbody>\n",
       "</table>\n"
      ],
      "text/latex": [
       "A data.frame: 3 × 6\n",
       "\\begin{tabular}{r|llllll}\n",
       "  & title & geo\\_accession & source\\_name & organism & strain & group\\\\\n",
       "  & <chr> & <chr> & <chr> & <chr> & <chr> & <chr>\\\\\n",
       "\\hline\n",
       "\tGSM1499639 & Infected U937 derived macrophages by Leishmania braziliensis, biological replicate 1, technical replicate 1 & GSM1499639 & U937 derived macrophages infected by L. braziliensis for 72 h & Homo sapiens & MHOM/BR/00/M2903 & L.braziliensis\\\\\n",
       "\tGSM1499640 & Infected U937 derived macrophages by Leishmania braziliensis, biological replicate 1, technical replicate 2 & GSM1499640 & U937 derived macrophages infected by L. braziliensis for 72 h & Homo sapiens & MHOM/BR/00/M2903 & L.braziliensis\\\\\n",
       "\tGSM1499641 & Infected U937 derived macrophages by Leishmania braziliensis, biological replicate 1, technical replicate 3 & GSM1499641 & U937 derived macrophages infected by L. braziliensis for 72 h & Homo sapiens & MHOM/BR/00/M2903 & L.braziliensis\\\\\n",
       "\\end{tabular}\n"
      ],
      "text/markdown": [
       "\n",
       "A data.frame: 3 × 6\n",
       "\n",
       "| <!--/--> | title &lt;chr&gt; | geo_accession &lt;chr&gt; | source_name &lt;chr&gt; | organism &lt;chr&gt; | strain &lt;chr&gt; | group &lt;chr&gt; |\n",
       "|---|---|---|---|---|---|---|\n",
       "| GSM1499639 | Infected U937 derived macrophages by Leishmania braziliensis, biological replicate 1, technical replicate 1 | GSM1499639 | U937 derived macrophages infected by L. braziliensis for 72 h | Homo sapiens | MHOM/BR/00/M2903 | L.braziliensis |\n",
       "| GSM1499640 | Infected U937 derived macrophages by Leishmania braziliensis, biological replicate 1, technical replicate 2 | GSM1499640 | U937 derived macrophages infected by L. braziliensis for 72 h | Homo sapiens | MHOM/BR/00/M2903 | L.braziliensis |\n",
       "| GSM1499641 | Infected U937 derived macrophages by Leishmania braziliensis, biological replicate 1, technical replicate 3 | GSM1499641 | U937 derived macrophages infected by L. braziliensis for 72 h | Homo sapiens | MHOM/BR/00/M2903 | L.braziliensis |\n",
       "\n"
      ],
      "text/plain": [
       "           title                                                                                                      \n",
       "GSM1499639 Infected U937 derived macrophages by Leishmania braziliensis, biological replicate 1, technical replicate 1\n",
       "GSM1499640 Infected U937 derived macrophages by Leishmania braziliensis, biological replicate 1, technical replicate 2\n",
       "GSM1499641 Infected U937 derived macrophages by Leishmania braziliensis, biological replicate 1, technical replicate 3\n",
       "           geo_accession\n",
       "GSM1499639 GSM1499639   \n",
       "GSM1499640 GSM1499640   \n",
       "GSM1499641 GSM1499641   \n",
       "           source_name                                                  \n",
       "GSM1499639 U937 derived macrophages infected by L. braziliensis for 72 h\n",
       "GSM1499640 U937 derived macrophages infected by L. braziliensis for 72 h\n",
       "GSM1499641 U937 derived macrophages infected by L. braziliensis for 72 h\n",
       "           organism     strain           group         \n",
       "GSM1499639 Homo sapiens MHOM/BR/00/M2903 L.braziliensis\n",
       "GSM1499640 Homo sapiens MHOM/BR/00/M2903 L.braziliensis\n",
       "GSM1499641 Homo sapiens MHOM/BR/00/M2903 L.braziliensis"
      ]
     },
     "metadata": {},
     "output_type": "display_data"
    },
    {
     "data": {
      "text/plain": [
       "\n",
       "       control L.braziliensis \n",
       "             9              9 "
      ]
     },
     "metadata": {},
     "output_type": "display_data"
    }
   ],
   "source": [
    "# allocate groups\n",
    "my.pdata[[\"group\"]]<-c(rep(\"L.braziliensis\",c(1),9),\n",
    "                       rep(\"control\",9) )\n",
    "rownames(my.pdata)<-my.pdata$geo_accession\n",
    "head(my.pdata,3)\n",
    "# num of replicates in each group\n",
    "table(my.pdata$group)"
   ]
  },
  {
   "cell_type": "code",
   "execution_count": 8,
   "metadata": {},
   "outputs": [],
   "source": [
    "# store processed phenotype data\n",
    "write.table(my.pdata, file=paste0(\"results/\",my.gse,\"_PhenoData.txt\"), \n",
    "            sep=\"\\t\", quote=F,col.names=NA)"
   ]
  },
  {
   "cell_type": "markdown",
   "metadata": {},
   "source": [
    "# Preparing Gene Expression Data<br>"
   ]
  },
  {
   "cell_type": "markdown",
   "metadata": {},
   "source": [
    "## Normalize Expression Data"
   ]
  },
  {
   "cell_type": "code",
   "execution_count": 9,
   "metadata": {},
   "outputs": [
    {
     "data": {
      "text/html": [
       "FALSE"
      ],
      "text/latex": [
       "FALSE"
      ],
      "text/markdown": [
       "FALSE"
      ],
      "text/plain": [
       "[1] FALSE"
      ]
     },
     "metadata": {},
     "output_type": "display_data"
    }
   ],
   "source": [
    "# cal 0%,25%,50%,75%,99%,100% quantile of expreesion data.\n",
    "qx <- as.numeric(quantile(exprs(my.geo.gse), c(0., 0.25, 0.5, 0.75, 0.99, 1.0), na.rm=T))\n",
    "\n",
    "# check if data need to be normalized \n",
    "LogC <- (qx[5] > 100) ||\n",
    "          (qx[6]-qx[1] > 50 && qx[2] > 0) ||\n",
    "          (qx[2] > 0 && qx[2] < 1 && qx[4] > 1 && qx[4] < 2)\n",
    "LogC"
   ]
  },
  {
   "cell_type": "code",
   "execution_count": 10,
   "metadata": {},
   "outputs": [
    {
     "data": {
      "text/html": [
       "<table>\n",
       "<caption>A matrix: 3 × 18 of type dbl</caption>\n",
       "<thead>\n",
       "\t<tr><th></th><th scope=col>GSM1499639</th><th scope=col>GSM1499640</th><th scope=col>GSM1499641</th><th scope=col>GSM1499642</th><th scope=col>GSM1499643</th><th scope=col>GSM1499644</th><th scope=col>GSM1499645</th><th scope=col>GSM1499646</th><th scope=col>GSM1499647</th><th scope=col>GSM1499648</th><th scope=col>GSM1499649</th><th scope=col>GSM1499650</th><th scope=col>GSM1499651</th><th scope=col>GSM1499652</th><th scope=col>GSM1499653</th><th scope=col>GSM1499654</th><th scope=col>GSM1499655</th><th scope=col>GSM1499656</th></tr>\n",
       "</thead>\n",
       "<tbody>\n",
       "\t<tr><th scope=row>2315554</th><td>6.00</td><td>5.77</td><td>5.95</td><td>5.80</td><td>5.73</td><td>5.91</td><td>5.84</td><td>5.84</td><td>5.88</td><td>5.51</td><td>5.74</td><td>5.76</td><td>5.90</td><td>5.72</td><td>5.76</td><td>5.69</td><td>5.74</td><td>5.69</td></tr>\n",
       "\t<tr><th scope=row>2315633</th><td>6.65</td><td>6.93</td><td>6.82</td><td>6.21</td><td>6.64</td><td>6.61</td><td>6.83</td><td>6.50</td><td>6.46</td><td>6.64</td><td>6.78</td><td>6.76</td><td>6.62</td><td>6.52</td><td>6.57</td><td>6.42</td><td>6.20</td><td>6.07</td></tr>\n",
       "\t<tr><th scope=row>2315674</th><td>6.07</td><td>5.92</td><td>6.08</td><td>5.99</td><td>5.96</td><td>5.95</td><td>5.90</td><td>5.79</td><td>5.83</td><td>5.92</td><td>5.77</td><td>5.95</td><td>5.89</td><td>5.88</td><td>5.68</td><td>5.67</td><td>5.57</td><td>5.67</td></tr>\n",
       "</tbody>\n",
       "</table>\n"
      ],
      "text/latex": [
       "A matrix: 3 × 18 of type dbl\n",
       "\\begin{tabular}{r|llllllllllllllllll}\n",
       "  & GSM1499639 & GSM1499640 & GSM1499641 & GSM1499642 & GSM1499643 & GSM1499644 & GSM1499645 & GSM1499646 & GSM1499647 & GSM1499648 & GSM1499649 & GSM1499650 & GSM1499651 & GSM1499652 & GSM1499653 & GSM1499654 & GSM1499655 & GSM1499656\\\\\n",
       "\\hline\n",
       "\t2315554 & 6.00 & 5.77 & 5.95 & 5.80 & 5.73 & 5.91 & 5.84 & 5.84 & 5.88 & 5.51 & 5.74 & 5.76 & 5.90 & 5.72 & 5.76 & 5.69 & 5.74 & 5.69\\\\\n",
       "\t2315633 & 6.65 & 6.93 & 6.82 & 6.21 & 6.64 & 6.61 & 6.83 & 6.50 & 6.46 & 6.64 & 6.78 & 6.76 & 6.62 & 6.52 & 6.57 & 6.42 & 6.20 & 6.07\\\\\n",
       "\t2315674 & 6.07 & 5.92 & 6.08 & 5.99 & 5.96 & 5.95 & 5.90 & 5.79 & 5.83 & 5.92 & 5.77 & 5.95 & 5.89 & 5.88 & 5.68 & 5.67 & 5.57 & 5.67\\\\\n",
       "\\end{tabular}\n"
      ],
      "text/markdown": [
       "\n",
       "A matrix: 3 × 18 of type dbl\n",
       "\n",
       "| <!--/--> | GSM1499639 | GSM1499640 | GSM1499641 | GSM1499642 | GSM1499643 | GSM1499644 | GSM1499645 | GSM1499646 | GSM1499647 | GSM1499648 | GSM1499649 | GSM1499650 | GSM1499651 | GSM1499652 | GSM1499653 | GSM1499654 | GSM1499655 | GSM1499656 |\n",
       "|---|---|---|---|---|---|---|---|---|---|---|---|---|---|---|---|---|---|---|\n",
       "| 2315554 | 6.00 | 5.77 | 5.95 | 5.80 | 5.73 | 5.91 | 5.84 | 5.84 | 5.88 | 5.51 | 5.74 | 5.76 | 5.90 | 5.72 | 5.76 | 5.69 | 5.74 | 5.69 |\n",
       "| 2315633 | 6.65 | 6.93 | 6.82 | 6.21 | 6.64 | 6.61 | 6.83 | 6.50 | 6.46 | 6.64 | 6.78 | 6.76 | 6.62 | 6.52 | 6.57 | 6.42 | 6.20 | 6.07 |\n",
       "| 2315674 | 6.07 | 5.92 | 6.08 | 5.99 | 5.96 | 5.95 | 5.90 | 5.79 | 5.83 | 5.92 | 5.77 | 5.95 | 5.89 | 5.88 | 5.68 | 5.67 | 5.57 | 5.67 |\n",
       "\n"
      ],
      "text/plain": [
       "        GSM1499639 GSM1499640 GSM1499641 GSM1499642 GSM1499643 GSM1499644\n",
       "2315554 6.00       5.77       5.95       5.80       5.73       5.91      \n",
       "2315633 6.65       6.93       6.82       6.21       6.64       6.61      \n",
       "2315674 6.07       5.92       6.08       5.99       5.96       5.95      \n",
       "        GSM1499645 GSM1499646 GSM1499647 GSM1499648 GSM1499649 GSM1499650\n",
       "2315554 5.84       5.84       5.88       5.51       5.74       5.76      \n",
       "2315633 6.83       6.50       6.46       6.64       6.78       6.76      \n",
       "2315674 5.90       5.79       5.83       5.92       5.77       5.95      \n",
       "        GSM1499651 GSM1499652 GSM1499653 GSM1499654 GSM1499655 GSM1499656\n",
       "2315554 5.90       5.72       5.76       5.69       5.74       5.69      \n",
       "2315633 6.62       6.52       6.57       6.42       6.20       6.07      \n",
       "2315674 5.89       5.88       5.68       5.67       5.57       5.67      "
      ]
     },
     "metadata": {},
     "output_type": "display_data"
    }
   ],
   "source": [
    "assayData<-exprs(my.geo.gse)\n",
    "if (LogC) { \n",
    "    assayData[which(assayData<= 0)] <- NaN\n",
    "    # take log2 transform\n",
    "    assayData<-na.omit(log2(assayData))\n",
    "}\n",
    "# prpare an Expression Set\n",
    "my.rma<-ExpressionSet(assayData=assayData,\n",
    "                      phenoData=AnnotatedDataFrame(my.pdata))\n",
    "head(exprs(my.rma),3)"
   ]
  },
  {
   "cell_type": "code",
   "execution_count": 11,
   "metadata": {},
   "outputs": [],
   "source": [
    "# save expression values\n",
    "write.table(exprs(my.rma), file=paste0(\"results/\",my.gse,\"_NormExprsData.txt\"),\n",
    "            sep=\"\\t\", quote=FALSE, col.names=NA)"
   ]
  },
  {
   "cell_type": "markdown",
   "metadata": {},
   "source": [
    "## Check Normalization"
   ]
  },
  {
   "cell_type": "code",
   "execution_count": 12,
   "metadata": {},
   "outputs": [
    {
     "name": "stderr",
     "output_type": "stream",
     "text": [
      "\n",
      "Attaching package: 'limma'\n",
      "\n",
      "\n",
      "The following object is masked from 'package:oligo':\n",
      "\n",
      "    backgroundCorrect\n",
      "\n",
      "\n",
      "The following object is masked from 'package:BiocGenerics':\n",
      "\n",
      "    plotMA\n",
      "\n",
      "\n"
     ]
    }
   ],
   "source": [
    "library(RColorBrewer)\n",
    "library(limma)"
   ]
  },
  {
   "cell_type": "code",
   "execution_count": 13,
   "metadata": {},
   "outputs": [],
   "source": [
    "# select colour for each group\n",
    "group.color <- brewer.pal(7, \"Dark2\")\n",
    "# allocate colour to each sample\n",
    "sample.color <- group.color[unname(factor(my.pdata$group))]"
   ]
  },
  {
   "cell_type": "code",
   "execution_count": 14,
   "metadata": {},
   "outputs": [],
   "source": [
    "if(!file.exists(\"results/SamplesPlot\"))  dir.create(\"results/SamplesPlot\", recursive=TRUE)"
   ]
  },
  {
   "cell_type": "code",
   "execution_count": 15,
   "metadata": {},
   "outputs": [
    {
     "data": {
      "text/html": [
       "<strong>png:</strong> 2"
      ],
      "text/latex": [
       "\\textbf{png:} 2"
      ],
      "text/markdown": [
       "**png:** 2"
      ],
      "text/plain": [
       "png \n",
       "  2 "
      ]
     },
     "metadata": {},
     "output_type": "display_data"
    }
   ],
   "source": [
    "svg(\"results/SamplesPlot/DensityPlot.svg\")\n",
    "par(mar=c(6,4,4,10),xpd=TRUE)\n",
    "plotDensities(exprs(my.rma), legend=F, col=sample.color, main=\"Arrays Normalized?\")\n",
    "legend(\"topright\",title=\"Samples\",inset=c(-0.43,0),box.lwd=0.2, legend=levels(factor(pData(my.rma)$group)), fill=group.color)\n",
    "dev.off()"
   ]
  },
  {
   "cell_type": "code",
   "execution_count": 17,
   "metadata": {},
   "outputs": [
    {
     "data": {
      "text/html": [
       "<strong>png:</strong> 2"
      ],
      "text/latex": [
       "\\textbf{png:} 2"
      ],
      "text/markdown": [
       "**png:** 2"
      ],
      "text/plain": [
       "png \n",
       "  2 "
      ]
     },
     "metadata": {},
     "output_type": "display_data"
    }
   ],
   "source": [
    "svg(\"results/SamplesPlot/BoxPlot.svg\")\n",
    "par(mar=c(8,4,4,10),xpd=TRUE)\n",
    "boxplot(exprs(my.rma), las=2, names=pData(my.rma)$group, \n",
    "        outline=F, col=sample.color, main=\"Arrays Normalized?\")\n",
    "legend(\"topright\",title=\"Samples\",inset=c(-0.43,0),box.lwd=0.5, legend=levels(factor(pData(my.rma)$group)), fill=group.color)\n",
    "dev.off()"
   ]
  },
  {
   "cell_type": "markdown",
   "metadata": {},
   "source": [
    "## Checking variation across sample<br>\n",
    "we are mainly checking for consistency between biological replicates of the same treatment."
   ]
  },
  {
   "cell_type": "markdown",
   "metadata": {},
   "source": [
    "### Principle component analysis"
   ]
  },
  {
   "cell_type": "code",
   "execution_count": 19,
   "metadata": {},
   "outputs": [
    {
     "data": {
      "text/html": [
       "<strong>png:</strong> 2"
      ],
      "text/latex": [
       "\\textbf{png:} 2"
      ],
      "text/markdown": [
       "**png:** 2"
      ],
      "text/plain": [
       "png \n",
       "  2 "
      ]
     },
     "metadata": {},
     "output_type": "display_data"
    }
   ],
   "source": [
    "svg(\"results/SamplesPlot/PCA_Plot.svg\")\n",
    "par(mar=c(4,4,4,10),xpd=TRUE)\n",
    "limma::plotMDS(exprs(my.rma),top=500, labels=factor(pData(my.rma)$group),\n",
    "         col=sample.color, gene.selection=\"common\", main=\"MDS Plot, Top 500, to Compare Replicates\")\n",
    "legend(\"topright\",title=\"Samples\",inset=c(-0.43,0),box.lwd=0.5, legend=levels(factor(pData(my.rma)$group)), fill=group.color)\n",
    "dev.off()"
   ]
  },
  {
   "cell_type": "markdown",
   "metadata": {},
   "source": [
    "### Hierarchical Clustering"
   ]
  },
  {
   "cell_type": "markdown",
   "metadata": {},
   "source": [
    "`z-score = (rma-sample - rma-mean) / rma-sd`"
   ]
  },
  {
   "cell_type": "code",
   "execution_count": 21,
   "metadata": {},
   "outputs": [
    {
     "data": {
      "text/html": [
       "<strong>png:</strong> 2"
      ],
      "text/latex": [
       "\\textbf{png:} 2"
      ],
      "text/markdown": [
       "**png:** 2"
      ],
      "text/plain": [
       "png \n",
       "  2 "
      ]
     },
     "metadata": {},
     "output_type": "display_data"
    }
   ],
   "source": [
    "# cal z-score\n",
    "cluster.dat <- exprs(my.rma)\n",
    "gene.mean <- apply(cluster.dat, 1, mean)\n",
    "gene.sd <- apply(cluster.dat, 1, sd)\n",
    "cluster.dat <- sweep(cluster.dat, 1, gene.mean, \"-\")\n",
    "cluster.dat <- sweep(cluster.dat, 1, gene.sd, \"/\")\n",
    "\n",
    "my.dist <- dist(t(cluster.dat), method=\"euclidean\")\n",
    "my.hclust <- hclust(my.dist, method=\"average\")\n",
    "my.hclust$labels <- factor(pData(my.rma)$group)\n",
    "svg(\"results/SamplesPlot/HierarchicalPlot.svg\")\n",
    "plot(my.hclust, cex=0.75,col=\"blue\",\n",
    "     main=\"Comparison of Biological Replicates\", \n",
    "      xlab=\"Euclidean Distance\")\n",
    "dev.off()"
   ]
  },
  {
   "cell_type": "markdown",
   "metadata": {},
   "source": [
    "### Removing Low Expression Data"
   ]
  },
  {
   "cell_type": "markdown",
   "metadata": {},
   "source": [
    "To reduce the possibility for type I errors is to do fewer comparisons. This can be done by filtering the data. For example, we know that not all genes are expressed in all tissues and many genes will not be expressed in any sample. As a result, DGE analysis, it makes sense to remove probesets for genes that likely not expressed at all."
   ]
  },
  {
   "cell_type": "code",
   "execution_count": 22,
   "metadata": {},
   "outputs": [
    {
     "data": {
      "text/plain": [
       "\n",
       " FALSE \n",
       "396198 "
      ]
     },
     "metadata": {},
     "output_type": "display_data"
    }
   ],
   "source": [
    "table(exprs(my.rma)<0)"
   ]
  },
  {
   "cell_type": "markdown",
   "metadata": {},
   "source": [
    "no genes have expression zero"
   ]
  },
  {
   "cell_type": "code",
   "execution_count": 23,
   "metadata": {},
   "outputs": [
    {
     "data": {
      "text/html": [
       "<style>\n",
       ".list-inline {list-style: none; margin:0; padding: 0}\n",
       ".list-inline>li {display: inline-block}\n",
       ".list-inline>li:not(:last-child)::after {content: \"\\00b7\"; padding: 0 .5ex}\n",
       "</style>\n",
       "<ol class=list-inline><li>0.13</li><li>1.27</li><li>1.6</li><li>1.84</li><li>2.06</li><li>2.07</li></ol>\n"
      ],
      "text/latex": [
       "\\begin{enumerate*}\n",
       "\\item 0.13\n",
       "\\item 1.27\n",
       "\\item 1.6\n",
       "\\item 1.84\n",
       "\\item 2.06\n",
       "\\item 2.07\n",
       "\\end{enumerate*}\n"
      ],
      "text/markdown": [
       "1. 0.13\n",
       "2. 1.27\n",
       "3. 1.6\n",
       "4. 1.84\n",
       "5. 2.06\n",
       "6. 2.07\n",
       "\n",
       "\n"
      ],
      "text/plain": [
       "[1] 0.13 1.27 1.60 1.84 2.06 2.07"
      ]
     },
     "metadata": {},
     "output_type": "display_data"
    }
   ],
   "source": [
    "as.numeric(quantile(exprs(my.rma), c(0., 0.025, 0.05, 0.075, 0.099, .10), na.rm=T))"
   ]
  },
  {
   "cell_type": "markdown",
   "metadata": {},
   "source": [
    "***We now have the metadata and phenodata (sample data) for this experiment. The expression data is in format that could be used for differential gene expression (DGE) analysis.***"
   ]
  },
  {
   "cell_type": "markdown",
   "metadata": {},
   "source": [
    "# DGE with Limma"
   ]
  },
  {
   "cell_type": "code",
   "execution_count": 24,
   "metadata": {},
   "outputs": [
    {
     "data": {
      "text/plain": [
       "\n",
       "TRUE \n",
       "  18 "
      ]
     },
     "metadata": {},
     "output_type": "display_data"
    }
   ],
   "source": [
    "# check if rows of phenotype is sorted same way as columns of exprs matrix\n",
    "table(rownames(pData(my.rma))==colnames(exprs(my.rma)))"
   ]
  },
  {
   "cell_type": "markdown",
   "metadata": {},
   "source": [
    "## Design Matrix"
   ]
  },
  {
   "cell_type": "code",
   "execution_count": 25,
   "metadata": {},
   "outputs": [
    {
     "data": {
      "text/html": [
       "<table>\n",
       "<caption>A matrix: 18 × 2 of type dbl</caption>\n",
       "<thead>\n",
       "\t<tr><th></th><th scope=col>control</th><th scope=col>L.braziliensis</th></tr>\n",
       "</thead>\n",
       "<tbody>\n",
       "\t<tr><th scope=row>L.braziliensis</th><td>0</td><td>1</td></tr>\n",
       "\t<tr><th scope=row>L.braziliensis</th><td>0</td><td>1</td></tr>\n",
       "\t<tr><th scope=row>L.braziliensis</th><td>0</td><td>1</td></tr>\n",
       "\t<tr><th scope=row>L.braziliensis</th><td>0</td><td>1</td></tr>\n",
       "\t<tr><th scope=row>L.braziliensis</th><td>0</td><td>1</td></tr>\n",
       "\t<tr><th scope=row>L.braziliensis</th><td>0</td><td>1</td></tr>\n",
       "\t<tr><th scope=row>L.braziliensis</th><td>0</td><td>1</td></tr>\n",
       "\t<tr><th scope=row>L.braziliensis</th><td>0</td><td>1</td></tr>\n",
       "\t<tr><th scope=row>L.braziliensis</th><td>0</td><td>1</td></tr>\n",
       "\t<tr><th scope=row>control</th><td>1</td><td>0</td></tr>\n",
       "\t<tr><th scope=row>control</th><td>1</td><td>0</td></tr>\n",
       "\t<tr><th scope=row>control</th><td>1</td><td>0</td></tr>\n",
       "\t<tr><th scope=row>control</th><td>1</td><td>0</td></tr>\n",
       "\t<tr><th scope=row>control</th><td>1</td><td>0</td></tr>\n",
       "\t<tr><th scope=row>control</th><td>1</td><td>0</td></tr>\n",
       "\t<tr><th scope=row>control</th><td>1</td><td>0</td></tr>\n",
       "\t<tr><th scope=row>control</th><td>1</td><td>0</td></tr>\n",
       "\t<tr><th scope=row>control</th><td>1</td><td>0</td></tr>\n",
       "</tbody>\n",
       "</table>\n"
      ],
      "text/latex": [
       "A matrix: 18 × 2 of type dbl\n",
       "\\begin{tabular}{r|ll}\n",
       "  & control & L.braziliensis\\\\\n",
       "\\hline\n",
       "\tL.braziliensis & 0 & 1\\\\\n",
       "\tL.braziliensis & 0 & 1\\\\\n",
       "\tL.braziliensis & 0 & 1\\\\\n",
       "\tL.braziliensis & 0 & 1\\\\\n",
       "\tL.braziliensis & 0 & 1\\\\\n",
       "\tL.braziliensis & 0 & 1\\\\\n",
       "\tL.braziliensis & 0 & 1\\\\\n",
       "\tL.braziliensis & 0 & 1\\\\\n",
       "\tL.braziliensis & 0 & 1\\\\\n",
       "\tcontrol & 1 & 0\\\\\n",
       "\tcontrol & 1 & 0\\\\\n",
       "\tcontrol & 1 & 0\\\\\n",
       "\tcontrol & 1 & 0\\\\\n",
       "\tcontrol & 1 & 0\\\\\n",
       "\tcontrol & 1 & 0\\\\\n",
       "\tcontrol & 1 & 0\\\\\n",
       "\tcontrol & 1 & 0\\\\\n",
       "\tcontrol & 1 & 0\\\\\n",
       "\\end{tabular}\n"
      ],
      "text/markdown": [
       "\n",
       "A matrix: 18 × 2 of type dbl\n",
       "\n",
       "| <!--/--> | control | L.braziliensis |\n",
       "|---|---|---|\n",
       "| L.braziliensis | 0 | 1 |\n",
       "| L.braziliensis | 0 | 1 |\n",
       "| L.braziliensis | 0 | 1 |\n",
       "| L.braziliensis | 0 | 1 |\n",
       "| L.braziliensis | 0 | 1 |\n",
       "| L.braziliensis | 0 | 1 |\n",
       "| L.braziliensis | 0 | 1 |\n",
       "| L.braziliensis | 0 | 1 |\n",
       "| L.braziliensis | 0 | 1 |\n",
       "| control | 1 | 0 |\n",
       "| control | 1 | 0 |\n",
       "| control | 1 | 0 |\n",
       "| control | 1 | 0 |\n",
       "| control | 1 | 0 |\n",
       "| control | 1 | 0 |\n",
       "| control | 1 | 0 |\n",
       "| control | 1 | 0 |\n",
       "| control | 1 | 0 |\n",
       "\n"
      ],
      "text/plain": [
       "               control L.braziliensis\n",
       "L.braziliensis 0       1             \n",
       "L.braziliensis 0       1             \n",
       "L.braziliensis 0       1             \n",
       "L.braziliensis 0       1             \n",
       "L.braziliensis 0       1             \n",
       "L.braziliensis 0       1             \n",
       "L.braziliensis 0       1             \n",
       "L.braziliensis 0       1             \n",
       "L.braziliensis 0       1             \n",
       "control        1       0             \n",
       "control        1       0             \n",
       "control        1       0             \n",
       "control        1       0             \n",
       "control        1       0             \n",
       "control        1       0             \n",
       "control        1       0             \n",
       "control        1       0             \n",
       "control        1       0             "
      ]
     },
     "metadata": {},
     "output_type": "display_data"
    }
   ],
   "source": [
    "# prepare design matrix\n",
    "sample.lst<-pData(my.rma)$group\n",
    "group.lst<-factor(sample.lst)\n",
    "\n",
    "my.design <- model.matrix(~0 + group, pData(my.rma))\n",
    "\n",
    "rownames(my.design) <- sample.lst\n",
    "colnames(my.design) <- levels(group.lst)\n",
    "\n",
    "my.design"
   ]
  },
  {
   "cell_type": "code",
   "execution_count": 26,
   "metadata": {
    "scrolled": true
   },
   "outputs": [],
   "source": [
    "# fit linear model\n",
    "fit <- lmFit(my.rma, my.design)"
   ]
  },
  {
   "cell_type": "code",
   "execution_count": 27,
   "metadata": {},
   "outputs": [
    {
     "data": {
      "text/html": [
       "<table>\n",
       "<caption>A matrix: 2 × 1 of type dbl</caption>\n",
       "<thead>\n",
       "\t<tr><th></th><th scope=col>L.braziliensisvsControl</th></tr>\n",
       "</thead>\n",
       "<tbody>\n",
       "\t<tr><th scope=row>control</th><td>-1</td></tr>\n",
       "\t<tr><th scope=row>L.braziliensis</th><td> 1</td></tr>\n",
       "</tbody>\n",
       "</table>\n"
      ],
      "text/latex": [
       "A matrix: 2 × 1 of type dbl\n",
       "\\begin{tabular}{r|l}\n",
       "  & L.braziliensisvsControl\\\\\n",
       "\\hline\n",
       "\tcontrol & -1\\\\\n",
       "\tL.braziliensis &  1\\\\\n",
       "\\end{tabular}\n"
      ],
      "text/markdown": [
       "\n",
       "A matrix: 2 × 1 of type dbl\n",
       "\n",
       "| <!--/--> | L.braziliensisvsControl |\n",
       "|---|---|\n",
       "| control | -1 |\n",
       "| L.braziliensis |  1 |\n",
       "\n"
      ],
      "text/plain": [
       "                Contrasts\n",
       "Levels           L.braziliensisvsControl\n",
       "  control        -1                     \n",
       "  L.braziliensis  1                     "
      ]
     },
     "metadata": {},
     "output_type": "display_data"
    }
   ],
   "source": [
    "# specify the comparison btw group of interest\n",
    "my.contrasts <- makeContrasts(L.braziliensisvsControl = L.braziliensis-control\n",
    "                              , levels = my.design)\n",
    "my.contrasts"
   ]
  },
  {
   "cell_type": "code",
   "execution_count": 28,
   "metadata": {},
   "outputs": [],
   "source": [
    "# store comparison matrix\n",
    "write.table(my.contrasts, file=paste0(\"results/\",my.gse,\"_Comparisons.txt\"), \n",
    "            sep=\"\\t\", quote=F,col.names=NA)"
   ]
  },
  {
   "cell_type": "markdown",
   "metadata": {},
   "source": [
    "## Statistical Inference"
   ]
  },
  {
   "cell_type": "code",
   "execution_count": 29,
   "metadata": {},
   "outputs": [],
   "source": [
    "fits.fun<-function(x)(contrasts.fit(fit, contrasts=my.contrasts[, x]));\n",
    "\n",
    "contrast.fits <- lapply(colnames(my.contrasts),fits.fun)\n",
    "names(contrast.fits)<-colnames(my.contrasts)"
   ]
  },
  {
   "cell_type": "code",
   "execution_count": 30,
   "metadata": {
    "scrolled": true
   },
   "outputs": [],
   "source": [
    "ebs.fun<-function(x)(eBayes(x, proportion=0.1, trend=FALSE, robust=FALSE))\n",
    "    \n",
    "contrast.ebs <- lapply(contrast.fits, ebs.fun)"
   ]
  },
  {
   "cell_type": "code",
   "execution_count": 31,
   "metadata": {},
   "outputs": [],
   "source": [
    "tts.fun<-function(x)(topTable(x, adjust.method=\"BH\", number=length(x$coefficients), sort.by=\"none\"));\n",
    "\n",
    "contrast.tts <- lapply(contrast.ebs,tts.fun)"
   ]
  },
  {
   "cell_type": "code",
   "execution_count": 32,
   "metadata": {},
   "outputs": [],
   "source": [
    "test.fun<-function(x){\n",
    "    store<-decideTests(x, method=\"separate\", \n",
    "                                  adjust.method=\"BH\", p.value=0.05, \n",
    "                                  lfc=0)\n",
    "    return(store)\n",
    "};\n",
    "\n",
    "contrast.tests <- lapply(contrast.ebs, test.fun)"
   ]
  },
  {
   "cell_type": "code",
   "execution_count": 33,
   "metadata": {},
   "outputs": [],
   "source": [
    "contrast.tests.df<-lapply(contrast.tests,function(x){\n",
    "    store<-as.data.frame(x)\n",
    "    colnames(store)<-\"test\"\n",
    "    return(store)\n",
    "})"
   ]
  },
  {
   "cell_type": "code",
   "execution_count": 34,
   "metadata": {},
   "outputs": [],
   "source": [
    "# show in one matrix whether up or down regulated in diff comparisons\n",
    "tests.mat <- do.call(cbind, contrast.tests)\n",
    "colnames(tests.mat) <- names(contrast.tests)\n",
    "write.table(tests.mat, file=paste0(\"results/\",my.gse,\"_Test.txt\"), \n",
    "            sep=\"\\t\", quote=F, col.names=NA)"
   ]
  },
  {
   "cell_type": "code",
   "execution_count": 35,
   "metadata": {},
   "outputs": [
    {
     "data": {
      "text/html": [
       "<table>\n",
       "<caption>A matrix: 3 × 1 of type dbl</caption>\n",
       "<thead>\n",
       "\t<tr><th></th><th scope=col>L.braziliensisvsControl</th></tr>\n",
       "</thead>\n",
       "<tbody>\n",
       "\t<tr><th scope=row>2315554</th><td>0</td></tr>\n",
       "\t<tr><th scope=row>2315633</th><td>0</td></tr>\n",
       "\t<tr><th scope=row>2315674</th><td>0</td></tr>\n",
       "</tbody>\n",
       "</table>\n"
      ],
      "text/latex": [
       "A matrix: 3 × 1 of type dbl\n",
       "\\begin{tabular}{r|l}\n",
       "  & L.braziliensisvsControl\\\\\n",
       "\\hline\n",
       "\t2315554 & 0\\\\\n",
       "\t2315633 & 0\\\\\n",
       "\t2315674 & 0\\\\\n",
       "\\end{tabular}\n"
      ],
      "text/markdown": [
       "\n",
       "A matrix: 3 × 1 of type dbl\n",
       "\n",
       "| <!--/--> | L.braziliensisvsControl |\n",
       "|---|---|\n",
       "| 2315554 | 0 |\n",
       "| 2315633 | 0 |\n",
       "| 2315674 | 0 |\n",
       "\n"
      ],
      "text/plain": [
       "        L.braziliensisvsControl\n",
       "2315554 0                      \n",
       "2315633 0                      \n",
       "2315674 0                      "
      ]
     },
     "metadata": {},
     "output_type": "display_data"
    }
   ],
   "source": [
    "head(tests.mat,3)"
   ]
  },
  {
   "cell_type": "markdown",
   "metadata": {},
   "source": [
    "# Gene Annotations for Microarray Probesets"
   ]
  },
  {
   "cell_type": "code",
   "execution_count": 36,
   "metadata": {},
   "outputs": [
    {
     "name": "stderr",
     "output_type": "stream",
     "text": [
      "Loading required package: AnnotationDbi\n",
      "\n",
      "Loading required package: org.Hs.eg.db\n",
      "\n",
      "\n",
      "\n",
      "\n",
      "\n"
     ]
    }
   ],
   "source": [
    "library(huex10sttranscriptcluster.db)"
   ]
  },
  {
   "cell_type": "code",
   "execution_count": 37,
   "metadata": {},
   "outputs": [
    {
     "name": "stderr",
     "output_type": "stream",
     "text": [
      "'select()' returned 1:many mapping between keys and columns\n",
      "\n"
     ]
    }
   ],
   "source": [
    "gene.data <- select(huex10sttranscriptcluster.db, \n",
    "                    keys=rownames(contrast.tts[[1]]), \n",
    "                    keytype=\"PROBEID\", \n",
    "                    columns=c(\"ENTREZID\", \"GENENAME\", \"SYMBOL\",\"ENSEMBL\"))\n",
    "gene.data<-na.omit(gene.data)\n",
    "                     \n",
    "my.annotated.results<-lapply(colnames(my.contrasts),function(x){  \n",
    "    store<-merge(contrast.tts[[x]], contrast.tests.df[[x]], by=\"row.names\",all.x=TRUE)\n",
    "    colnames(store)[1]<-\"PROBEID\"\n",
    "\n",
    "    store<-merge(gene.data, store, by=\"PROBEID\")\n",
    "    return(store)\n",
    "})\n",
    "names(my.annotated.results)<-colnames(my.contrasts)"
   ]
  },
  {
   "cell_type": "code",
   "execution_count": 38,
   "metadata": {},
   "outputs": [
    {
     "data": {
      "text/plain": [
       "       \n",
       "        FALSE  TRUE\n",
       "  FALSE 16643  2050\n",
       "  TRUE    710  3399"
      ]
     },
     "metadata": {},
     "output_type": "display_data"
    }
   ],
   "source": [
    "# venn diagram\n",
    "table(duplicated(gene.data$ENTREZID), duplicated(gene.data$PROBEID))"
   ]
  },
  {
   "cell_type": "markdown",
   "metadata": {},
   "source": [
    "The problem seems to be that some probesets map to multipe genes and some genes map to multiple probesets."
   ]
  },
  {
   "cell_type": "markdown",
   "metadata": {},
   "source": [
    "## Cases of genes with two or more probes, only the most significant ones were used."
   ]
  },
  {
   "cell_type": "code",
   "execution_count": 39,
   "metadata": {},
   "outputs": [],
   "source": [
    "my.unique.results <- lapply(colnames(my.contrasts), function(x){\n",
    "    ordered.result<-my.annotated.results[[x]][order(my.annotated.results[[x]]$ENTREZID,\n",
    "              my.annotated.results[[x]]$adj.P.Val,decreasing=FALSE),]\n",
    "    return(ordered.result[!duplicated(ordered.result$ENTREZID),])\n",
    "})\n",
    "names(my.unique.results) <- colnames(my.contrasts)"
   ]
  },
  {
   "cell_type": "code",
   "execution_count": 40,
   "metadata": {},
   "outputs": [
    {
     "data": {
      "text/plain": [
       "\n",
       "FALSE \n",
       "18693 "
      ]
     },
     "metadata": {},
     "output_type": "display_data"
    }
   ],
   "source": [
    "# check if duplication still exists\n",
    "table(duplicated(my.unique.results[[1]]$ENTREZID))"
   ]
  },
  {
   "cell_type": "markdown",
   "metadata": {},
   "source": [
    "## Significant genes"
   ]
  },
  {
   "cell_type": "code",
   "execution_count": 43,
   "metadata": {},
   "outputs": [],
   "source": [
    "strain.significant.genes<- lapply(names(my.unique.results), function(x){\n",
    "    store.test<- 1*(my.unique.results[[x]][,grep(\"test\",colnames(my.unique.results[[x]]))]!=0)\n",
    "    # select genes that was significant in atleast one time point \n",
    "    filtered<-my.unique.results[[x]][store.test>=1,]\n",
    "    store.logFC<-filtered[,grep(\"logFC\",colnames(filtered))]\n",
    "    # sort genes according in logFC\n",
    "    sorted.genes<-filtered[order(store.logFC,decreasing=TRUE),]\n",
    "    return(sorted.genes)\n",
    "})\n",
    "names(strain.significant.genes) <- names(my.unique.results)"
   ]
  },
  {
   "cell_type": "code",
   "execution_count": 44,
   "metadata": {},
   "outputs": [
    {
     "data": {
      "text/html": [
       "<table>\n",
       "<caption>A data.frame: 3 × 12</caption>\n",
       "<thead>\n",
       "\t<tr><th></th><th scope=col>PROBEID</th><th scope=col>ENTREZID</th><th scope=col>GENENAME</th><th scope=col>SYMBOL</th><th scope=col>ENSEMBL</th><th scope=col>logFC</th><th scope=col>AveExpr</th><th scope=col>t</th><th scope=col>P.Value</th><th scope=col>adj.P.Val</th><th scope=col>B</th><th scope=col>test</th></tr>\n",
       "\t<tr><th></th><th scope=col>&lt;chr&gt;</th><th scope=col>&lt;chr&gt;</th><th scope=col>&lt;chr&gt;</th><th scope=col>&lt;chr&gt;</th><th scope=col>&lt;chr&gt;</th><th scope=col>&lt;dbl&gt;</th><th scope=col>&lt;dbl&gt;</th><th scope=col>&lt;dbl&gt;</th><th scope=col>&lt;dbl&gt;</th><th scope=col>&lt;dbl&gt;</th><th scope=col>&lt;dbl&gt;</th><th scope=col>&lt;dbl&gt;</th></tr>\n",
       "</thead>\n",
       "<tbody>\n",
       "\t<tr><th scope=row>12154</th><td>3358906</td><td>387266   </td><td>keratin associated protein 5-3</td><td>KRTAP5-3</td><td>ENSG00000196224</td><td>1.591111</td><td>6.841111</td><td>9.247997</td><td>2.351168e-08</td><td>4.312629e-05</td><td>10.79181</td><td>1</td></tr>\n",
       "\t<tr><th scope=row>12157</th><td>3358906</td><td>57830    </td><td>keratin associated protein 5-8</td><td>KRTAP5-8</td><td>ENSG00000241233</td><td>1.591111</td><td>6.841111</td><td>9.247997</td><td>2.351168e-08</td><td>4.312629e-05</td><td>10.79181</td><td>1</td></tr>\n",
       "\t<tr><th scope=row>14676</th><td>3557811</td><td>102465801</td><td>microRNA 7703                 </td><td>MIR7703 </td><td>ENSG00000283856</td><td>1.534444</td><td>7.963889</td><td>9.856046</td><td>8.762363e-09</td><td>2.069599e-05</td><td>11.53387</td><td>1</td></tr>\n",
       "</tbody>\n",
       "</table>\n"
      ],
      "text/latex": [
       "A data.frame: 3 × 12\n",
       "\\begin{tabular}{r|llllllllllll}\n",
       "  & PROBEID & ENTREZID & GENENAME & SYMBOL & ENSEMBL & logFC & AveExpr & t & P.Value & adj.P.Val & B & test\\\\\n",
       "  & <chr> & <chr> & <chr> & <chr> & <chr> & <dbl> & <dbl> & <dbl> & <dbl> & <dbl> & <dbl> & <dbl>\\\\\n",
       "\\hline\n",
       "\t12154 & 3358906 & 387266    & keratin associated protein 5-3 & KRTAP5-3 & ENSG00000196224 & 1.591111 & 6.841111 & 9.247997 & 2.351168e-08 & 4.312629e-05 & 10.79181 & 1\\\\\n",
       "\t12157 & 3358906 & 57830     & keratin associated protein 5-8 & KRTAP5-8 & ENSG00000241233 & 1.591111 & 6.841111 & 9.247997 & 2.351168e-08 & 4.312629e-05 & 10.79181 & 1\\\\\n",
       "\t14676 & 3557811 & 102465801 & microRNA 7703                  & MIR7703  & ENSG00000283856 & 1.534444 & 7.963889 & 9.856046 & 8.762363e-09 & 2.069599e-05 & 11.53387 & 1\\\\\n",
       "\\end{tabular}\n"
      ],
      "text/markdown": [
       "\n",
       "A data.frame: 3 × 12\n",
       "\n",
       "| <!--/--> | PROBEID &lt;chr&gt; | ENTREZID &lt;chr&gt; | GENENAME &lt;chr&gt; | SYMBOL &lt;chr&gt; | ENSEMBL &lt;chr&gt; | logFC &lt;dbl&gt; | AveExpr &lt;dbl&gt; | t &lt;dbl&gt; | P.Value &lt;dbl&gt; | adj.P.Val &lt;dbl&gt; | B &lt;dbl&gt; | test &lt;dbl&gt; |\n",
       "|---|---|---|---|---|---|---|---|---|---|---|---|---|\n",
       "| 12154 | 3358906 | 387266    | keratin associated protein 5-3 | KRTAP5-3 | ENSG00000196224 | 1.591111 | 6.841111 | 9.247997 | 2.351168e-08 | 4.312629e-05 | 10.79181 | 1 |\n",
       "| 12157 | 3358906 | 57830     | keratin associated protein 5-8 | KRTAP5-8 | ENSG00000241233 | 1.591111 | 6.841111 | 9.247997 | 2.351168e-08 | 4.312629e-05 | 10.79181 | 1 |\n",
       "| 14676 | 3557811 | 102465801 | microRNA 7703                  | MIR7703  | ENSG00000283856 | 1.534444 | 7.963889 | 9.856046 | 8.762363e-09 | 2.069599e-05 | 11.53387 | 1 |\n",
       "\n"
      ],
      "text/plain": [
       "      PROBEID ENTREZID  GENENAME                       SYMBOL   ENSEMBL        \n",
       "12154 3358906 387266    keratin associated protein 5-3 KRTAP5-3 ENSG00000196224\n",
       "12157 3358906 57830     keratin associated protein 5-8 KRTAP5-8 ENSG00000241233\n",
       "14676 3557811 102465801 microRNA 7703                  MIR7703  ENSG00000283856\n",
       "      logFC    AveExpr  t        P.Value      adj.P.Val    B        test\n",
       "12154 1.591111 6.841111 9.247997 2.351168e-08 4.312629e-05 10.79181 1   \n",
       "12157 1.591111 6.841111 9.247997 2.351168e-08 4.312629e-05 10.79181 1   \n",
       "14676 1.534444 7.963889 9.856046 8.762363e-09 2.069599e-05 11.53387 1   "
      ]
     },
     "metadata": {},
     "output_type": "display_data"
    }
   ],
   "source": [
    "head(strain.significant.genes[[1]],3)"
   ]
  },
  {
   "cell_type": "code",
   "execution_count": 45,
   "metadata": {},
   "outputs": [],
   "source": [
    "if(!file.exists(\"results/Strains\"))  dir.create(\"results/Strains\", recursive=TRUE)"
   ]
  },
  {
   "cell_type": "code",
   "execution_count": 46,
   "metadata": {},
   "outputs": [
    {
     "data": {
      "text/html": [
       "<ol>\n",
       "\t<li>NULL</li>\n",
       "</ol>\n"
      ],
      "text/latex": [
       "\\begin{enumerate}\n",
       "\\item NULL\n",
       "\\end{enumerate}\n"
      ],
      "text/markdown": [
       "1. NULL\n",
       "\n",
       "\n"
      ],
      "text/plain": [
       "[[1]]\n",
       "NULL\n"
      ]
     },
     "metadata": {},
     "output_type": "display_data"
    }
   ],
   "source": [
    "# store results\n",
    "lapply(names(strain.significant.genes),function(x){\n",
    "    if(!file.exists(file=paste0(\"results/Strains/\",x)))  dir.create(paste0(\"results/Strains/\",x), recursive=TRUE)\n",
    "    write.table(strain.significant.genes[[x]], \n",
    "                file=paste0(\"results/Strains/\",x,\"/SignificantGenes.txt\"), \n",
    "                sep=\"\\t\", quote=F, row.names=FALSE)\n",
    "})"
   ]
  },
  {
   "cell_type": "code",
   "execution_count": 49,
   "metadata": {},
   "outputs": [],
   "source": [
    "if(!file.exists(paste0(\"results/Strains/\",\"L.braziliensisvsControl\")))  \n",
    "    dir.create(paste0(\"results/Strains/\",\"L.braziliensisvsControl\"), recursive=TRUE)\n",
    "        \n",
    "write.table(strain.significant.genes[[1]], \n",
    "                file=paste0(\"results/Strains/\",\"L.braziliensisvsControl\",\"/DGE_result.txt\"), \n",
    "                row.names=FALSE, sep=\"\\t\", quote=FALSE)"
   ]
  },
  {
   "cell_type": "markdown",
   "metadata": {},
   "source": [
    "# Visualizing the Results"
   ]
  },
  {
   "cell_type": "markdown",
   "metadata": {},
   "source": [
    "The function plotMA will produce a scatter plot of average log2 expression on the x-axis vs. log2 fold change on the y-axis."
   ]
  },
  {
   "cell_type": "markdown",
   "metadata": {},
   "source": [
    "## MAPlot "
   ]
  },
  {
   "cell_type": "code",
   "execution_count": 52,
   "metadata": {},
   "outputs": [
    {
     "data": {
      "text/html": [
       "<strong>png:</strong> 2"
      ],
      "text/latex": [
       "\\textbf{png:} 2"
      ],
      "text/markdown": [
       "**png:** 2"
      ],
      "text/plain": [
       "png \n",
       "  2 "
      ]
     },
     "metadata": {},
     "output_type": "display_data"
    }
   ],
   "source": [
    "up.down.color<-brewer.pal(11, \"RdBu\")[c(2, 10)]\n",
    "svg(file=paste0(\"results/Strains/L.braziliensisvsControl/\",\"MAPlot.svg\"))\n",
    "    \n",
    "limma::plotMA(contrast.ebs[[1]], status=contrast.tests[[1]], \n",
    "    pch=20,col=up.down.color, main=\"L.braziliensisvsControl\")\n",
    "    \n",
    "dev.off()"
   ]
  },
  {
   "cell_type": "markdown",
   "metadata": {},
   "source": [
    "## Volcano Plot"
   ]
  },
  {
   "cell_type": "markdown",
   "metadata": {},
   "source": [
    "volcano plot which plot logFC on the x-axis and p-value (-log10) on the y-axis."
   ]
  },
  {
   "cell_type": "code",
   "execution_count": 57,
   "metadata": {},
   "outputs": [
    {
     "data": {
      "text/html": [
       "<strong>png:</strong> 2"
      ],
      "text/latex": [
       "\\textbf{png:} 2"
      ],
      "text/markdown": [
       "**png:** 2"
      ],
      "text/plain": [
       "png \n",
       "  2 "
      ]
     },
     "metadata": {},
     "output_type": "display_data"
    }
   ],
   "source": [
    "# chosing different color for up, down and not regulated probes.\n",
    "ma.cols <- c(brewer.pal(11, \"RdBu\")[10], \"grey50\", brewer.pal(11, \"RdBu\")[2])\n",
    "    \n",
    "svg(file=paste0(\"results/Strains/L.braziliensisvsControl/\",\"/VolcanoPlot.svg\"))\n",
    "par(mar=c(5,4,4,8),xpd=TRUE)\n",
    "legend<-c(\"Down\",\"NoSig\",\"Up\")  \n",
    "my.cols <- ma.cols[as.factor(contrast.tests[[1]][, 1])]\n",
    "# assign color to each row.\n",
    "row.colors <- ma.cols[as.factor(contrast.tests[[1]][, 1])]\n",
    "plot(contrast.tts[[1]]$logFC, \n",
    "    -log10(contrast.tts[[1]]$adj.P.Val), \n",
    "    col=row.colors, pch=19, main=\"L.braziliensisvsControl\", \n",
    "    xlab=\"log2 Fold Change\", ylab=\"-log10 Adjusted P-Value\")\n",
    "legend(\"topright\",inset=c(-0.24,0), legend=legend, \n",
    "        fill=ma.cols[as.factor(legend)])\n",
    "dev.off()"
   ]
  },
  {
   "cell_type": "markdown",
   "metadata": {},
   "source": [
    "## Cholesterol Genes"
   ]
  },
  {
   "cell_type": "code",
   "execution_count": 58,
   "metadata": {},
   "outputs": [],
   "source": [
    "human_cholesterol_genes<-read.table(file=paste0(\"geo_downloads/\",\"human_cholesterol.txt\")\n",
    "                              ,header=T,sep=\"\\t\",quote=\"\")"
   ]
  },
  {
   "cell_type": "code",
   "execution_count": 59,
   "metadata": {},
   "outputs": [
    {
     "name": "stderr",
     "output_type": "stream",
     "text": [
      "'select()' returned 1:many mapping between keys and columns\n",
      "\n"
     ]
    }
   ],
   "source": [
    "store<-select(org.Hs.eg.db, \n",
    "                keys=human_cholesterol_genes$SYMBOL, \n",
    "                keytype=\"SYMBOL\", \n",
    "                columns=c(\"ENTREZID\",\"GENENAME\",\"ENSEMBL\"))\n",
    "\n",
    "human_cholesterol<- merge(human_cholesterol_genes,store,by=\"SYMBOL\")"
   ]
  },
  {
   "cell_type": "code",
   "execution_count": 60,
   "metadata": {},
   "outputs": [
    {
     "data": {
      "text/html": [
       "<table>\n",
       "<caption>A data.frame: 6 × 1</caption>\n",
       "<thead>\n",
       "\t<tr><th></th><th scope=col>ENTREZID</th></tr>\n",
       "\t<tr><th></th><th scope=col>&lt;chr&gt;</th></tr>\n",
       "</thead>\n",
       "<tbody>\n",
       "\t<tr><th scope=row>1</th><td>39   </td></tr>\n",
       "\t<tr><th scope=row>2</th><td>47   </td></tr>\n",
       "\t<tr><th scope=row>3</th><td>55902</td></tr>\n",
       "\t<tr><th scope=row>4</th><td>55911</td></tr>\n",
       "\t<tr><th scope=row>5</th><td>8542 </td></tr>\n",
       "\t<tr><th scope=row>6</th><td>23780</td></tr>\n",
       "</tbody>\n",
       "</table>\n"
      ],
      "text/latex": [
       "A data.frame: 6 × 1\n",
       "\\begin{tabular}{r|l}\n",
       "  & ENTREZID\\\\\n",
       "  & <chr>\\\\\n",
       "\\hline\n",
       "\t1 & 39   \\\\\n",
       "\t2 & 47   \\\\\n",
       "\t3 & 55902\\\\\n",
       "\t4 & 55911\\\\\n",
       "\t5 & 8542 \\\\\n",
       "\t6 & 23780\\\\\n",
       "\\end{tabular}\n"
      ],
      "text/markdown": [
       "\n",
       "A data.frame: 6 × 1\n",
       "\n",
       "| <!--/--> | ENTREZID &lt;chr&gt; |\n",
       "|---|---|\n",
       "| 1 | 39    |\n",
       "| 2 | 47    |\n",
       "| 3 | 55902 |\n",
       "| 4 | 55911 |\n",
       "| 5 | 8542  |\n",
       "| 6 | 23780 |\n",
       "\n"
      ],
      "text/plain": [
       "  ENTREZID\n",
       "1 39      \n",
       "2 47      \n",
       "3 55902   \n",
       "4 55911   \n",
       "5 8542    \n",
       "6 23780   "
      ]
     },
     "metadata": {},
     "output_type": "display_data"
    }
   ],
   "source": [
    "human_cholesterol_id<-as.data.frame(human_cholesterol[!duplicated(human_cholesterol$ENTREZID),]$ENTREZID)\n",
    "colnames(human_cholesterol_id)<-c(\"ENTREZID\")\n",
    "head(human_cholesterol_id)"
   ]
  },
  {
   "cell_type": "code",
   "execution_count": 67,
   "metadata": {},
   "outputs": [],
   "source": []
  },
  {
   "cell_type": "code",
   "execution_count": 62,
   "metadata": {},
   "outputs": [],
   "source": [
    "significant.cholesterol.genes<-lapply(names(strain.significant.genes), \n",
    "                                 function(x){\n",
    "                                     merge(strain.significant.genes[[x]],\n",
    "                                          human_cholesterol_id,\n",
    "                                           by=\"ENTREZID\")\n",
    "                                 })\n",
    "names(significant.cholesterol.genes) <- names(strain.significant.genes)"
   ]
  },
  {
   "cell_type": "code",
   "execution_count": null,
   "metadata": {},
   "outputs": [],
   "source": []
  },
  {
   "cell_type": "code",
   "execution_count": 63,
   "metadata": {},
   "outputs": [
    {
     "data": {
      "text/html": [
       "<table>\n",
       "<caption>A data.frame: 3 × 12</caption>\n",
       "<thead>\n",
       "\t<tr><th></th><th scope=col>ENTREZID</th><th scope=col>PROBEID</th><th scope=col>GENENAME</th><th scope=col>SYMBOL</th><th scope=col>ENSEMBL</th><th scope=col>logFC</th><th scope=col>AveExpr</th><th scope=col>t</th><th scope=col>P.Value</th><th scope=col>adj.P.Val</th><th scope=col>B</th><th scope=col>test</th></tr>\n",
       "\t<tr><th></th><th scope=col>&lt;chr&gt;</th><th scope=col>&lt;chr&gt;</th><th scope=col>&lt;chr&gt;</th><th scope=col>&lt;chr&gt;</th><th scope=col>&lt;chr&gt;</th><th scope=col>&lt;dbl&gt;</th><th scope=col>&lt;dbl&gt;</th><th scope=col>&lt;dbl&gt;</th><th scope=col>&lt;dbl&gt;</th><th scope=col>&lt;dbl&gt;</th><th scope=col>&lt;dbl&gt;</th><th scope=col>&lt;dbl&gt;</th></tr>\n",
       "</thead>\n",
       "<tbody>\n",
       "\t<tr><th scope=row>1</th><td>10484</td><td>3561952</td><td>Sec23 homolog A, coat complex II component           </td><td>SEC23A</td><td>ENSG00000100934</td><td>-0.6244444</td><td>6.770000</td><td>-4.279711</td><td>0.0004285496</td><td>0.01217136</td><td>2.5385809</td><td>-1</td></tr>\n",
       "\t<tr><th scope=row>2</th><td>10558</td><td>3214582</td><td>serine palmitoyltransferase long chain base subunit 1</td><td>SPTLC1</td><td>ENSG00000090054</td><td>-0.3188889</td><td>7.719444</td><td>-3.218785</td><td>0.0046459683</td><td>0.04083054</td><td>0.4125763</td><td>-1</td></tr>\n",
       "\t<tr><th scope=row>3</th><td>10682</td><td>3976670</td><td>EBP cholestenol delta-isomerase                      </td><td>EBP   </td><td>ENSG00000147155</td><td>-0.3855556</td><td>9.222778</td><td>-4.224669</td><td>0.0004849853</td><td>0.01296330</td><td>2.4282268</td><td>-1</td></tr>\n",
       "</tbody>\n",
       "</table>\n"
      ],
      "text/latex": [
       "A data.frame: 3 × 12\n",
       "\\begin{tabular}{r|llllllllllll}\n",
       "  & ENTREZID & PROBEID & GENENAME & SYMBOL & ENSEMBL & logFC & AveExpr & t & P.Value & adj.P.Val & B & test\\\\\n",
       "  & <chr> & <chr> & <chr> & <chr> & <chr> & <dbl> & <dbl> & <dbl> & <dbl> & <dbl> & <dbl> & <dbl>\\\\\n",
       "\\hline\n",
       "\t1 & 10484 & 3561952 & Sec23 homolog A, coat complex II component            & SEC23A & ENSG00000100934 & -0.6244444 & 6.770000 & -4.279711 & 0.0004285496 & 0.01217136 & 2.5385809 & -1\\\\\n",
       "\t2 & 10558 & 3214582 & serine palmitoyltransferase long chain base subunit 1 & SPTLC1 & ENSG00000090054 & -0.3188889 & 7.719444 & -3.218785 & 0.0046459683 & 0.04083054 & 0.4125763 & -1\\\\\n",
       "\t3 & 10682 & 3976670 & EBP cholestenol delta-isomerase                       & EBP    & ENSG00000147155 & -0.3855556 & 9.222778 & -4.224669 & 0.0004849853 & 0.01296330 & 2.4282268 & -1\\\\\n",
       "\\end{tabular}\n"
      ],
      "text/markdown": [
       "\n",
       "A data.frame: 3 × 12\n",
       "\n",
       "| <!--/--> | ENTREZID &lt;chr&gt; | PROBEID &lt;chr&gt; | GENENAME &lt;chr&gt; | SYMBOL &lt;chr&gt; | ENSEMBL &lt;chr&gt; | logFC &lt;dbl&gt; | AveExpr &lt;dbl&gt; | t &lt;dbl&gt; | P.Value &lt;dbl&gt; | adj.P.Val &lt;dbl&gt; | B &lt;dbl&gt; | test &lt;dbl&gt; |\n",
       "|---|---|---|---|---|---|---|---|---|---|---|---|---|\n",
       "| 1 | 10484 | 3561952 | Sec23 homolog A, coat complex II component            | SEC23A | ENSG00000100934 | -0.6244444 | 6.770000 | -4.279711 | 0.0004285496 | 0.01217136 | 2.5385809 | -1 |\n",
       "| 2 | 10558 | 3214582 | serine palmitoyltransferase long chain base subunit 1 | SPTLC1 | ENSG00000090054 | -0.3188889 | 7.719444 | -3.218785 | 0.0046459683 | 0.04083054 | 0.4125763 | -1 |\n",
       "| 3 | 10682 | 3976670 | EBP cholestenol delta-isomerase                       | EBP    | ENSG00000147155 | -0.3855556 | 9.222778 | -4.224669 | 0.0004849853 | 0.01296330 | 2.4282268 | -1 |\n",
       "\n"
      ],
      "text/plain": [
       "  ENTREZID PROBEID GENENAME                                              SYMBOL\n",
       "1 10484    3561952 Sec23 homolog A, coat complex II component            SEC23A\n",
       "2 10558    3214582 serine palmitoyltransferase long chain base subunit 1 SPTLC1\n",
       "3 10682    3976670 EBP cholestenol delta-isomerase                       EBP   \n",
       "  ENSEMBL         logFC      AveExpr  t         P.Value      adj.P.Val \n",
       "1 ENSG00000100934 -0.6244444 6.770000 -4.279711 0.0004285496 0.01217136\n",
       "2 ENSG00000090054 -0.3188889 7.719444 -3.218785 0.0046459683 0.04083054\n",
       "3 ENSG00000147155 -0.3855556 9.222778 -4.224669 0.0004849853 0.01296330\n",
       "  B         test\n",
       "1 2.5385809 -1  \n",
       "2 0.4125763 -1  \n",
       "3 2.4282268 -1  "
      ]
     },
     "metadata": {},
     "output_type": "display_data"
    }
   ],
   "source": [
    "head(significant.cholesterol.genes[[1]],3)"
   ]
  },
  {
   "cell_type": "code",
   "execution_count": 64,
   "metadata": {},
   "outputs": [],
   "source": [
    "write.table(significant.cholesterol.genes[[1]], \n",
    "        file=\"results/Strains/L.braziliensisvsControl/SignificantCholesterolGenes.txt\", \n",
    "        sep=\"\\t\", quote=F, row.names=FALSE)"
   ]
  },
  {
   "cell_type": "code",
   "execution_count": null,
   "metadata": {},
   "outputs": [],
   "source": []
  },
  {
   "cell_type": "markdown",
   "metadata": {},
   "source": [
    "## All cholesterol genes"
   ]
  },
  {
   "cell_type": "code",
   "execution_count": null,
   "metadata": {},
   "outputs": [],
   "source": [
    "store.1_2<-merge(my.unique.results[[1]],\n",
    "            human_cholesterol_id,\n",
    "            by=\"ENTREZID\")\n",
    "store.1_2<-merge(my.unique.results[[1]],\n",
    "            human_cholesterol_id,\n",
    "            by=\"ENTREZID\")\n",
    "store.1_2<-merge(my.unique.results[[1]],\n",
    "            human_cholesterol_id,\n",
    "            by=\"ENTREZID\")\n",
    "write.table(store.1_2, \n",
    "        file=\"Significant_L.dono_L.major.txt\", \n",
    "        sep=\"\\t\", quote=F, row.names=FALSE)"
   ]
  },
  {
   "cell_type": "code",
   "execution_count": null,
   "metadata": {},
   "outputs": [],
   "source": []
  }
 ],
 "metadata": {
  "kernelspec": {
   "display_name": "R",
   "language": "R",
   "name": "ir"
  },
  "language_info": {
   "codemirror_mode": "r",
   "file_extension": ".r",
   "mimetype": "text/x-r-source",
   "name": "R",
   "pygments_lexer": "r",
   "version": "4.0.2"
  }
 },
 "nbformat": 4,
 "nbformat_minor": 4
}
