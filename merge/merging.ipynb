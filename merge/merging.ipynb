{
 "cells": [
  {
   "cell_type": "code",
   "execution_count": 1,
   "metadata": {},
   "outputs": [
    {
     "name": "stderr",
     "output_type": "stream",
     "text": [
      "Warning message:\n",
      "\"package 'gplots' was built under R version 4.0.3\"\n",
      "\n",
      "Attaching package: 'gplots'\n",
      "\n",
      "\n",
      "The following object is masked from 'package:stats':\n",
      "\n",
      "    lowess\n",
      "\n",
      "\n"
     ]
    }
   ],
   "source": [
    "library(\"gplots\")\n",
    "library(RColorBrewer)"
   ]
  },
  {
   "cell_type": "code",
   "execution_count": 2,
   "metadata": {},
   "outputs": [],
   "source": [
    "names<-c(\"L.donovani\",\"L.major\",\"L.braziliensis\")\n",
    "file.names<-paste(names,\"SignificantCholesterolGenes.txt\",sep=\"_\")\n",
    "combined.results<-lapply(file.names,function(x){\n",
    "        read.table(file=paste0(\"assets/\",x),header=T,sep=\"\\t\",quote=\"\")\n",
    "})\n",
    "names(combined.results)<-names"
   ]
  },
  {
   "cell_type": "code",
   "execution_count": 3,
   "metadata": {},
   "outputs": [
    {
     "data": {
      "text/html": [
       "<table>\n",
       "<caption>A data.frame: 2 × 9</caption>\n",
       "<thead>\n",
       "\t<tr><th></th><th scope=col>ENTREZID</th><th scope=col>GENENAME</th><th scope=col>SYMBOL</th><th scope=col>L.donovani_4vsControl_logFC</th><th scope=col>L.donovani_4vsControl_test</th><th scope=col>L.donovani_8vsControl_logFC</th><th scope=col>L.donovani_8vsControl_test</th><th scope=col>L.donovani_24vsControl_logFC</th><th scope=col>L.donovani_24vsControl_test</th></tr>\n",
       "\t<tr><th></th><th scope=col>&lt;int&gt;</th><th scope=col>&lt;chr&gt;</th><th scope=col>&lt;chr&gt;</th><th scope=col>&lt;dbl&gt;</th><th scope=col>&lt;int&gt;</th><th scope=col>&lt;dbl&gt;</th><th scope=col>&lt;int&gt;</th><th scope=col>&lt;dbl&gt;</th><th scope=col>&lt;int&gt;</th></tr>\n",
       "</thead>\n",
       "<tbody>\n",
       "\t<tr><th scope=row>1</th><td>10062</td><td>nuclear receptor subfamily 1 group H member 3</td><td>NR1H3 </td><td>0.8831344</td><td>1</td><td>1.4147506</td><td>1</td><td>1.8102835</td><td>1</td></tr>\n",
       "\t<tr><th scope=row>2</th><td>10613</td><td>ER lipid raft associated 1                   </td><td>ERLIN1</td><td>0.2552710</td><td>0</td><td>0.5287214</td><td>0</td><td>0.8387841</td><td>1</td></tr>\n",
       "</tbody>\n",
       "</table>\n"
      ],
      "text/latex": [
       "A data.frame: 2 × 9\n",
       "\\begin{tabular}{r|lllllllll}\n",
       "  & ENTREZID & GENENAME & SYMBOL & L.donovani\\_4vsControl\\_logFC & L.donovani\\_4vsControl\\_test & L.donovani\\_8vsControl\\_logFC & L.donovani\\_8vsControl\\_test & L.donovani\\_24vsControl\\_logFC & L.donovani\\_24vsControl\\_test\\\\\n",
       "  & <int> & <chr> & <chr> & <dbl> & <int> & <dbl> & <int> & <dbl> & <int>\\\\\n",
       "\\hline\n",
       "\t1 & 10062 & nuclear receptor subfamily 1 group H member 3 & NR1H3  & 0.8831344 & 1 & 1.4147506 & 1 & 1.8102835 & 1\\\\\n",
       "\t2 & 10613 & ER lipid raft associated 1                    & ERLIN1 & 0.2552710 & 0 & 0.5287214 & 0 & 0.8387841 & 1\\\\\n",
       "\\end{tabular}\n"
      ],
      "text/markdown": [
       "\n",
       "A data.frame: 2 × 9\n",
       "\n",
       "| <!--/--> | ENTREZID &lt;int&gt; | GENENAME &lt;chr&gt; | SYMBOL &lt;chr&gt; | L.donovani_4vsControl_logFC &lt;dbl&gt; | L.donovani_4vsControl_test &lt;int&gt; | L.donovani_8vsControl_logFC &lt;dbl&gt; | L.donovani_8vsControl_test &lt;int&gt; | L.donovani_24vsControl_logFC &lt;dbl&gt; | L.donovani_24vsControl_test &lt;int&gt; |\n",
       "|---|---|---|---|---|---|---|---|---|---|\n",
       "| 1 | 10062 | nuclear receptor subfamily 1 group H member 3 | NR1H3  | 0.8831344 | 1 | 1.4147506 | 1 | 1.8102835 | 1 |\n",
       "| 2 | 10613 | ER lipid raft associated 1                    | ERLIN1 | 0.2552710 | 0 | 0.5287214 | 0 | 0.8387841 | 1 |\n",
       "\n"
      ],
      "text/plain": [
       "  ENTREZID GENENAME                                      SYMBOL\n",
       "1 10062    nuclear receptor subfamily 1 group H member 3 NR1H3 \n",
       "2 10613    ER lipid raft associated 1                    ERLIN1\n",
       "  L.donovani_4vsControl_logFC L.donovani_4vsControl_test\n",
       "1 0.8831344                   1                         \n",
       "2 0.2552710                   0                         \n",
       "  L.donovani_8vsControl_logFC L.donovani_8vsControl_test\n",
       "1 1.4147506                   1                         \n",
       "2 0.5287214                   0                         \n",
       "  L.donovani_24vsControl_logFC L.donovani_24vsControl_test\n",
       "1 1.8102835                    1                          \n",
       "2 0.8387841                    1                          "
      ]
     },
     "metadata": {},
     "output_type": "display_data"
    }
   ],
   "source": [
    "head(combined.results[[1]],2)"
   ]
  },
  {
   "cell_type": "code",
   "execution_count": 4,
   "metadata": {},
   "outputs": [
    {
     "data": {
      "text/html": [
       "<table>\n",
       "<caption>A data.frame: 6 × 9</caption>\n",
       "<thead>\n",
       "\t<tr><th></th><th scope=col>ENTREZID</th><th scope=col>GENENAME</th><th scope=col>SYMBOL</th><th scope=col>L.donovani_4vsControl_logFC</th><th scope=col>L.donovani_8vsControl_logFC</th><th scope=col>L.donovani_24vsControl_logFC</th><th scope=col>L.major_4vsControl_logFC</th><th scope=col>L.major_8vsControl_logFC</th><th scope=col>L.major_24vsControl_logFC</th></tr>\n",
       "\t<tr><th></th><th scope=col>&lt;int&gt;</th><th scope=col>&lt;chr&gt;</th><th scope=col>&lt;chr&gt;</th><th scope=col>&lt;dbl&gt;</th><th scope=col>&lt;dbl&gt;</th><th scope=col>&lt;dbl&gt;</th><th scope=col>&lt;dbl&gt;</th><th scope=col>&lt;dbl&gt;</th><th scope=col>&lt;dbl&gt;</th></tr>\n",
       "</thead>\n",
       "<tbody>\n",
       "\t<tr><th scope=row>1</th><td>1593</td><td>cytochrome P450 family 27 subfamily A member 1</td><td>CYP27A1</td><td> 0.6617582</td><td> 1.1820994</td><td> 1.8167363</td><td> 0.3974868</td><td> 0.9348959</td><td> 1.8417425</td></tr>\n",
       "\t<tr><th scope=row>2</th><td>2055</td><td>CLN8 transmembrane ER and ERGIC protein       </td><td>CLN8   </td><td> 1.0428514</td><td> 0.9651887</td><td> 0.8254485</td><td> 1.0277801</td><td> 1.2407114</td><td> 0.8131458</td></tr>\n",
       "\t<tr><th scope=row>3</th><td>2222</td><td>farnesyl-diphosphate farnesyltransferase 1    </td><td>FDFT1  </td><td>-0.6235646</td><td>-0.8579507</td><td>-0.2867595</td><td>-0.3333820</td><td>-0.8968429</td><td>-0.6231387</td></tr>\n",
       "\t<tr><th scope=row>4</th><td>2230</td><td>ferredoxin 1                                  </td><td>FDX1   </td><td> 0.4468257</td><td> 0.8012325</td><td> 1.2851679</td><td> 0.5277191</td><td> 0.8919982</td><td> 1.4925701</td></tr>\n",
       "\t<tr><th scope=row>5</th><td>4047</td><td>lanosterol synthase                           </td><td>LSS    </td><td> 1.0325449</td><td> 1.3555131</td><td> 1.2190693</td><td> 1.3523760</td><td> 1.7870638</td><td> 1.4371153</td></tr>\n",
       "\t<tr><th scope=row>6</th><td>4790</td><td>nuclear factor kappa B subunit 1              </td><td>NFKB1  </td><td> 0.7861651</td><td> 0.6636676</td><td> 0.6113833</td><td> 1.2044069</td><td> 1.1220219</td><td> 0.8210967</td></tr>\n",
       "</tbody>\n",
       "</table>\n"
      ],
      "text/latex": [
       "A data.frame: 6 × 9\n",
       "\\begin{tabular}{r|lllllllll}\n",
       "  & ENTREZID & GENENAME & SYMBOL & L.donovani\\_4vsControl\\_logFC & L.donovani\\_8vsControl\\_logFC & L.donovani\\_24vsControl\\_logFC & L.major\\_4vsControl\\_logFC & L.major\\_8vsControl\\_logFC & L.major\\_24vsControl\\_logFC\\\\\n",
       "  & <int> & <chr> & <chr> & <dbl> & <dbl> & <dbl> & <dbl> & <dbl> & <dbl>\\\\\n",
       "\\hline\n",
       "\t1 & 1593 & cytochrome P450 family 27 subfamily A member 1 & CYP27A1 &  0.6617582 &  1.1820994 &  1.8167363 &  0.3974868 &  0.9348959 &  1.8417425\\\\\n",
       "\t2 & 2055 & CLN8 transmembrane ER and ERGIC protein        & CLN8    &  1.0428514 &  0.9651887 &  0.8254485 &  1.0277801 &  1.2407114 &  0.8131458\\\\\n",
       "\t3 & 2222 & farnesyl-diphosphate farnesyltransferase 1     & FDFT1   & -0.6235646 & -0.8579507 & -0.2867595 & -0.3333820 & -0.8968429 & -0.6231387\\\\\n",
       "\t4 & 2230 & ferredoxin 1                                   & FDX1    &  0.4468257 &  0.8012325 &  1.2851679 &  0.5277191 &  0.8919982 &  1.4925701\\\\\n",
       "\t5 & 4047 & lanosterol synthase                            & LSS     &  1.0325449 &  1.3555131 &  1.2190693 &  1.3523760 &  1.7870638 &  1.4371153\\\\\n",
       "\t6 & 4790 & nuclear factor kappa B subunit 1               & NFKB1   &  0.7861651 &  0.6636676 &  0.6113833 &  1.2044069 &  1.1220219 &  0.8210967\\\\\n",
       "\\end{tabular}\n"
      ],
      "text/markdown": [
       "\n",
       "A data.frame: 6 × 9\n",
       "\n",
       "| <!--/--> | ENTREZID &lt;int&gt; | GENENAME &lt;chr&gt; | SYMBOL &lt;chr&gt; | L.donovani_4vsControl_logFC &lt;dbl&gt; | L.donovani_8vsControl_logFC &lt;dbl&gt; | L.donovani_24vsControl_logFC &lt;dbl&gt; | L.major_4vsControl_logFC &lt;dbl&gt; | L.major_8vsControl_logFC &lt;dbl&gt; | L.major_24vsControl_logFC &lt;dbl&gt; |\n",
       "|---|---|---|---|---|---|---|---|---|---|\n",
       "| 1 | 1593 | cytochrome P450 family 27 subfamily A member 1 | CYP27A1 |  0.6617582 |  1.1820994 |  1.8167363 |  0.3974868 |  0.9348959 |  1.8417425 |\n",
       "| 2 | 2055 | CLN8 transmembrane ER and ERGIC protein        | CLN8    |  1.0428514 |  0.9651887 |  0.8254485 |  1.0277801 |  1.2407114 |  0.8131458 |\n",
       "| 3 | 2222 | farnesyl-diphosphate farnesyltransferase 1     | FDFT1   | -0.6235646 | -0.8579507 | -0.2867595 | -0.3333820 | -0.8968429 | -0.6231387 |\n",
       "| 4 | 2230 | ferredoxin 1                                   | FDX1    |  0.4468257 |  0.8012325 |  1.2851679 |  0.5277191 |  0.8919982 |  1.4925701 |\n",
       "| 5 | 4047 | lanosterol synthase                            | LSS     |  1.0325449 |  1.3555131 |  1.2190693 |  1.3523760 |  1.7870638 |  1.4371153 |\n",
       "| 6 | 4790 | nuclear factor kappa B subunit 1               | NFKB1   |  0.7861651 |  0.6636676 |  0.6113833 |  1.2044069 |  1.1220219 |  0.8210967 |\n",
       "\n"
      ],
      "text/plain": [
       "  ENTREZID GENENAME                                       SYMBOL \n",
       "1 1593     cytochrome P450 family 27 subfamily A member 1 CYP27A1\n",
       "2 2055     CLN8 transmembrane ER and ERGIC protein        CLN8   \n",
       "3 2222     farnesyl-diphosphate farnesyltransferase 1     FDFT1  \n",
       "4 2230     ferredoxin 1                                   FDX1   \n",
       "5 4047     lanosterol synthase                            LSS    \n",
       "6 4790     nuclear factor kappa B subunit 1               NFKB1  \n",
       "  L.donovani_4vsControl_logFC L.donovani_8vsControl_logFC\n",
       "1  0.6617582                   1.1820994                 \n",
       "2  1.0428514                   0.9651887                 \n",
       "3 -0.6235646                  -0.8579507                 \n",
       "4  0.4468257                   0.8012325                 \n",
       "5  1.0325449                   1.3555131                 \n",
       "6  0.7861651                   0.6636676                 \n",
       "  L.donovani_24vsControl_logFC L.major_4vsControl_logFC\n",
       "1  1.8167363                    0.3974868              \n",
       "2  0.8254485                    1.0277801              \n",
       "3 -0.2867595                   -0.3333820              \n",
       "4  1.2851679                    0.5277191              \n",
       "5  1.2190693                    1.3523760              \n",
       "6  0.6113833                    1.2044069              \n",
       "  L.major_8vsControl_logFC L.major_24vsControl_logFC\n",
       "1  0.9348959                1.8417425               \n",
       "2  1.2407114                0.8131458               \n",
       "3 -0.8968429               -0.6231387               \n",
       "4  0.8919982                1.4925701               \n",
       "5  1.7870638                1.4371153               \n",
       "6  1.1220219                0.8210967               "
      ]
     },
     "metadata": {},
     "output_type": "display_data"
    }
   ],
   "source": [
    "store<-merge(combined.results[[1]],combined.results[[2]][,-c(2:3)],\n",
    "              by=\"ENTREZID\")\n",
    "logFC.heatmap<-store[,c(c(1:3),grep(\"logFC\",colnames(store)))]\n",
    "head(logFC.heatmap)"
   ]
  },
  {
   "cell_type": "code",
   "execution_count": 76,
   "metadata": {},
   "outputs": [
    {
     "data": {
      "text/html": [
       "<strong>png:</strong> 2"
      ],
      "text/latex": [
       "\\textbf{png:} 2"
      ],
      "text/markdown": [
       "**png:** 2"
      ],
      "text/plain": [
       "png \n",
       "  2 "
      ]
     },
     "metadata": {},
     "output_type": "display_data"
    }
   ],
   "source": [
    "colors<-c(c(brewer.pal(8,\"Set1\")),c(brewer.pal(5,\"Set2\")))\n",
    "treatment_time_color<-rep(c(colors[1],colors[2],colors[3]),2)\n",
    "strain_color<-c(rep(colors[4],3),rep(colors[5],3))\n",
    "myCols <- cbind(strain_color,treatment_time_color)\n",
    "\n",
    "store<-logFC.heatmap\n",
    "input<-data.matrix(store[,-c(1:3)])\n",
    "\n",
    "input.mean<-apply(input,1,mean)\n",
    "input.sd<-apply(input,1,sd)\n",
    "input <- sweep(input, 1, input.mean, \"-\")\n",
    "input <- sweep(input, 1, input.sd, \"/\")\n",
    "\n",
    "colnames(myCols)[1] <- \"Strains\"\n",
    "colnames(myCols)[2] <- \"Treatment Time\"\n",
    "strain_names<-c(rep(\"L.donovani\",3),rep(\"L.major\",3))\n",
    "\n",
    "treatment_times<-c(4,8,24)\n",
    "treatment_color_options<-c(colors[1],colors[2],colors[3])\n",
    "strain_color_options<-c(colors[4],colors[5])\n",
    "\n",
    "# Top genes heatmap\n",
    "# dendrogram = c(\"both\",\"row\",\"column\",\"none\")\n",
    "svg(file=\"SignificantCholesterolGenes_L.dono_L.major_Heatmap.svg\")  \n",
    "                        \n",
    "par(cex.main=0.8,mar=c(0,15,1.5,0))\n",
    "heatmap.2(input, trace=\"column\", tracecol=\"cyan\", \n",
    "          col=bluered(20),\n",
    "          labRow=store$SYMBOL,\n",
    "          labCol=strain_names,\n",
    "          dendrogram = \"row\",Colv=NA,\n",
    "          scale=\"column\",\n",
    "          cexRow=1,cexCol=1, \n",
    "          margins = c(5.4,12), main=\"Heatmap of Cholesterol Genes\",  \n",
    "          ColSideColors=treatment_time_color\n",
    "         )\n",
    "# legend(\"topright\",inset=c(0.01,0.0),legend=c(\"L.donovani\",\"L.major\"),\n",
    "#        fill=strain_color_options,cex=0.45,title=\"Strains\",\n",
    "#        box.lwd=0.5,text.width=0.15)\n",
    "legend(\"topright\",inset=c(0.4,0.09),legend=paste(treatment_times,\"hours\"),\n",
    "       fill=treatment_color_options,cex=0.45,title=\"Infection Time\",\n",
    "       box.lwd=0.5,text.width=0.15)\n",
    "          \n",
    "# for exporting svg etc\n",
    "dev.off()"
   ]
  },
  {
   "cell_type": "code",
   "execution_count": 16,
   "metadata": {},
   "outputs": [
    {
     "data": {
      "text/html": [
       "<table>\n",
       "<caption>A data.frame: 2 × 12</caption>\n",
       "<thead>\n",
       "\t<tr><th></th><th scope=col>ENTREZID</th><th scope=col>PROBEID</th><th scope=col>GENENAME</th><th scope=col>SYMBOL</th><th scope=col>ENSEMBL</th><th scope=col>logFC</th><th scope=col>AveExpr</th><th scope=col>t</th><th scope=col>P.Value</th><th scope=col>adj.P.Val</th><th scope=col>B</th><th scope=col>test</th></tr>\n",
       "\t<tr><th></th><th scope=col>&lt;int&gt;</th><th scope=col>&lt;int&gt;</th><th scope=col>&lt;chr&gt;</th><th scope=col>&lt;chr&gt;</th><th scope=col>&lt;chr&gt;</th><th scope=col>&lt;dbl&gt;</th><th scope=col>&lt;dbl&gt;</th><th scope=col>&lt;dbl&gt;</th><th scope=col>&lt;dbl&gt;</th><th scope=col>&lt;dbl&gt;</th><th scope=col>&lt;dbl&gt;</th><th scope=col>&lt;int&gt;</th></tr>\n",
       "</thead>\n",
       "<tbody>\n",
       "\t<tr><th scope=row>1</th><td>10484</td><td>3561952</td><td>Sec23 homolog A, coat complex II component           </td><td>SEC23A</td><td>ENSG00000100934</td><td>-0.6244444</td><td>6.770000</td><td>-4.279711</td><td>0.0004285496</td><td>0.01217136</td><td>2.5385809</td><td>-1</td></tr>\n",
       "\t<tr><th scope=row>2</th><td>10558</td><td>3214582</td><td>serine palmitoyltransferase long chain base subunit 1</td><td>SPTLC1</td><td>ENSG00000090054</td><td>-0.3188889</td><td>7.719444</td><td>-3.218785</td><td>0.0046459683</td><td>0.04083054</td><td>0.4125763</td><td>-1</td></tr>\n",
       "</tbody>\n",
       "</table>\n"
      ],
      "text/latex": [
       "A data.frame: 2 × 12\n",
       "\\begin{tabular}{r|llllllllllll}\n",
       "  & ENTREZID & PROBEID & GENENAME & SYMBOL & ENSEMBL & logFC & AveExpr & t & P.Value & adj.P.Val & B & test\\\\\n",
       "  & <int> & <int> & <chr> & <chr> & <chr> & <dbl> & <dbl> & <dbl> & <dbl> & <dbl> & <dbl> & <int>\\\\\n",
       "\\hline\n",
       "\t1 & 10484 & 3561952 & Sec23 homolog A, coat complex II component            & SEC23A & ENSG00000100934 & -0.6244444 & 6.770000 & -4.279711 & 0.0004285496 & 0.01217136 & 2.5385809 & -1\\\\\n",
       "\t2 & 10558 & 3214582 & serine palmitoyltransferase long chain base subunit 1 & SPTLC1 & ENSG00000090054 & -0.3188889 & 7.719444 & -3.218785 & 0.0046459683 & 0.04083054 & 0.4125763 & -1\\\\\n",
       "\\end{tabular}\n"
      ],
      "text/markdown": [
       "\n",
       "A data.frame: 2 × 12\n",
       "\n",
       "| <!--/--> | ENTREZID &lt;int&gt; | PROBEID &lt;int&gt; | GENENAME &lt;chr&gt; | SYMBOL &lt;chr&gt; | ENSEMBL &lt;chr&gt; | logFC &lt;dbl&gt; | AveExpr &lt;dbl&gt; | t &lt;dbl&gt; | P.Value &lt;dbl&gt; | adj.P.Val &lt;dbl&gt; | B &lt;dbl&gt; | test &lt;int&gt; |\n",
       "|---|---|---|---|---|---|---|---|---|---|---|---|---|\n",
       "| 1 | 10484 | 3561952 | Sec23 homolog A, coat complex II component            | SEC23A | ENSG00000100934 | -0.6244444 | 6.770000 | -4.279711 | 0.0004285496 | 0.01217136 | 2.5385809 | -1 |\n",
       "| 2 | 10558 | 3214582 | serine palmitoyltransferase long chain base subunit 1 | SPTLC1 | ENSG00000090054 | -0.3188889 | 7.719444 | -3.218785 | 0.0046459683 | 0.04083054 | 0.4125763 | -1 |\n",
       "\n"
      ],
      "text/plain": [
       "  ENTREZID PROBEID GENENAME                                              SYMBOL\n",
       "1 10484    3561952 Sec23 homolog A, coat complex II component            SEC23A\n",
       "2 10558    3214582 serine palmitoyltransferase long chain base subunit 1 SPTLC1\n",
       "  ENSEMBL         logFC      AveExpr  t         P.Value      adj.P.Val \n",
       "1 ENSG00000100934 -0.6244444 6.770000 -4.279711 0.0004285496 0.01217136\n",
       "2 ENSG00000090054 -0.3188889 7.719444 -3.218785 0.0046459683 0.04083054\n",
       "  B         test\n",
       "1 2.5385809 -1  \n",
       "2 0.4125763 -1  "
      ]
     },
     "metadata": {},
     "output_type": "display_data"
    }
   ],
   "source": [
    "head(combined.results[[3]],2)"
   ]
  },
  {
   "cell_type": "code",
   "execution_count": 20,
   "metadata": {},
   "outputs": [],
   "source": [
    "store.all<-merge(logFC.heatmap,combined.results[[3]][,c(\"ENTREZID\",\"logFC\")],\n",
    "              by=\"ENTREZID\")\n",
    "heatmap<-store.all[,c(c(1:3),grep(\"logFC\",colnames(store.all)))]"
   ]
  },
  {
   "cell_type": "code",
   "execution_count": 70,
   "metadata": {},
   "outputs": [
    {
     "data": {
      "text/html": [
       "<strong>png:</strong> 2"
      ],
      "text/latex": [
       "\\textbf{png:} 2"
      ],
      "text/markdown": [
       "**png:** 2"
      ],
      "text/plain": [
       "png \n",
       "  2 "
      ]
     },
     "metadata": {},
     "output_type": "display_data"
    }
   ],
   "source": [
    "colors<-c(c(brewer.pal(8,\"Set1\")),c(brewer.pal(5,\"Set2\")))\n",
    "treatment_time_color<-c(rep(c(colors[1],colors[2],colors[3]),2),\n",
    "                        colors[4])\n",
    "strain_color<-c(rep(colors[5],3),rep(colors[6],3),colors[7])\n",
    "myCols <- cbind(strain_color,treatment_time_color)\n",
    "\n",
    "store<-store.all\n",
    "input<-data.matrix(store[,-c(1:3)])\n",
    "\n",
    "input.mean<-apply(input,1,mean)\n",
    "input.sd<-apply(input,1,sd)\n",
    "input <- sweep(input, 1, input.mean, \"-\")\n",
    "input <- sweep(input, 1, input.sd, \"/\")\n",
    "\n",
    "colnames(myCols)[1] <- \"Strains\"\n",
    "colnames(myCols)[2] <- \"Treatment Time\"\n",
    "strain_names<-c(rep(\"L.donovani\",3),rep(\"L.major\",3),\"L.braziliensis\")\n",
    "\n",
    "treatment_times<-c(rep(c(4,8,24),2),c(72))\n",
    "treatment_color_options<-c(colors[1],colors[2],colors[3],colors[4])\n",
    "strain_color_options<-c(colors[5],colors[6],colors[7])\n",
    "\n",
    "# Top genes heatmap\n",
    "# dendrogram = c(\"both\",\"row\",\"column\",\"none\")\n",
    "svg(file=\"SignificantCholesterolGenes_L.dono_L.major_L.braz_Heatmap.svg\")  \n",
    "par(cex.main=0.8,mar=c(0,15,1.5,1))\n",
    "heatmap.2(input, trace=\"column\", tracecol=\"cyan\", \n",
    "          col=bluered(20),\n",
    "          labRow=store$SYMBOL,\n",
    "          labCol=strain_names,\n",
    "          dendrogram = \"row\",Colv=NA,\n",
    "          scale=\"column\",\n",
    "          cexRow=1,cexCol=1, \n",
    "          margins = c(6.1,12), main=\"Heatmap of Cholesterol Genes\",  \n",
    "          ColSideColors=treatment_time_color\n",
    "         )\n",
    "# legend(\"topright\",inset=c(0.4,0.04),\n",
    "#        legend=c(\"L.donovani\",\"L.major\",\"L.braziliensis\"),\n",
    "#        fill=strain_color_options,cex=0.45,title=\"Strains\",\n",
    "#        box.lwd=0.5,text.width=0.15)\n",
    "legend(\"topright\",inset=c(0.4,0.12),\n",
    "       legend=paste(c(4,8,24,72),\"hours\"),\n",
    "       fill=treatment_color_options,cex=0.45,title=\"Infection Time\",\n",
    "       box.lwd=0.5,text.width=0.15)\n",
    "          \n",
    "# for exporting svg etc\n",
    "dev.off()"
   ]
  },
  {
   "cell_type": "markdown",
   "metadata": {},
   "source": [
    "## Venn Diagram"
   ]
  },
  {
   "cell_type": "code",
   "execution_count": 39,
   "metadata": {},
   "outputs": [
    {
     "name": "stderr",
     "output_type": "stream",
     "text": [
      "Warning message:\n",
      "\"package 'VennDiagram' was built under R version 4.0.3\"\n",
      "Loading required package: grid\n",
      "\n",
      "Loading required package: futile.logger\n",
      "\n"
     ]
    }
   ],
   "source": [
    "library(\"VennDiagram\")"
   ]
  },
  {
   "cell_type": "code",
   "execution_count": 44,
   "metadata": {
    "scrolled": true
   },
   "outputs": [],
   "source": [
    "names<-c(\"L.donovani\",\"L.major\",\"L.braziliensis\")\n",
    "file.names<-paste(names,\"SignificantGenes.txt\",sep=\"_\")\n",
    "significant.results<-lapply(file.names,function(x){\n",
    "        read.table(file=paste0(\"assets/\",x),header=T,sep=\"\\t\",quote=\"\")\n",
    "})\n",
    "names(significant.results)<-names"
   ]
  },
  {
   "cell_type": "code",
   "execution_count": 45,
   "metadata": {},
   "outputs": [
    {
     "data": {
      "text/html": [
       "<table>\n",
       "<caption>A data.frame: 3 × 9</caption>\n",
       "<thead>\n",
       "\t<tr><th></th><th scope=col>ENTREZID</th><th scope=col>GENENAME</th><th scope=col>SYMBOL</th><th scope=col>L.donovani_4vsControl_logFC</th><th scope=col>L.donovani_4vsControl_test</th><th scope=col>L.donovani_8vsControl_logFC</th><th scope=col>L.donovani_8vsControl_test</th><th scope=col>L.donovani_24vsControl_logFC</th><th scope=col>L.donovani_24vsControl_test</th></tr>\n",
       "\t<tr><th></th><th scope=col>&lt;int&gt;</th><th scope=col>&lt;chr&gt;</th><th scope=col>&lt;chr&gt;</th><th scope=col>&lt;dbl&gt;</th><th scope=col>&lt;int&gt;</th><th scope=col>&lt;dbl&gt;</th><th scope=col>&lt;int&gt;</th><th scope=col>&lt;dbl&gt;</th><th scope=col>&lt;int&gt;</th></tr>\n",
       "</thead>\n",
       "<tbody>\n",
       "\t<tr><th scope=row>1</th><td>4489</td><td>metallothionein 1A</td><td>MT1A</td><td>3.564736</td><td>1</td><td>3.937992</td><td>1</td><td>3.333190</td><td>1</td></tr>\n",
       "\t<tr><th scope=row>2</th><td>4502</td><td>metallothionein 2A</td><td>MT2A</td><td>3.545896</td><td>1</td><td>3.678668</td><td>1</td><td>3.405996</td><td>1</td></tr>\n",
       "\t<tr><th scope=row>3</th><td>4496</td><td>metallothionein 1H</td><td>MT1H</td><td>3.501433</td><td>1</td><td>3.669528</td><td>1</td><td>3.203044</td><td>1</td></tr>\n",
       "</tbody>\n",
       "</table>\n"
      ],
      "text/latex": [
       "A data.frame: 3 × 9\n",
       "\\begin{tabular}{r|lllllllll}\n",
       "  & ENTREZID & GENENAME & SYMBOL & L.donovani\\_4vsControl\\_logFC & L.donovani\\_4vsControl\\_test & L.donovani\\_8vsControl\\_logFC & L.donovani\\_8vsControl\\_test & L.donovani\\_24vsControl\\_logFC & L.donovani\\_24vsControl\\_test\\\\\n",
       "  & <int> & <chr> & <chr> & <dbl> & <int> & <dbl> & <int> & <dbl> & <int>\\\\\n",
       "\\hline\n",
       "\t1 & 4489 & metallothionein 1A & MT1A & 3.564736 & 1 & 3.937992 & 1 & 3.333190 & 1\\\\\n",
       "\t2 & 4502 & metallothionein 2A & MT2A & 3.545896 & 1 & 3.678668 & 1 & 3.405996 & 1\\\\\n",
       "\t3 & 4496 & metallothionein 1H & MT1H & 3.501433 & 1 & 3.669528 & 1 & 3.203044 & 1\\\\\n",
       "\\end{tabular}\n"
      ],
      "text/markdown": [
       "\n",
       "A data.frame: 3 × 9\n",
       "\n",
       "| <!--/--> | ENTREZID &lt;int&gt; | GENENAME &lt;chr&gt; | SYMBOL &lt;chr&gt; | L.donovani_4vsControl_logFC &lt;dbl&gt; | L.donovani_4vsControl_test &lt;int&gt; | L.donovani_8vsControl_logFC &lt;dbl&gt; | L.donovani_8vsControl_test &lt;int&gt; | L.donovani_24vsControl_logFC &lt;dbl&gt; | L.donovani_24vsControl_test &lt;int&gt; |\n",
       "|---|---|---|---|---|---|---|---|---|---|\n",
       "| 1 | 4489 | metallothionein 1A | MT1A | 3.564736 | 1 | 3.937992 | 1 | 3.333190 | 1 |\n",
       "| 2 | 4502 | metallothionein 2A | MT2A | 3.545896 | 1 | 3.678668 | 1 | 3.405996 | 1 |\n",
       "| 3 | 4496 | metallothionein 1H | MT1H | 3.501433 | 1 | 3.669528 | 1 | 3.203044 | 1 |\n",
       "\n"
      ],
      "text/plain": [
       "  ENTREZID GENENAME           SYMBOL L.donovani_4vsControl_logFC\n",
       "1 4489     metallothionein 1A MT1A   3.564736                   \n",
       "2 4502     metallothionein 2A MT2A   3.545896                   \n",
       "3 4496     metallothionein 1H MT1H   3.501433                   \n",
       "  L.donovani_4vsControl_test L.donovani_8vsControl_logFC\n",
       "1 1                          3.937992                   \n",
       "2 1                          3.678668                   \n",
       "3 1                          3.669528                   \n",
       "  L.donovani_8vsControl_test L.donovani_24vsControl_logFC\n",
       "1 1                          3.333190                    \n",
       "2 1                          3.405996                    \n",
       "3 1                          3.203044                    \n",
       "  L.donovani_24vsControl_test\n",
       "1 1                          \n",
       "2 1                          \n",
       "3 1                          "
      ]
     },
     "metadata": {},
     "output_type": "display_data"
    }
   ],
   "source": [
    "head(significant.results[[1]],3)"
   ]
  },
  {
   "cell_type": "code",
   "execution_count": 46,
   "metadata": {
    "collapsed": true
   },
   "outputs": [
    {
     "name": "stderr",
     "output_type": "stream",
     "text": [
      "Loading required package: AnnotationDbi\n",
      "\n",
      "Loading required package: stats4\n",
      "\n",
      "Loading required package: BiocGenerics\n",
      "\n",
      "Loading required package: parallel\n",
      "\n",
      "\n",
      "Attaching package: 'BiocGenerics'\n",
      "\n",
      "\n",
      "The following objects are masked from 'package:parallel':\n",
      "\n",
      "    clusterApply, clusterApplyLB, clusterCall, clusterEvalQ,\n",
      "    clusterExport, clusterMap, parApply, parCapply, parLapply,\n",
      "    parLapplyLB, parRapply, parSapply, parSapplyLB\n",
      "\n",
      "\n",
      "The following objects are masked from 'package:stats':\n",
      "\n",
      "    IQR, mad, sd, var, xtabs\n",
      "\n",
      "\n",
      "The following objects are masked from 'package:base':\n",
      "\n",
      "    anyDuplicated, append, as.data.frame, basename, cbind, colnames,\n",
      "    dirname, do.call, duplicated, eval, evalq, Filter, Find, get, grep,\n",
      "    grepl, intersect, is.unsorted, lapply, Map, mapply, match, mget,\n",
      "    order, paste, pmax, pmax.int, pmin, pmin.int, Position, rank,\n",
      "    rbind, Reduce, rownames, sapply, setdiff, sort, table, tapply,\n",
      "    union, unique, unsplit, which.max, which.min\n",
      "\n",
      "\n",
      "Loading required package: Biobase\n",
      "\n",
      "Welcome to Bioconductor\n",
      "\n",
      "    Vignettes contain introductory material; view with\n",
      "    'browseVignettes()'. To cite Bioconductor, see\n",
      "    'citation(\"Biobase\")', and for packages 'citation(\"pkgname\")'.\n",
      "\n",
      "\n",
      "Loading required package: IRanges\n",
      "\n",
      "Loading required package: S4Vectors\n",
      "\n",
      "\n",
      "Attaching package: 'S4Vectors'\n",
      "\n",
      "\n",
      "The following object is masked from 'package:gplots':\n",
      "\n",
      "    space\n",
      "\n",
      "\n",
      "The following object is masked from 'package:base':\n",
      "\n",
      "    expand.grid\n",
      "\n",
      "\n",
      "\n",
      "Attaching package: 'IRanges'\n",
      "\n",
      "\n",
      "The following object is masked from 'package:grDevices':\n",
      "\n",
      "    windows\n",
      "\n",
      "\n",
      "\n",
      "\n"
     ]
    }
   ],
   "source": [
    "library(org.Hs.eg.db)"
   ]
  },
  {
   "cell_type": "code",
   "execution_count": 47,
   "metadata": {},
   "outputs": [],
   "source": [
    "human_cholesterol_genes<-read.table(file=paste0(\"assets/\",\"human_cholesterol.txt\")\n",
    "                              ,header=T,sep=\"\\t\",quote=\"\")"
   ]
  },
  {
   "cell_type": "code",
   "execution_count": 48,
   "metadata": {},
   "outputs": [
    {
     "name": "stderr",
     "output_type": "stream",
     "text": [
      "'select()' returned 1:many mapping between keys and columns\n",
      "\n"
     ]
    }
   ],
   "source": [
    "store<-select(org.Hs.eg.db, \n",
    "                keys=human_cholesterol_genes$SYMBOL, \n",
    "                keytype=\"SYMBOL\", \n",
    "                columns=c(\"ENTREZID\",\"GENENAME\",\"ENSEMBL\"))\n",
    "\n",
    "human_cholesterol<- merge(human_cholesterol_genes,store,by=\"SYMBOL\")"
   ]
  },
  {
   "cell_type": "code",
   "execution_count": 49,
   "metadata": {},
   "outputs": [
    {
     "data": {
      "text/html": [
       "<table>\n",
       "<caption>A data.frame: 6 × 1</caption>\n",
       "<thead>\n",
       "\t<tr><th></th><th scope=col>ENTREZID</th></tr>\n",
       "\t<tr><th></th><th scope=col>&lt;chr&gt;</th></tr>\n",
       "</thead>\n",
       "<tbody>\n",
       "\t<tr><th scope=row>1</th><td>39   </td></tr>\n",
       "\t<tr><th scope=row>2</th><td>47   </td></tr>\n",
       "\t<tr><th scope=row>3</th><td>55902</td></tr>\n",
       "\t<tr><th scope=row>4</th><td>55911</td></tr>\n",
       "\t<tr><th scope=row>5</th><td>8542 </td></tr>\n",
       "\t<tr><th scope=row>6</th><td>23780</td></tr>\n",
       "</tbody>\n",
       "</table>\n"
      ],
      "text/latex": [
       "A data.frame: 6 × 1\n",
       "\\begin{tabular}{r|l}\n",
       "  & ENTREZID\\\\\n",
       "  & <chr>\\\\\n",
       "\\hline\n",
       "\t1 & 39   \\\\\n",
       "\t2 & 47   \\\\\n",
       "\t3 & 55902\\\\\n",
       "\t4 & 55911\\\\\n",
       "\t5 & 8542 \\\\\n",
       "\t6 & 23780\\\\\n",
       "\\end{tabular}\n"
      ],
      "text/markdown": [
       "\n",
       "A data.frame: 6 × 1\n",
       "\n",
       "| <!--/--> | ENTREZID &lt;chr&gt; |\n",
       "|---|---|\n",
       "| 1 | 39    |\n",
       "| 2 | 47    |\n",
       "| 3 | 55902 |\n",
       "| 4 | 55911 |\n",
       "| 5 | 8542  |\n",
       "| 6 | 23780 |\n",
       "\n"
      ],
      "text/plain": [
       "  ENTREZID\n",
       "1 39      \n",
       "2 47      \n",
       "3 55902   \n",
       "4 55911   \n",
       "5 8542    \n",
       "6 23780   "
      ]
     },
     "metadata": {},
     "output_type": "display_data"
    }
   ],
   "source": [
    "human_cholesterol_id<-as.data.frame(human_cholesterol[!duplicated(human_cholesterol$ENTREZID),]$ENTREZID)\n",
    "colnames(human_cholesterol_id)<-c(\"ENTREZID\")\n",
    "head(human_cholesterol_id)"
   ]
  },
  {
   "cell_type": "code",
   "execution_count": 50,
   "metadata": {},
   "outputs": [
    {
     "data": {
      "text/html": [
       "1"
      ],
      "text/latex": [
       "1"
      ],
      "text/markdown": [
       "1"
      ],
      "text/plain": [
       "[1] 1"
      ]
     },
     "metadata": {},
     "output_type": "display_data"
    }
   ],
   "source": [
    "set.seed(12)\n",
    "set1 ＜- significant.results[[1]][,\"ENTREZID\"]\n",
    "set2 ＜- significant.results[[2]][,\"ENTREZID\"]\n",
    "set3 ＜- significant.results[[3]][,\"ENTREZID\"]\n",
    "set4  <- human_cholesterol_id$ENTREZID\n",
    "\n",
    "x<-list(set1, set2, set3, set4)\n",
    "colors ＜- c(\"#6b7fff\", \"#c3db0f\", \"#ff4059\", \"#2cff21\")#, \"#de4dff\")\n",
    "cat.names<-c(\"L.donovani\",\"L.major\",\"L.braziliensis\",\"Cholesterol\")\n",
    "filename<-c('vennDiagram.tiff')\n",
    "# Make Venn diagram from list of groups\n",
    "venn.diagram(x = x ,\n",
    "            category.names = cat.names,\n",
    "            filename = filename,output=TRUE,\n",
    "            height = 3000, width = 3000, resolution = 500, \n",
    "            imagetype = \"tiff\" ,\n",
    "            scaled = FALSE,\n",
    "            col = \"black\",\n",
    "            fill = colors,\n",
    "            cat.col = colors,\n",
    "            cat.cex = 1,\n",
    "            margin = 0.15,\n",
    "            main = \"Significant Cholesterol Genes\",\n",
    "#             sub = \"Featuring: rotation and external lines\",\n",
    "            main.cex = 2,\n",
    "            sub.cex = 1\n",
    ")"
   ]
  },
  {
   "cell_type": "code",
   "execution_count": 52,
   "metadata": {},
   "outputs": [
    {
     "data": {
      "text/html": [
       "<table>\n",
       "<caption>A data.frame: 3 × 9</caption>\n",
       "<thead>\n",
       "\t<tr><th></th><th scope=col>ENTREZID</th><th scope=col>GENENAME</th><th scope=col>SYMBOL</th><th scope=col>L.donovani_4vsControl_logFC</th><th scope=col>L.donovani_4vsControl_test</th><th scope=col>L.donovani_8vsControl_logFC</th><th scope=col>L.donovani_8vsControl_test</th><th scope=col>L.donovani_24vsControl_logFC</th><th scope=col>L.donovani_24vsControl_test</th></tr>\n",
       "\t<tr><th></th><th scope=col>&lt;int&gt;</th><th scope=col>&lt;chr&gt;</th><th scope=col>&lt;chr&gt;</th><th scope=col>&lt;dbl&gt;</th><th scope=col>&lt;int&gt;</th><th scope=col>&lt;dbl&gt;</th><th scope=col>&lt;int&gt;</th><th scope=col>&lt;dbl&gt;</th><th scope=col>&lt;int&gt;</th></tr>\n",
       "</thead>\n",
       "<tbody>\n",
       "\t<tr><th scope=row>1</th><td>4489</td><td>metallothionein 1A</td><td>MT1A</td><td>3.564736</td><td>1</td><td>3.937992</td><td>1</td><td>3.333190</td><td>1</td></tr>\n",
       "\t<tr><th scope=row>2</th><td>4502</td><td>metallothionein 2A</td><td>MT2A</td><td>3.545896</td><td>1</td><td>3.678668</td><td>1</td><td>3.405996</td><td>1</td></tr>\n",
       "\t<tr><th scope=row>3</th><td>4496</td><td>metallothionein 1H</td><td>MT1H</td><td>3.501433</td><td>1</td><td>3.669528</td><td>1</td><td>3.203044</td><td>1</td></tr>\n",
       "</tbody>\n",
       "</table>\n"
      ],
      "text/latex": [
       "A data.frame: 3 × 9\n",
       "\\begin{tabular}{r|lllllllll}\n",
       "  & ENTREZID & GENENAME & SYMBOL & L.donovani\\_4vsControl\\_logFC & L.donovani\\_4vsControl\\_test & L.donovani\\_8vsControl\\_logFC & L.donovani\\_8vsControl\\_test & L.donovani\\_24vsControl\\_logFC & L.donovani\\_24vsControl\\_test\\\\\n",
       "  & <int> & <chr> & <chr> & <dbl> & <int> & <dbl> & <int> & <dbl> & <int>\\\\\n",
       "\\hline\n",
       "\t1 & 4489 & metallothionein 1A & MT1A & 3.564736 & 1 & 3.937992 & 1 & 3.333190 & 1\\\\\n",
       "\t2 & 4502 & metallothionein 2A & MT2A & 3.545896 & 1 & 3.678668 & 1 & 3.405996 & 1\\\\\n",
       "\t3 & 4496 & metallothionein 1H & MT1H & 3.501433 & 1 & 3.669528 & 1 & 3.203044 & 1\\\\\n",
       "\\end{tabular}\n"
      ],
      "text/markdown": [
       "\n",
       "A data.frame: 3 × 9\n",
       "\n",
       "| <!--/--> | ENTREZID &lt;int&gt; | GENENAME &lt;chr&gt; | SYMBOL &lt;chr&gt; | L.donovani_4vsControl_logFC &lt;dbl&gt; | L.donovani_4vsControl_test &lt;int&gt; | L.donovani_8vsControl_logFC &lt;dbl&gt; | L.donovani_8vsControl_test &lt;int&gt; | L.donovani_24vsControl_logFC &lt;dbl&gt; | L.donovani_24vsControl_test &lt;int&gt; |\n",
       "|---|---|---|---|---|---|---|---|---|---|\n",
       "| 1 | 4489 | metallothionein 1A | MT1A | 3.564736 | 1 | 3.937992 | 1 | 3.333190 | 1 |\n",
       "| 2 | 4502 | metallothionein 2A | MT2A | 3.545896 | 1 | 3.678668 | 1 | 3.405996 | 1 |\n",
       "| 3 | 4496 | metallothionein 1H | MT1H | 3.501433 | 1 | 3.669528 | 1 | 3.203044 | 1 |\n",
       "\n"
      ],
      "text/plain": [
       "  ENTREZID GENENAME           SYMBOL L.donovani_4vsControl_logFC\n",
       "1 4489     metallothionein 1A MT1A   3.564736                   \n",
       "2 4502     metallothionein 2A MT2A   3.545896                   \n",
       "3 4496     metallothionein 1H MT1H   3.501433                   \n",
       "  L.donovani_4vsControl_test L.donovani_8vsControl_logFC\n",
       "1 1                          3.937992                   \n",
       "2 1                          3.678668                   \n",
       "3 1                          3.669528                   \n",
       "  L.donovani_8vsControl_test L.donovani_24vsControl_logFC\n",
       "1 1                          3.333190                    \n",
       "2 1                          3.405996                    \n",
       "3 1                          3.203044                    \n",
       "  L.donovani_24vsControl_test\n",
       "1 1                          \n",
       "2 1                          \n",
       "3 1                          "
      ]
     },
     "metadata": {},
     "output_type": "display_data"
    }
   ],
   "source": [
    "head(significant.results[[1]],3)"
   ]
  },
  {
   "cell_type": "code",
   "execution_count": 54,
   "metadata": {},
   "outputs": [
    {
     "data": {
      "text/html": [
       "<table>\n",
       "<caption>A data.frame: 2 × 12</caption>\n",
       "<thead>\n",
       "\t<tr><th></th><th scope=col>PROBEID</th><th scope=col>ENTREZID</th><th scope=col>GENENAME</th><th scope=col>SYMBOL</th><th scope=col>ENSEMBL</th><th scope=col>logFC</th><th scope=col>AveExpr</th><th scope=col>t</th><th scope=col>P.Value</th><th scope=col>adj.P.Val</th><th scope=col>B</th><th scope=col>test</th></tr>\n",
       "\t<tr><th></th><th scope=col>&lt;int&gt;</th><th scope=col>&lt;int&gt;</th><th scope=col>&lt;chr&gt;</th><th scope=col>&lt;chr&gt;</th><th scope=col>&lt;chr&gt;</th><th scope=col>&lt;dbl&gt;</th><th scope=col>&lt;dbl&gt;</th><th scope=col>&lt;dbl&gt;</th><th scope=col>&lt;dbl&gt;</th><th scope=col>&lt;dbl&gt;</th><th scope=col>&lt;dbl&gt;</th><th scope=col>&lt;int&gt;</th></tr>\n",
       "</thead>\n",
       "<tbody>\n",
       "\t<tr><th scope=row>1</th><td>3358906</td><td>387266</td><td>keratin associated protein 5-3</td><td>KRTAP5-3</td><td>ENSG00000196224</td><td>1.591111</td><td>6.841111</td><td>9.247997</td><td>2.351168e-08</td><td>4.312629e-05</td><td>10.79181</td><td>1</td></tr>\n",
       "\t<tr><th scope=row>2</th><td>3358906</td><td> 57830</td><td>keratin associated protein 5-8</td><td>KRTAP5-8</td><td>ENSG00000241233</td><td>1.591111</td><td>6.841111</td><td>9.247997</td><td>2.351168e-08</td><td>4.312629e-05</td><td>10.79181</td><td>1</td></tr>\n",
       "</tbody>\n",
       "</table>\n"
      ],
      "text/latex": [
       "A data.frame: 2 × 12\n",
       "\\begin{tabular}{r|llllllllllll}\n",
       "  & PROBEID & ENTREZID & GENENAME & SYMBOL & ENSEMBL & logFC & AveExpr & t & P.Value & adj.P.Val & B & test\\\\\n",
       "  & <int> & <int> & <chr> & <chr> & <chr> & <dbl> & <dbl> & <dbl> & <dbl> & <dbl> & <dbl> & <int>\\\\\n",
       "\\hline\n",
       "\t1 & 3358906 & 387266 & keratin associated protein 5-3 & KRTAP5-3 & ENSG00000196224 & 1.591111 & 6.841111 & 9.247997 & 2.351168e-08 & 4.312629e-05 & 10.79181 & 1\\\\\n",
       "\t2 & 3358906 &  57830 & keratin associated protein 5-8 & KRTAP5-8 & ENSG00000241233 & 1.591111 & 6.841111 & 9.247997 & 2.351168e-08 & 4.312629e-05 & 10.79181 & 1\\\\\n",
       "\\end{tabular}\n"
      ],
      "text/markdown": [
       "\n",
       "A data.frame: 2 × 12\n",
       "\n",
       "| <!--/--> | PROBEID &lt;int&gt; | ENTREZID &lt;int&gt; | GENENAME &lt;chr&gt; | SYMBOL &lt;chr&gt; | ENSEMBL &lt;chr&gt; | logFC &lt;dbl&gt; | AveExpr &lt;dbl&gt; | t &lt;dbl&gt; | P.Value &lt;dbl&gt; | adj.P.Val &lt;dbl&gt; | B &lt;dbl&gt; | test &lt;int&gt; |\n",
       "|---|---|---|---|---|---|---|---|---|---|---|---|---|\n",
       "| 1 | 3358906 | 387266 | keratin associated protein 5-3 | KRTAP5-3 | ENSG00000196224 | 1.591111 | 6.841111 | 9.247997 | 2.351168e-08 | 4.312629e-05 | 10.79181 | 1 |\n",
       "| 2 | 3358906 |  57830 | keratin associated protein 5-8 | KRTAP5-8 | ENSG00000241233 | 1.591111 | 6.841111 | 9.247997 | 2.351168e-08 | 4.312629e-05 | 10.79181 | 1 |\n",
       "\n"
      ],
      "text/plain": [
       "  PROBEID ENTREZID GENENAME                       SYMBOL   ENSEMBL        \n",
       "1 3358906 387266   keratin associated protein 5-3 KRTAP5-3 ENSG00000196224\n",
       "2 3358906  57830   keratin associated protein 5-8 KRTAP5-8 ENSG00000241233\n",
       "  logFC    AveExpr  t        P.Value      adj.P.Val    B        test\n",
       "1 1.591111 6.841111 9.247997 2.351168e-08 4.312629e-05 10.79181 1   \n",
       "2 1.591111 6.841111 9.247997 2.351168e-08 4.312629e-05 10.79181 1   "
      ]
     },
     "metadata": {},
     "output_type": "display_data"
    }
   ],
   "source": [
    "head(significant.results[[3]],2)"
   ]
  },
  {
   "cell_type": "code",
   "execution_count": 55,
   "metadata": {},
   "outputs": [],
   "source": [
    "store.1_2<-merge(significant.results[[1]],significant.results[[2]][,-c(2:3)],by=\"ENTREZID\")\n",
    "store.2_3<-merge(significant.results[[2]],significant.results[[3]][,c(\"ENTREZID\",\"logFC\")],by=\"ENTREZID\")\n",
    "store.1_3<-merge(significant.results[[1]],significant.results[[3]][,c(\"ENTREZID\",\"logFC\")],by=\"ENTREZID\")\n",
    "write.table(store.1_2, \n",
    "            file=paste0(\"Significant_L.dono_L.major.txt\"), \n",
    "            sep=\"\\t\", quote=F, row.names=FALSE)\n",
    "write.table(store.2_3, \n",
    "            file=paste0(\"Significant_L.major_L.braz.txt\"), \n",
    "            sep=\"\\t\", quote=F, row.names=FALSE)\n",
    "write.table(store.1_3, \n",
    "            file=paste0(\"Significant_L.dono_L.braz.txt\"), \n",
    "            sep=\"\\t\", quote=F, row.names=FALSE)"
   ]
  },
  {
   "cell_type": "code",
   "execution_count": 78,
   "metadata": {},
   "outputs": [],
   "source": [
    "chol.store.1_2<-merge(store.1_2,human_cholesterol_id,by=\"ENTREZID\")\n",
    "chol.store.2_3<-merge(store.2_3,human_cholesterol_id,by=\"ENTREZID\")\n",
    "chol.store.1_3<-merge(store.1_3,human_cholesterol_id,by=\"ENTREZID\")\n",
    "write.table(chol.store.1_2, \n",
    "            file=paste0(\"SignificantCholesterol_L.dono_L.major.txt\"), \n",
    "            sep=\"\\t\", quote=F, row.names=FALSE)\n",
    "write.table(chol.store.2_3, \n",
    "            file=paste0(\"SignificantCholesterol_L.major_L.braz.txt\"), \n",
    "            sep=\"\\t\", quote=F, row.names=FALSE)\n",
    "write.table(chol.store.1_3, \n",
    "            file=paste0(\"SignificantCholesterol_L.dono_L.braz.txt\"), \n",
    "            sep=\"\\t\", quote=F, row.names=FALSE)"
   ]
  },
  {
   "cell_type": "code",
   "execution_count": 79,
   "metadata": {},
   "outputs": [],
   "source": [
    "store.1_2_3<-merge(store.1_2,significant.results[[3]][,c(\"ENTREZID\",\"logFC\")],by=\"ENTREZID\")\n",
    "chol.store.1_2_3<-merge(store.1_2_3,human_cholesterol_id,by=\"ENTREZID\")\n",
    "write.table(store.1_2_3, \n",
    "            file=paste0(\"Significant_L.dono_L.major_L.braz.txt\"), \n",
    "            sep=\"\\t\", quote=F, row.names=FALSE)\n",
    "write.table(chol.store.1_2_3, \n",
    "            file=paste0(\"SignificantCholesterol_L.dono_L.major_L.braz.txt\"), \n",
    "            sep=\"\\t\", quote=F, row.names=FALSE)"
   ]
  },
  {
   "cell_type": "markdown",
   "metadata": {},
   "source": [
    "## All Cholesterol genes that were significant in atleast one infection time"
   ]
  },
  {
   "cell_type": "code",
   "execution_count": 11,
   "metadata": {},
   "outputs": [],
   "source": [
    "# all significant cholesterol entrezid\n",
    "store<- sort(c(combined.results[[1]]$ENTREZID,\n",
    "                       combined.results[[2]]$ENTREZID,\n",
    "                       combined.results[[3]]$ENTREZID))\n",
    "unique.store<-store[duplicated(store)]"
   ]
  },
  {
   "cell_type": "code",
   "execution_count": 13,
   "metadata": {},
   "outputs": [
    {
     "data": {
      "text/html": [
       "41"
      ],
      "text/latex": [
       "41"
      ],
      "text/markdown": [
       "41"
      ],
      "text/plain": [
       "[1] 41"
      ]
     },
     "metadata": {},
     "output_type": "display_data"
    }
   ],
   "source": [
    "length(unique.store)"
   ]
  },
  {
   "cell_type": "code",
   "execution_count": 14,
   "metadata": {},
   "outputs": [],
   "source": [
    "names<-c(\"L.donovani\",\"L.major\",\"L.braziliensis\")\n",
    "file.names<-paste(names,\"CholesterolGenes.txt\",sep=\"_\")\n",
    "cholesterol.results<-lapply(file.names,function(x){\n",
    "        read.table(file=paste0(\"assets/\",x),header=T,sep=\"\\t\",quote=\"\")\n",
    "})\n",
    "names(cholesterol.results)<-names"
   ]
  },
  {
   "cell_type": "code",
   "execution_count": 18,
   "metadata": {},
   "outputs": [
    {
     "data": {
      "text/html": [
       "<style>\n",
       ".list-inline {list-style: none; margin:0; padding: 0}\n",
       ".list-inline>li {display: inline-block}\n",
       ".list-inline>li:not(:last-child)::after {content: \"\\00b7\"; padding: 0 .5ex}\n",
       "</style>\n",
       "<ol class=list-inline><li>'ENTREZID'</li><li>'PROBEID'</li><li>'GENENAME'</li><li>'SYMBOL'</li><li>'ENSEMBL'</li><li>'logFC'</li><li>'AveExpr'</li><li>'t'</li><li>'P.Value'</li><li>'adj.P.Val'</li><li>'B'</li><li>'test'</li></ol>\n"
      ],
      "text/latex": [
       "\\begin{enumerate*}\n",
       "\\item 'ENTREZID'\n",
       "\\item 'PROBEID'\n",
       "\\item 'GENENAME'\n",
       "\\item 'SYMBOL'\n",
       "\\item 'ENSEMBL'\n",
       "\\item 'logFC'\n",
       "\\item 'AveExpr'\n",
       "\\item 't'\n",
       "\\item 'P.Value'\n",
       "\\item 'adj.P.Val'\n",
       "\\item 'B'\n",
       "\\item 'test'\n",
       "\\end{enumerate*}\n"
      ],
      "text/markdown": [
       "1. 'ENTREZID'\n",
       "2. 'PROBEID'\n",
       "3. 'GENENAME'\n",
       "4. 'SYMBOL'\n",
       "5. 'ENSEMBL'\n",
       "6. 'logFC'\n",
       "7. 'AveExpr'\n",
       "8. 't'\n",
       "9. 'P.Value'\n",
       "10. 'adj.P.Val'\n",
       "11. 'B'\n",
       "12. 'test'\n",
       "\n",
       "\n"
      ],
      "text/plain": [
       " [1] \"ENTREZID\"  \"PROBEID\"   \"GENENAME\"  \"SYMBOL\"    \"ENSEMBL\"   \"logFC\"    \n",
       " [7] \"AveExpr\"   \"t\"         \"P.Value\"   \"adj.P.Val\" \"B\"         \"test\"     "
      ]
     },
     "metadata": {},
     "output_type": "display_data"
    }
   ],
   "source": [
    "colnames(cholesterol.results[[3]])"
   ]
  },
  {
   "cell_type": "code",
   "execution_count": 19,
   "metadata": {},
   "outputs": [],
   "source": [
    "col.match<- function(colnames,match){\n",
    "    col.names<-c()\n",
    "    for(col in match)\n",
    "      col.names<-c(col.names,grep(col,colnames))\n",
    "    return(col.names)\n",
    "}"
   ]
  },
  {
   "cell_type": "code",
   "execution_count": 43,
   "metadata": {},
   "outputs": [],
   "source": [
    "combined.cholesterol<-data.frame()\n",
    "names<-names(cholesterol.results)    \n",
    "for(x in names){\n",
    "    if(which(x==names)==1){\n",
    "        col.names<- col.match(colnames(cholesterol.results[[x]]),\n",
    "                             c(\"ENTREZID\",\"GENENAME\",\"SYMBOL\",\"logFC\",\"test\"))\n",
    "        combined.cholesterol<-cholesterol.results[[x]][,col.names]\n",
    "        } \n",
    "    else{\n",
    "        col.names<- col.match(colnames(cholesterol.results[[x]]),\n",
    "                             c(\"ENTREZID\",\"logFC\",\"test\"))\n",
    "        combined.cholesterol<-merge(combined.cholesterol,\n",
    "                     cholesterol.results[[x]][,col.names],\n",
    "                     by=\"ENTREZID\")\n",
    "    }\n",
    "}\n",
    "braz.col<-colnames(combined.cholesterol)[c(16,17)]\n",
    "colnames(combined.cholesterol)[c(16,17)]<-paste(\"L.braziliensis_72vsControl\",\n",
    "                                      braz.col, sep=\"_\")"
   ]
  },
  {
   "cell_type": "code",
   "execution_count": 45,
   "metadata": {},
   "outputs": [
    {
     "data": {
      "text/html": [
       "<table>\n",
       "<caption>A data.frame: 6 × 17</caption>\n",
       "<thead>\n",
       "\t<tr><th></th><th scope=col>ENTREZID</th><th scope=col>GENENAME</th><th scope=col>SYMBOL</th><th scope=col>L.donovani_4vsControl_logFC</th><th scope=col>L.donovani_8vsControl_logFC</th><th scope=col>L.donovani_24vsControl_logFC</th><th scope=col>L.donovani_4vsControl_test</th><th scope=col>L.donovani_8vsControl_test</th><th scope=col>L.donovani_24vsControl_test</th><th scope=col>L.major_4vsControl_logFC</th><th scope=col>L.major_8vsControl_logFC</th><th scope=col>L.major_24vsControl_logFC</th><th scope=col>L.major_4vsControl_test</th><th scope=col>L.major_8vsControl_test</th><th scope=col>L.major_24vsControl_test</th><th scope=col>L.braziliensis_72vsControl_logFC</th><th scope=col>L.braziliensis_72vsControl_test</th></tr>\n",
       "\t<tr><th></th><th scope=col>&lt;int&gt;</th><th scope=col>&lt;chr&gt;</th><th scope=col>&lt;chr&gt;</th><th scope=col>&lt;dbl&gt;</th><th scope=col>&lt;dbl&gt;</th><th scope=col>&lt;dbl&gt;</th><th scope=col>&lt;int&gt;</th><th scope=col>&lt;int&gt;</th><th scope=col>&lt;int&gt;</th><th scope=col>&lt;dbl&gt;</th><th scope=col>&lt;dbl&gt;</th><th scope=col>&lt;dbl&gt;</th><th scope=col>&lt;int&gt;</th><th scope=col>&lt;int&gt;</th><th scope=col>&lt;int&gt;</th><th scope=col>&lt;dbl&gt;</th><th scope=col>&lt;int&gt;</th></tr>\n",
       "</thead>\n",
       "<tbody>\n",
       "\t<tr><th scope=row>1</th><td>  39</td><td>acetyl-CoA acetyltransferase 2                </td><td>ACAT2  </td><td> 0.7617580</td><td> 0.85204904</td><td> 1.2121357</td><td>0</td><td>0</td><td>0</td><td> 1.2651908</td><td> 1.1470215</td><td> 0.9422972</td><td>1</td><td> 0</td><td>0</td><td>-0.63777778</td><td>-1</td></tr>\n",
       "\t<tr><th scope=row>2</th><td>  47</td><td>ATP citrate lyase                             </td><td>ACLY   </td><td>-0.3647168</td><td>-0.36479191</td><td>-0.1286198</td><td>0</td><td>0</td><td>0</td><td>-0.2369586</td><td>-0.3042742</td><td>-0.3000985</td><td>0</td><td>-1</td><td>0</td><td>-0.36666667</td><td>-1</td></tr>\n",
       "\t<tr><th scope=row>3</th><td>1387</td><td>CREB binding protein                          </td><td>CREBBP </td><td> 0.0559148</td><td> 0.21281145</td><td>-0.1493207</td><td>0</td><td>0</td><td>0</td><td> 0.3267746</td><td> 0.4665610</td><td> 0.2694436</td><td>0</td><td> 0</td><td>0</td><td>-0.21000000</td><td>-1</td></tr>\n",
       "\t<tr><th scope=row>4</th><td>1593</td><td>cytochrome P450 family 27 subfamily A member 1</td><td>CYP27A1</td><td> 0.6617582</td><td> 1.18209936</td><td> 1.8167363</td><td>0</td><td>0</td><td>1</td><td> 0.3974868</td><td> 0.9348959</td><td> 1.8417425</td><td>0</td><td> 0</td><td>1</td><td> 0.01444444</td><td> 0</td></tr>\n",
       "\t<tr><th scope=row>5</th><td>1595</td><td>cytochrome P450 family 51 subfamily A member 1</td><td>CYP51A1</td><td> 0.5268071</td><td> 0.31132528</td><td> 0.3792897</td><td>0</td><td>0</td><td>0</td><td> 0.7930525</td><td> 0.3882755</td><td>-0.7371781</td><td>0</td><td> 0</td><td>0</td><td>-0.45111111</td><td>-1</td></tr>\n",
       "\t<tr><th scope=row>6</th><td>1718</td><td>24-dehydrocholesterol reductase               </td><td>DHCR24 </td><td> 0.2293865</td><td>-0.06713261</td><td> 0.7208658</td><td>0</td><td>0</td><td>0</td><td> 0.1316640</td><td>-0.4151133</td><td>-1.2324389</td><td>0</td><td> 0</td><td>0</td><td>-0.44555556</td><td>-1</td></tr>\n",
       "</tbody>\n",
       "</table>\n"
      ],
      "text/latex": [
       "A data.frame: 6 × 17\n",
       "\\begin{tabular}{r|lllllllllllllllll}\n",
       "  & ENTREZID & GENENAME & SYMBOL & L.donovani\\_4vsControl\\_logFC & L.donovani\\_8vsControl\\_logFC & L.donovani\\_24vsControl\\_logFC & L.donovani\\_4vsControl\\_test & L.donovani\\_8vsControl\\_test & L.donovani\\_24vsControl\\_test & L.major\\_4vsControl\\_logFC & L.major\\_8vsControl\\_logFC & L.major\\_24vsControl\\_logFC & L.major\\_4vsControl\\_test & L.major\\_8vsControl\\_test & L.major\\_24vsControl\\_test & L.braziliensis\\_72vsControl\\_logFC & L.braziliensis\\_72vsControl\\_test\\\\\n",
       "  & <int> & <chr> & <chr> & <dbl> & <dbl> & <dbl> & <int> & <int> & <int> & <dbl> & <dbl> & <dbl> & <int> & <int> & <int> & <dbl> & <int>\\\\\n",
       "\\hline\n",
       "\t1 &   39 & acetyl-CoA acetyltransferase 2                 & ACAT2   &  0.7617580 &  0.85204904 &  1.2121357 & 0 & 0 & 0 &  1.2651908 &  1.1470215 &  0.9422972 & 1 &  0 & 0 & -0.63777778 & -1\\\\\n",
       "\t2 &   47 & ATP citrate lyase                              & ACLY    & -0.3647168 & -0.36479191 & -0.1286198 & 0 & 0 & 0 & -0.2369586 & -0.3042742 & -0.3000985 & 0 & -1 & 0 & -0.36666667 & -1\\\\\n",
       "\t3 & 1387 & CREB binding protein                           & CREBBP  &  0.0559148 &  0.21281145 & -0.1493207 & 0 & 0 & 0 &  0.3267746 &  0.4665610 &  0.2694436 & 0 &  0 & 0 & -0.21000000 & -1\\\\\n",
       "\t4 & 1593 & cytochrome P450 family 27 subfamily A member 1 & CYP27A1 &  0.6617582 &  1.18209936 &  1.8167363 & 0 & 0 & 1 &  0.3974868 &  0.9348959 &  1.8417425 & 0 &  0 & 1 &  0.01444444 &  0\\\\\n",
       "\t5 & 1595 & cytochrome P450 family 51 subfamily A member 1 & CYP51A1 &  0.5268071 &  0.31132528 &  0.3792897 & 0 & 0 & 0 &  0.7930525 &  0.3882755 & -0.7371781 & 0 &  0 & 0 & -0.45111111 & -1\\\\\n",
       "\t6 & 1718 & 24-dehydrocholesterol reductase                & DHCR24  &  0.2293865 & -0.06713261 &  0.7208658 & 0 & 0 & 0 &  0.1316640 & -0.4151133 & -1.2324389 & 0 &  0 & 0 & -0.44555556 & -1\\\\\n",
       "\\end{tabular}\n"
      ],
      "text/markdown": [
       "\n",
       "A data.frame: 6 × 17\n",
       "\n",
       "| <!--/--> | ENTREZID &lt;int&gt; | GENENAME &lt;chr&gt; | SYMBOL &lt;chr&gt; | L.donovani_4vsControl_logFC &lt;dbl&gt; | L.donovani_8vsControl_logFC &lt;dbl&gt; | L.donovani_24vsControl_logFC &lt;dbl&gt; | L.donovani_4vsControl_test &lt;int&gt; | L.donovani_8vsControl_test &lt;int&gt; | L.donovani_24vsControl_test &lt;int&gt; | L.major_4vsControl_logFC &lt;dbl&gt; | L.major_8vsControl_logFC &lt;dbl&gt; | L.major_24vsControl_logFC &lt;dbl&gt; | L.major_4vsControl_test &lt;int&gt; | L.major_8vsControl_test &lt;int&gt; | L.major_24vsControl_test &lt;int&gt; | L.braziliensis_72vsControl_logFC &lt;dbl&gt; | L.braziliensis_72vsControl_test &lt;int&gt; |\n",
       "|---|---|---|---|---|---|---|---|---|---|---|---|---|---|---|---|---|---|\n",
       "| 1 |   39 | acetyl-CoA acetyltransferase 2                 | ACAT2   |  0.7617580 |  0.85204904 |  1.2121357 | 0 | 0 | 0 |  1.2651908 |  1.1470215 |  0.9422972 | 1 |  0 | 0 | -0.63777778 | -1 |\n",
       "| 2 |   47 | ATP citrate lyase                              | ACLY    | -0.3647168 | -0.36479191 | -0.1286198 | 0 | 0 | 0 | -0.2369586 | -0.3042742 | -0.3000985 | 0 | -1 | 0 | -0.36666667 | -1 |\n",
       "| 3 | 1387 | CREB binding protein                           | CREBBP  |  0.0559148 |  0.21281145 | -0.1493207 | 0 | 0 | 0 |  0.3267746 |  0.4665610 |  0.2694436 | 0 |  0 | 0 | -0.21000000 | -1 |\n",
       "| 4 | 1593 | cytochrome P450 family 27 subfamily A member 1 | CYP27A1 |  0.6617582 |  1.18209936 |  1.8167363 | 0 | 0 | 1 |  0.3974868 |  0.9348959 |  1.8417425 | 0 |  0 | 1 |  0.01444444 |  0 |\n",
       "| 5 | 1595 | cytochrome P450 family 51 subfamily A member 1 | CYP51A1 |  0.5268071 |  0.31132528 |  0.3792897 | 0 | 0 | 0 |  0.7930525 |  0.3882755 | -0.7371781 | 0 |  0 | 0 | -0.45111111 | -1 |\n",
       "| 6 | 1718 | 24-dehydrocholesterol reductase                | DHCR24  |  0.2293865 | -0.06713261 |  0.7208658 | 0 | 0 | 0 |  0.1316640 | -0.4151133 | -1.2324389 | 0 |  0 | 0 | -0.44555556 | -1 |\n",
       "\n"
      ],
      "text/plain": [
       "  ENTREZID GENENAME                                       SYMBOL \n",
       "1   39     acetyl-CoA acetyltransferase 2                 ACAT2  \n",
       "2   47     ATP citrate lyase                              ACLY   \n",
       "3 1387     CREB binding protein                           CREBBP \n",
       "4 1593     cytochrome P450 family 27 subfamily A member 1 CYP27A1\n",
       "5 1595     cytochrome P450 family 51 subfamily A member 1 CYP51A1\n",
       "6 1718     24-dehydrocholesterol reductase                DHCR24 \n",
       "  L.donovani_4vsControl_logFC L.donovani_8vsControl_logFC\n",
       "1  0.7617580                   0.85204904                \n",
       "2 -0.3647168                  -0.36479191                \n",
       "3  0.0559148                   0.21281145                \n",
       "4  0.6617582                   1.18209936                \n",
       "5  0.5268071                   0.31132528                \n",
       "6  0.2293865                  -0.06713261                \n",
       "  L.donovani_24vsControl_logFC L.donovani_4vsControl_test\n",
       "1  1.2121357                   0                         \n",
       "2 -0.1286198                   0                         \n",
       "3 -0.1493207                   0                         \n",
       "4  1.8167363                   0                         \n",
       "5  0.3792897                   0                         \n",
       "6  0.7208658                   0                         \n",
       "  L.donovani_8vsControl_test L.donovani_24vsControl_test\n",
       "1 0                          0                          \n",
       "2 0                          0                          \n",
       "3 0                          0                          \n",
       "4 0                          1                          \n",
       "5 0                          0                          \n",
       "6 0                          0                          \n",
       "  L.major_4vsControl_logFC L.major_8vsControl_logFC L.major_24vsControl_logFC\n",
       "1  1.2651908                1.1470215                0.9422972               \n",
       "2 -0.2369586               -0.3042742               -0.3000985               \n",
       "3  0.3267746                0.4665610                0.2694436               \n",
       "4  0.3974868                0.9348959                1.8417425               \n",
       "5  0.7930525                0.3882755               -0.7371781               \n",
       "6  0.1316640               -0.4151133               -1.2324389               \n",
       "  L.major_4vsControl_test L.major_8vsControl_test L.major_24vsControl_test\n",
       "1 1                        0                      0                       \n",
       "2 0                       -1                      0                       \n",
       "3 0                        0                      0                       \n",
       "4 0                        0                      1                       \n",
       "5 0                        0                      0                       \n",
       "6 0                        0                      0                       \n",
       "  L.braziliensis_72vsControl_logFC L.braziliensis_72vsControl_test\n",
       "1 -0.63777778                      -1                             \n",
       "2 -0.36666667                      -1                             \n",
       "3 -0.21000000                      -1                             \n",
       "4  0.01444444                       0                             \n",
       "5 -0.45111111                      -1                             \n",
       "6 -0.44555556                      -1                             "
      ]
     },
     "metadata": {},
     "output_type": "display_data"
    },
    {
     "data": {
      "text/html": [
       "<style>\n",
       ".list-inline {list-style: none; margin:0; padding: 0}\n",
       ".list-inline>li {display: inline-block}\n",
       ".list-inline>li:not(:last-child)::after {content: \"\\00b7\"; padding: 0 .5ex}\n",
       "</style>\n",
       "<ol class=list-inline><li>52</li><li>17</li></ol>\n"
      ],
      "text/latex": [
       "\\begin{enumerate*}\n",
       "\\item 52\n",
       "\\item 17\n",
       "\\end{enumerate*}\n"
      ],
      "text/markdown": [
       "1. 52\n",
       "2. 17\n",
       "\n",
       "\n"
      ],
      "text/plain": [
       "[1] 52 17"
      ]
     },
     "metadata": {},
     "output_type": "display_data"
    }
   ],
   "source": [
    "head(combined.cholesterol)\n",
    "dim(combined.cholesterol)"
   ]
  },
  {
   "cell_type": "code",
   "execution_count": 58,
   "metadata": {},
   "outputs": [
    {
     "data": {
      "text/html": [
       "<strong>png:</strong> 2"
      ],
      "text/latex": [
       "\\textbf{png:} 2"
      ],
      "text/markdown": [
       "**png:** 2"
      ],
      "text/plain": [
       "png \n",
       "  2 "
      ]
     },
     "metadata": {},
     "output_type": "display_data"
    }
   ],
   "source": [
    "colors<-c(c(brewer.pal(8,\"Set1\")),c(brewer.pal(5,\"Set2\")))\n",
    "treatment_time_color<-c(rep(c(colors[1],colors[2],colors[3]),2),\n",
    "                        colors[4])\n",
    "strain_color<-c(rep(colors[5],3),rep(colors[6],3),colors[7])\n",
    "myCols <- cbind(strain_color,treatment_time_color)\n",
    "\n",
    "store<-combined.cholesterol[,-grep(\"test\",colnames(combined.cholesterol))]\n",
    "input<-data.matrix(store[,-c(1:3)])\n",
    "\n",
    "input.mean<-apply(input,1,mean)\n",
    "input.sd<-apply(input,1,sd)\n",
    "input <- sweep(input, 1, input.mean, \"-\")\n",
    "input <- sweep(input, 1, input.sd, \"/\")\n",
    "\n",
    "colnames(myCols)[1] <- \"Strains\"\n",
    "colnames(myCols)[2] <- \"Treatment Time\"\n",
    "strain_names<-c(rep(\"L.donovani\",3),rep(\"L.major\",3),\"L.braziliensis\")\n",
    "\n",
    "treatment_times<-c(4,8,24,72)\n",
    "treatment_color_options<-c(colors[1],colors[2],colors[3],colors[4])\n",
    "strain_color_options<-c(colors[5],colors[6],colors[7])\n",
    "\n",
    "# Top genes heatmap\n",
    "# dendrogram = c(\"both\",\"row\",\"column\",\"none\")\n",
    "svg(file=\"SignificantCholesterolGenes_L.dono_L.major_L.braz_Heatmap.svg\")  \n",
    "                        \n",
    "par(cex.main=0.8,mar=c(0,15,1.5,0))\n",
    "heatmap.2(input, trace=\"column\", tracecol=\"cyan\", \n",
    "          col=bluered(20),\n",
    "          labRow=store$SYMBOL,\n",
    "          labCol=strain_names,\n",
    "          dendrogram = \"row\",Colv=NA,\n",
    "          scale=\"column\",\n",
    "          cexRow=0.5,cexCol=0.8, \n",
    "          margins = c(5.4,12), main=\"Heatmap of Cholesterol Genes\",  \n",
    "          ColSideColors=treatment_time_color\n",
    "         )\n",
    "# legend(\"topright\",inset=c(0.01,0.0),legend=c(\"L.donovani\",\"L.major\"),\n",
    "#        fill=strain_color_options,cex=0.45,title=\"Strains\",\n",
    "#        box.lwd=0.5,text.width=0.15)\n",
    "legend(\"topright\",inset=c(0.4,0.09),legend=paste(treatment_times,\"hours\"),\n",
    "       fill=treatment_color_options,cex=0.45,title=\"Infection Time\",\n",
    "       box.lwd=0.5,text.width=0.15)\n",
    "          \n",
    "# for exporting svg etc\n",
    "dev.off()"
   ]
  },
  {
   "cell_type": "code",
   "execution_count": 59,
   "metadata": {},
   "outputs": [],
   "source": [
    "write.table(combined.cholesterol, \n",
    "            file=paste0(\"SignificantCholesterol_L.dono_L.major_L.braz.txt\"), \n",
    "            sep=\"\\t\", quote=F, row.names=FALSE)"
   ]
  }
 ],
 "metadata": {
  "kernelspec": {
   "display_name": "R",
   "language": "R",
   "name": "ir"
  },
  "language_info": {
   "codemirror_mode": "r",
   "file_extension": ".r",
   "mimetype": "text/x-r-source",
   "name": "R",
   "pygments_lexer": "r",
   "version": "4.0.2"
  }
 },
 "nbformat": 4,
 "nbformat_minor": 4
}
