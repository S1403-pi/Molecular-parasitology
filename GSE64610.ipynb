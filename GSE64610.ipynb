{
 "cells": [
  {
   "cell_type": "code",
   "execution_count": 1,
   "metadata": {},
   "outputs": [
    {
     "name": "stderr",
     "output_type": "stream",
     "text": [
      "Loading required package: Biobase\n",
      "\n",
      "Loading required package: BiocGenerics\n",
      "\n",
      "Loading required package: parallel\n",
      "\n",
      "\n",
      "Attaching package: 'BiocGenerics'\n",
      "\n",
      "\n",
      "The following objects are masked from 'package:parallel':\n",
      "\n",
      "    clusterApply, clusterApplyLB, clusterCall, clusterEvalQ,\n",
      "    clusterExport, clusterMap, parApply, parCapply, parLapply,\n",
      "    parLapplyLB, parRapply, parSapply, parSapplyLB\n",
      "\n",
      "\n",
      "The following objects are masked from 'package:stats':\n",
      "\n",
      "    IQR, mad, sd, var, xtabs\n",
      "\n",
      "\n",
      "The following objects are masked from 'package:base':\n",
      "\n",
      "    anyDuplicated, append, as.data.frame, basename, cbind, colnames,\n",
      "    dirname, do.call, duplicated, eval, evalq, Filter, Find, get, grep,\n",
      "    grepl, intersect, is.unsorted, lapply, Map, mapply, match, mget,\n",
      "    order, paste, pmax, pmax.int, pmin, pmin.int, Position, rank,\n",
      "    rbind, Reduce, rownames, sapply, setdiff, sort, table, tapply,\n",
      "    union, unique, unsplit, which.max, which.min\n",
      "\n",
      "\n",
      "Welcome to Bioconductor\n",
      "\n",
      "    Vignettes contain introductory material; view with\n",
      "    'browseVignettes()'. To cite Bioconductor, see\n",
      "    'citation(\"Biobase\")', and for packages 'citation(\"pkgname\")'.\n",
      "\n",
      "\n",
      "Setting options('download.file.method.GEOquery'='auto')\n",
      "\n",
      "Setting options('GEOquery.inmemory.gpl'=FALSE)\n",
      "\n",
      "Loading required package: oligoClasses\n",
      "\n",
      "Welcome to oligoClasses version 1.51.1\n",
      "\n",
      "Loading required package: Biostrings\n",
      "\n",
      "Loading required package: S4Vectors\n",
      "\n",
      "Loading required package: stats4\n",
      "\n",
      "\n",
      "Attaching package: 'S4Vectors'\n",
      "\n",
      "\n",
      "The following object is masked from 'package:base':\n",
      "\n",
      "    expand.grid\n",
      "\n",
      "\n",
      "Loading required package: IRanges\n",
      "\n",
      "\n",
      "Attaching package: 'IRanges'\n",
      "\n",
      "\n",
      "The following object is masked from 'package:grDevices':\n",
      "\n",
      "    windows\n",
      "\n",
      "\n",
      "Loading required package: XVector\n",
      "\n",
      "\n",
      "Attaching package: 'Biostrings'\n",
      "\n",
      "\n",
      "The following object is masked from 'package:base':\n",
      "\n",
      "    strsplit\n",
      "\n",
      "\n",
      "No methods found in package 'RSQLite' for request: 'dbListFields' when loading 'oligo'\n",
      "\n",
      "================================================================================\n",
      "\n",
      "Welcome to oligo version 1.53.0\n",
      "\n",
      "================================================================================\n",
      "\n"
     ]
    }
   ],
   "source": [
    "# load necessary library\n",
    "library(GEOquery)\n",
    "library(oligo)"
   ]
  },
  {
   "cell_type": "markdown",
   "metadata": {},
   "source": [
    "# Using GEOquery to Obtain Microarray Data<br>\n",
    "\n",
    "The GEOquery package allows you to programmatically access data from GEO. Depending on your needs, you can download only the processed data and metadata provided by the depositor. In some cases, you may want to download the raw data as well, if it was provided by the depositor."
   ]
  },
  {
   "cell_type": "code",
   "execution_count": 2,
   "metadata": {},
   "outputs": [],
   "source": [
    "# declare ccession number\n",
    "my.gse<-c(\"GSE64610\")\n",
    "#create directory for files downloaded from GEO and results to store\n",
    "if(!file.exists(\"geo_downloads\")) dir.create(\"geo_downloads\")\n",
    "if(!file.exists(\"results\"))  dir.create(\"results\", recursive=TRUE)"
   ]
  },
  {
   "cell_type": "code",
   "execution_count": 3,
   "metadata": {},
   "outputs": [
    {
     "name": "stderr",
     "output_type": "stream",
     "text": [
      "Found 1 file(s)\n",
      "\n",
      "GSE64610_series_matrix.txt.gz\n",
      "\n",
      "Using locally cached version: ./geo_downloads/GSE64610_series_matrix.txt.gz\n",
      "\n",
      "\n",
      "\u001b[36m--\u001b[39m \u001b[1m\u001b[1mColumn specification\u001b[1m\u001b[22m \u001b[36m--------------------------------------------------------\u001b[39m\n",
      "cols(\n",
      "  .default = col_double(),\n",
      "  ID_REF = \u001b[31mcol_character()\u001b[39m\n",
      ")\n",
      "\u001b[36mi\u001b[39m Use \u001b[30m\u001b[47m\u001b[30m\u001b[47m`spec()`\u001b[47m\u001b[30m\u001b[49m\u001b[39m for the full column specifications.\n",
      "\n",
      "\n"
     ]
    },
    {
     "data": {
      "text/plain": [
       "$GSE64610_series_matrix.txt.gz\n",
       "ExpressionSet (storageMode: lockedEnvironment)\n",
       "assayData: 45033 features, 35 samples \n",
       "  element names: exprs \n",
       "protocolData: none\n",
       "phenoData\n",
       "  sampleNames: GSM1575432 GSM1575433 ... GSM1575466 (35 total)\n",
       "  varLabels: title geo_accession ... time post-infection:ch1 (45 total)\n",
       "  varMetadata: labelDescription\n",
       "featureData: none\n",
       "experimentData: use 'experimentData(object)'\n",
       "  pubMedIds: 25376316 \n",
       "Annotation: GPL16025 \n"
      ]
     },
     "metadata": {},
     "output_type": "display_data"
    }
   ],
   "source": [
    "#get published processed data and metadata from GEO\n",
    "geo.gse <- getGEO(GEO=my.gse, filename=NULL, destdir=\"./geo_downloads\", \n",
    "                     GSElimits=NULL, GSEMatrix=TRUE, AnnotGPL=FALSE, \n",
    "                     getGPL=FALSE)\n",
    "geo.gse"
   ]
  },
  {
   "cell_type": "code",
   "execution_count": 4,
   "metadata": {
    "scrolled": false
   },
   "outputs": [
    {
     "data": {
      "text/html": [
       "'ExpressionSet'"
      ],
      "text/latex": [
       "'ExpressionSet'"
      ],
      "text/markdown": [
       "'ExpressionSet'"
      ],
      "text/plain": [
       "[1] \"ExpressionSet\"\n",
       "attr(,\"package\")\n",
       "[1] \"Biobase\""
      ]
     },
     "metadata": {},
     "output_type": "display_data"
    }
   ],
   "source": [
    "# data available from only one platform GPL16025\n",
    "my.geo.gse <- geo.gse[[1]]\n",
    "# object is now an ExpressionSet\n",
    "class(my.geo.gse)"
   ]
  },
  {
   "cell_type": "code",
   "execution_count": 5,
   "metadata": {
    "scrolled": false
   },
   "outputs": [
    {
     "data": {
      "text/html": [
       "<table>\n",
       "<caption>A data.frame: 3 × 45</caption>\n",
       "<thead>\n",
       "\t<tr><th></th><th scope=col>title</th><th scope=col>geo_accession</th><th scope=col>status</th><th scope=col>submission_date</th><th scope=col>last_update_date</th><th scope=col>type</th><th scope=col>channel_count</th><th scope=col>source_name_ch1</th><th scope=col>organism_ch1</th><th scope=col>characteristics_ch1</th><th scope=col>...</th><th scope=col>contact_state</th><th scope=col>contact_zip/postal_code</th><th scope=col>contact_country</th><th scope=col>supplementary_file</th><th scope=col>data_row_count</th><th scope=col>donor id number:ch1</th><th scope=col>host cell type:ch1</th><th scope=col>infecting parasite species:ch1</th><th scope=col>parasite strain:ch1</th><th scope=col>time post-infection:ch1</th></tr>\n",
       "\t<tr><th></th><th scope=col>&lt;chr&gt;</th><th scope=col>&lt;chr&gt;</th><th scope=col>&lt;chr&gt;</th><th scope=col>&lt;chr&gt;</th><th scope=col>&lt;chr&gt;</th><th scope=col>&lt;chr&gt;</th><th scope=col>&lt;chr&gt;</th><th scope=col>&lt;chr&gt;</th><th scope=col>&lt;chr&gt;</th><th scope=col>&lt;chr&gt;</th><th scope=col>...</th><th scope=col>&lt;chr&gt;</th><th scope=col>&lt;chr&gt;</th><th scope=col>&lt;chr&gt;</th><th scope=col>&lt;chr&gt;</th><th scope=col>&lt;chr&gt;</th><th scope=col>&lt;chr&gt;</th><th scope=col>&lt;chr&gt;</th><th scope=col>&lt;chr&gt;</th><th scope=col>&lt;chr&gt;</th><th scope=col>&lt;chr&gt;</th></tr>\n",
       "</thead>\n",
       "<tbody>\n",
       "\t<tr><th scope=row>GSM1575432</th><td>MDDC_Leishmania-donovani-strain-1S-infected_4HR-post-infection_donor-706 </td><td>GSM1575432</td><td>Public on Jan 02 2015</td><td>Dec 31 2014</td><td>Jan 02 2015</td><td>RNA</td><td>1</td><td>human-monocyte-derived-dendritic-cell_Leishmania-donovani-strain-1S-infected_4HR-post-infection </td><td>Homo sapiens</td><td>host cell type: Monocyte derived dendritic cell</td><td>...</td><td>Indiana</td><td>46556</td><td>USA</td><td>ftp://ftp.ncbi.nlm.nih.gov/geo/samples/GSM1575nnn/GSM1575432/suppl/GSM1575432_563417_2013-10-04_Cycle12_532_706-1S-04h.pair.gz</td><td>45033</td><td>706</td><td>Monocyte derived dendritic cell</td><td>Leishmania donovani</td><td>1S</td><td>4 hours </td></tr>\n",
       "\t<tr><th scope=row>GSM1575433</th><td>MDDC_Leishmania-donovani-strain-1S-infected_8HR-post-infection_donor-706 </td><td>GSM1575433</td><td>Public on Jan 02 2015</td><td>Dec 31 2014</td><td>Jan 02 2015</td><td>RNA</td><td>1</td><td>human-monocyte-derived-dendritic-cell_Leishmania-donovani-strain-1S-infected_8HR-post-infection </td><td>Homo sapiens</td><td>host cell type: Monocyte derived dendritic cell</td><td>...</td><td>Indiana</td><td>46556</td><td>USA</td><td>ftp://ftp.ncbi.nlm.nih.gov/geo/samples/GSM1575nnn/GSM1575433/suppl/GSM1575433_563685_2013-10-04_Cycle3_532_706-1S-08h.pair.gz </td><td>45033</td><td>706</td><td>Monocyte derived dendritic cell</td><td>Leishmania donovani</td><td>1S</td><td>8 hours </td></tr>\n",
       "\t<tr><th scope=row>GSM1575434</th><td>MDDC_Leishmania-donovani-strain-1S-infected_24HR-post-infection_donor-706</td><td>GSM1575434</td><td>Public on Jan 02 2015</td><td>Dec 31 2014</td><td>Jan 02 2015</td><td>RNA</td><td>1</td><td>human-monocyte-derived-dendritic-cell_Leishmania-donovani-strain-1S-infected_24HR-post-infection</td><td>Homo sapiens</td><td>host cell type: Monocyte derived dendritic cell</td><td>...</td><td>Indiana</td><td>46556</td><td>USA</td><td>ftp://ftp.ncbi.nlm.nih.gov/geo/samples/GSM1575nnn/GSM1575434/suppl/GSM1575434_563685_2013-10-04_Cycle1_532_706-1S-24h.pair.gz </td><td>45033</td><td>706</td><td>Monocyte derived dendritic cell</td><td>Leishmania donovani</td><td>1S</td><td>24 hours</td></tr>\n",
       "</tbody>\n",
       "</table>\n"
      ],
      "text/latex": [
       "A data.frame: 3 × 45\n",
       "\\begin{tabular}{r|lllllllllllllllllllll}\n",
       "  & title & geo\\_accession & status & submission\\_date & last\\_update\\_date & type & channel\\_count & source\\_name\\_ch1 & organism\\_ch1 & characteristics\\_ch1 & ... & contact\\_state & contact\\_zip/postal\\_code & contact\\_country & supplementary\\_file & data\\_row\\_count & donor id number:ch1 & host cell type:ch1 & infecting parasite species:ch1 & parasite strain:ch1 & time post-infection:ch1\\\\\n",
       "  & <chr> & <chr> & <chr> & <chr> & <chr> & <chr> & <chr> & <chr> & <chr> & <chr> & ... & <chr> & <chr> & <chr> & <chr> & <chr> & <chr> & <chr> & <chr> & <chr> & <chr>\\\\\n",
       "\\hline\n",
       "\tGSM1575432 & MDDC\\_Leishmania-donovani-strain-1S-infected\\_4HR-post-infection\\_donor-706  & GSM1575432 & Public on Jan 02 2015 & Dec 31 2014 & Jan 02 2015 & RNA & 1 & human-monocyte-derived-dendritic-cell\\_Leishmania-donovani-strain-1S-infected\\_4HR-post-infection  & Homo sapiens & host cell type: Monocyte derived dendritic cell & ... & Indiana & 46556 & USA & ftp://ftp.ncbi.nlm.nih.gov/geo/samples/GSM1575nnn/GSM1575432/suppl/GSM1575432\\_563417\\_2013-10-04\\_Cycle12\\_532\\_706-1S-04h.pair.gz & 45033 & 706 & Monocyte derived dendritic cell & Leishmania donovani & 1S & 4 hours \\\\\n",
       "\tGSM1575433 & MDDC\\_Leishmania-donovani-strain-1S-infected\\_8HR-post-infection\\_donor-706  & GSM1575433 & Public on Jan 02 2015 & Dec 31 2014 & Jan 02 2015 & RNA & 1 & human-monocyte-derived-dendritic-cell\\_Leishmania-donovani-strain-1S-infected\\_8HR-post-infection  & Homo sapiens & host cell type: Monocyte derived dendritic cell & ... & Indiana & 46556 & USA & ftp://ftp.ncbi.nlm.nih.gov/geo/samples/GSM1575nnn/GSM1575433/suppl/GSM1575433\\_563685\\_2013-10-04\\_Cycle3\\_532\\_706-1S-08h.pair.gz  & 45033 & 706 & Monocyte derived dendritic cell & Leishmania donovani & 1S & 8 hours \\\\\n",
       "\tGSM1575434 & MDDC\\_Leishmania-donovani-strain-1S-infected\\_24HR-post-infection\\_donor-706 & GSM1575434 & Public on Jan 02 2015 & Dec 31 2014 & Jan 02 2015 & RNA & 1 & human-monocyte-derived-dendritic-cell\\_Leishmania-donovani-strain-1S-infected\\_24HR-post-infection & Homo sapiens & host cell type: Monocyte derived dendritic cell & ... & Indiana & 46556 & USA & ftp://ftp.ncbi.nlm.nih.gov/geo/samples/GSM1575nnn/GSM1575434/suppl/GSM1575434\\_563685\\_2013-10-04\\_Cycle1\\_532\\_706-1S-24h.pair.gz  & 45033 & 706 & Monocyte derived dendritic cell & Leishmania donovani & 1S & 24 hours\\\\\n",
       "\\end{tabular}\n"
      ],
      "text/markdown": [
       "\n",
       "A data.frame: 3 × 45\n",
       "\n",
       "| <!--/--> | title &lt;chr&gt; | geo_accession &lt;chr&gt; | status &lt;chr&gt; | submission_date &lt;chr&gt; | last_update_date &lt;chr&gt; | type &lt;chr&gt; | channel_count &lt;chr&gt; | source_name_ch1 &lt;chr&gt; | organism_ch1 &lt;chr&gt; | characteristics_ch1 &lt;chr&gt; | ... ... | contact_state &lt;chr&gt; | contact_zip/postal_code &lt;chr&gt; | contact_country &lt;chr&gt; | supplementary_file &lt;chr&gt; | data_row_count &lt;chr&gt; | donor id number:ch1 &lt;chr&gt; | host cell type:ch1 &lt;chr&gt; | infecting parasite species:ch1 &lt;chr&gt; | parasite strain:ch1 &lt;chr&gt; | time post-infection:ch1 &lt;chr&gt; |\n",
       "|---|---|---|---|---|---|---|---|---|---|---|---|---|---|---|---|---|---|---|---|---|---|\n",
       "| GSM1575432 | MDDC_Leishmania-donovani-strain-1S-infected_4HR-post-infection_donor-706  | GSM1575432 | Public on Jan 02 2015 | Dec 31 2014 | Jan 02 2015 | RNA | 1 | human-monocyte-derived-dendritic-cell_Leishmania-donovani-strain-1S-infected_4HR-post-infection  | Homo sapiens | host cell type: Monocyte derived dendritic cell | ... | Indiana | 46556 | USA | ftp://ftp.ncbi.nlm.nih.gov/geo/samples/GSM1575nnn/GSM1575432/suppl/GSM1575432_563417_2013-10-04_Cycle12_532_706-1S-04h.pair.gz | 45033 | 706 | Monocyte derived dendritic cell | Leishmania donovani | 1S | 4 hours  |\n",
       "| GSM1575433 | MDDC_Leishmania-donovani-strain-1S-infected_8HR-post-infection_donor-706  | GSM1575433 | Public on Jan 02 2015 | Dec 31 2014 | Jan 02 2015 | RNA | 1 | human-monocyte-derived-dendritic-cell_Leishmania-donovani-strain-1S-infected_8HR-post-infection  | Homo sapiens | host cell type: Monocyte derived dendritic cell | ... | Indiana | 46556 | USA | ftp://ftp.ncbi.nlm.nih.gov/geo/samples/GSM1575nnn/GSM1575433/suppl/GSM1575433_563685_2013-10-04_Cycle3_532_706-1S-08h.pair.gz  | 45033 | 706 | Monocyte derived dendritic cell | Leishmania donovani | 1S | 8 hours  |\n",
       "| GSM1575434 | MDDC_Leishmania-donovani-strain-1S-infected_24HR-post-infection_donor-706 | GSM1575434 | Public on Jan 02 2015 | Dec 31 2014 | Jan 02 2015 | RNA | 1 | human-monocyte-derived-dendritic-cell_Leishmania-donovani-strain-1S-infected_24HR-post-infection | Homo sapiens | host cell type: Monocyte derived dendritic cell | ... | Indiana | 46556 | USA | ftp://ftp.ncbi.nlm.nih.gov/geo/samples/GSM1575nnn/GSM1575434/suppl/GSM1575434_563685_2013-10-04_Cycle1_532_706-1S-24h.pair.gz  | 45033 | 706 | Monocyte derived dendritic cell | Leishmania donovani | 1S | 24 hours |\n",
       "\n"
      ],
      "text/plain": [
       "           title                                                                    \n",
       "GSM1575432 MDDC_Leishmania-donovani-strain-1S-infected_4HR-post-infection_donor-706 \n",
       "GSM1575433 MDDC_Leishmania-donovani-strain-1S-infected_8HR-post-infection_donor-706 \n",
       "GSM1575434 MDDC_Leishmania-donovani-strain-1S-infected_24HR-post-infection_donor-706\n",
       "           geo_accession status                submission_date last_update_date\n",
       "GSM1575432 GSM1575432    Public on Jan 02 2015 Dec 31 2014     Jan 02 2015     \n",
       "GSM1575433 GSM1575433    Public on Jan 02 2015 Dec 31 2014     Jan 02 2015     \n",
       "GSM1575434 GSM1575434    Public on Jan 02 2015 Dec 31 2014     Jan 02 2015     \n",
       "           type channel_count\n",
       "GSM1575432 RNA  1            \n",
       "GSM1575433 RNA  1            \n",
       "GSM1575434 RNA  1            \n",
       "           source_name_ch1                                                                                 \n",
       "GSM1575432 human-monocyte-derived-dendritic-cell_Leishmania-donovani-strain-1S-infected_4HR-post-infection \n",
       "GSM1575433 human-monocyte-derived-dendritic-cell_Leishmania-donovani-strain-1S-infected_8HR-post-infection \n",
       "GSM1575434 human-monocyte-derived-dendritic-cell_Leishmania-donovani-strain-1S-infected_24HR-post-infection\n",
       "           organism_ch1 characteristics_ch1                             ...\n",
       "GSM1575432 Homo sapiens host cell type: Monocyte derived dendritic cell ...\n",
       "GSM1575433 Homo sapiens host cell type: Monocyte derived dendritic cell ...\n",
       "GSM1575434 Homo sapiens host cell type: Monocyte derived dendritic cell ...\n",
       "           contact_state contact_zip/postal_code contact_country\n",
       "GSM1575432 Indiana       46556                   USA            \n",
       "GSM1575433 Indiana       46556                   USA            \n",
       "GSM1575434 Indiana       46556                   USA            \n",
       "           supplementary_file                                                                                                            \n",
       "GSM1575432 ftp://ftp.ncbi.nlm.nih.gov/geo/samples/GSM1575nnn/GSM1575432/suppl/GSM1575432_563417_2013-10-04_Cycle12_532_706-1S-04h.pair.gz\n",
       "GSM1575433 ftp://ftp.ncbi.nlm.nih.gov/geo/samples/GSM1575nnn/GSM1575433/suppl/GSM1575433_563685_2013-10-04_Cycle3_532_706-1S-08h.pair.gz \n",
       "GSM1575434 ftp://ftp.ncbi.nlm.nih.gov/geo/samples/GSM1575nnn/GSM1575434/suppl/GSM1575434_563685_2013-10-04_Cycle1_532_706-1S-24h.pair.gz \n",
       "           data_row_count donor id number:ch1 host cell type:ch1             \n",
       "GSM1575432 45033          706                 Monocyte derived dendritic cell\n",
       "GSM1575433 45033          706                 Monocyte derived dendritic cell\n",
       "GSM1575434 45033          706                 Monocyte derived dendritic cell\n",
       "           infecting parasite species:ch1 parasite strain:ch1\n",
       "GSM1575432 Leishmania donovani            1S                 \n",
       "GSM1575433 Leishmania donovani            1S                 \n",
       "GSM1575434 Leishmania donovani            1S                 \n",
       "           time post-infection:ch1\n",
       "GSM1575432 4 hours                \n",
       "GSM1575433 8 hours                \n",
       "GSM1575434 24 hours               "
      ]
     },
     "metadata": {},
     "output_type": "display_data"
    },
    {
     "data": {
      "text/html": [
       "<style>\n",
       ".list-inline {list-style: none; margin:0; padding: 0}\n",
       ".list-inline>li {display: inline-block}\n",
       ".list-inline>li:not(:last-child)::after {content: \"\\00b7\"; padding: 0 .5ex}\n",
       "</style>\n",
       "<ol class=list-inline><li>35</li><li>45</li></ol>\n"
      ],
      "text/latex": [
       "\\begin{enumerate*}\n",
       "\\item 35\n",
       "\\item 45\n",
       "\\end{enumerate*}\n"
      ],
      "text/markdown": [
       "1. 35\n",
       "2. 45\n",
       "\n",
       "\n"
      ],
      "text/plain": [
       "[1] 35 45"
      ]
     },
     "metadata": {},
     "output_type": "display_data"
    },
    {
     "data": {
      "text/html": [
       "<table>\n",
       "<caption>A matrix: 3 × 35 of type dbl</caption>\n",
       "<thead>\n",
       "\t<tr><th></th><th scope=col>GSM1575432</th><th scope=col>GSM1575433</th><th scope=col>GSM1575434</th><th scope=col>GSM1575435</th><th scope=col>GSM1575436</th><th scope=col>GSM1575437</th><th scope=col>GSM1575438</th><th scope=col>GSM1575439</th><th scope=col>GSM1575440</th><th scope=col>GSM1575441</th><th scope=col>...</th><th scope=col>GSM1575457</th><th scope=col>GSM1575458</th><th scope=col>GSM1575459</th><th scope=col>GSM1575460</th><th scope=col>GSM1575461</th><th scope=col>GSM1575462</th><th scope=col>GSM1575463</th><th scope=col>GSM1575464</th><th scope=col>GSM1575465</th><th scope=col>GSM1575466</th></tr>\n",
       "</thead>\n",
       "<tbody>\n",
       "\t<tr><th scope=row>AB000409</th><td>9508.198</td><td>7614.916</td><td>8212.601</td><td>9850.810</td><td>7682.121</td><td>5979.868</td><td>11682.734</td><td>12950.175</td><td>10561.545</td><td>7803.341</td><td>...</td><td>4545.662</td><td>3384.723</td><td>9566.053</td><td>12071.96</td><td>11264.450</td><td>7015.331</td><td>13220.951</td><td>11222.509</td><td>6463.106</td><td>13021.329</td></tr>\n",
       "\t<tr><th scope=row>AB000463</th><td>2088.841</td><td>2309.406</td><td>1879.119</td><td>2546.889</td><td>2345.951</td><td>1650.571</td><td> 1766.669</td><td> 2900.651</td><td> 2320.625</td><td>1976.302</td><td>...</td><td>2202.222</td><td>1514.030</td><td>1891.059</td><td> 1926.15</td><td> 2031.399</td><td>2154.624</td><td> 2145.546</td><td> 1934.341</td><td>1457.144</td><td> 2066.981</td></tr>\n",
       "\t<tr><th scope=row>AB000781</th><td>      NA</td><td>      NA</td><td>      NA</td><td>      NA</td><td>      NA</td><td>      NA</td><td>       NA</td><td>       NA</td><td>       NA</td><td>      NA</td><td>...</td><td>      NA</td><td>      NA</td><td>      NA</td><td>      NA</td><td>       NA</td><td>      NA</td><td>       NA</td><td>       NA</td><td>      NA</td><td>       NA</td></tr>\n",
       "</tbody>\n",
       "</table>\n"
      ],
      "text/latex": [
       "A matrix: 3 × 35 of type dbl\n",
       "\\begin{tabular}{r|lllllllllllllllllllll}\n",
       "  & GSM1575432 & GSM1575433 & GSM1575434 & GSM1575435 & GSM1575436 & GSM1575437 & GSM1575438 & GSM1575439 & GSM1575440 & GSM1575441 & ... & GSM1575457 & GSM1575458 & GSM1575459 & GSM1575460 & GSM1575461 & GSM1575462 & GSM1575463 & GSM1575464 & GSM1575465 & GSM1575466\\\\\n",
       "\\hline\n",
       "\tAB000409 & 9508.198 & 7614.916 & 8212.601 & 9850.810 & 7682.121 & 5979.868 & 11682.734 & 12950.175 & 10561.545 & 7803.341 & ... & 4545.662 & 3384.723 & 9566.053 & 12071.96 & 11264.450 & 7015.331 & 13220.951 & 11222.509 & 6463.106 & 13021.329\\\\\n",
       "\tAB000463 & 2088.841 & 2309.406 & 1879.119 & 2546.889 & 2345.951 & 1650.571 &  1766.669 &  2900.651 &  2320.625 & 1976.302 & ... & 2202.222 & 1514.030 & 1891.059 &  1926.15 &  2031.399 & 2154.624 &  2145.546 &  1934.341 & 1457.144 &  2066.981\\\\\n",
       "\tAB000781 &       NA &       NA &       NA &       NA &       NA &       NA &        NA &        NA &        NA &       NA & ... &       NA &       NA &       NA &       NA &        NA &       NA &        NA &        NA &       NA &        NA\\\\\n",
       "\\end{tabular}\n"
      ],
      "text/markdown": [
       "\n",
       "A matrix: 3 × 35 of type dbl\n",
       "\n",
       "| <!--/--> | GSM1575432 | GSM1575433 | GSM1575434 | GSM1575435 | GSM1575436 | GSM1575437 | GSM1575438 | GSM1575439 | GSM1575440 | GSM1575441 | ... | GSM1575457 | GSM1575458 | GSM1575459 | GSM1575460 | GSM1575461 | GSM1575462 | GSM1575463 | GSM1575464 | GSM1575465 | GSM1575466 |\n",
       "|---|---|---|---|---|---|---|---|---|---|---|---|---|---|---|---|---|---|---|---|---|---|\n",
       "| AB000409 | 9508.198 | 7614.916 | 8212.601 | 9850.810 | 7682.121 | 5979.868 | 11682.734 | 12950.175 | 10561.545 | 7803.341 | ... | 4545.662 | 3384.723 | 9566.053 | 12071.96 | 11264.450 | 7015.331 | 13220.951 | 11222.509 | 6463.106 | 13021.329 |\n",
       "| AB000463 | 2088.841 | 2309.406 | 1879.119 | 2546.889 | 2345.951 | 1650.571 |  1766.669 |  2900.651 |  2320.625 | 1976.302 | ... | 2202.222 | 1514.030 | 1891.059 |  1926.15 |  2031.399 | 2154.624 |  2145.546 |  1934.341 | 1457.144 |  2066.981 |\n",
       "| AB000781 |       NA |       NA |       NA |       NA |       NA |       NA |        NA |        NA |        NA |       NA | ... |       NA |       NA |       NA |       NA |        NA |       NA |        NA |        NA |       NA |        NA |\n",
       "\n"
      ],
      "text/plain": [
       "         GSM1575432 GSM1575433 GSM1575434 GSM1575435 GSM1575436 GSM1575437\n",
       "AB000409 9508.198   7614.916   8212.601   9850.810   7682.121   5979.868  \n",
       "AB000463 2088.841   2309.406   1879.119   2546.889   2345.951   1650.571  \n",
       "AB000781       NA         NA         NA         NA         NA         NA  \n",
       "         GSM1575438 GSM1575439 GSM1575440 GSM1575441 ... GSM1575457 GSM1575458\n",
       "AB000409 11682.734  12950.175  10561.545  7803.341   ... 4545.662   3384.723  \n",
       "AB000463  1766.669   2900.651   2320.625  1976.302   ... 2202.222   1514.030  \n",
       "AB000781        NA         NA         NA        NA   ...       NA         NA  \n",
       "         GSM1575459 GSM1575460 GSM1575461 GSM1575462 GSM1575463 GSM1575464\n",
       "AB000409 9566.053   12071.96   11264.450  7015.331   13220.951  11222.509 \n",
       "AB000463 1891.059    1926.15    2031.399  2154.624    2145.546   1934.341 \n",
       "AB000781       NA         NA          NA        NA          NA         NA \n",
       "         GSM1575465 GSM1575466\n",
       "AB000409 6463.106   13021.329 \n",
       "AB000463 1457.144    2066.981 \n",
       "AB000781       NA          NA "
      ]
     },
     "metadata": {},
     "output_type": "display_data"
    },
    {
     "data": {
      "text/html": [
       "<style>\n",
       ".list-inline {list-style: none; margin:0; padding: 0}\n",
       ".list-inline>li {display: inline-block}\n",
       ".list-inline>li:not(:last-child)::after {content: \"\\00b7\"; padding: 0 .5ex}\n",
       "</style>\n",
       "<ol class=list-inline><li>45033</li><li>35</li></ol>\n"
      ],
      "text/latex": [
       "\\begin{enumerate*}\n",
       "\\item 45033\n",
       "\\item 35\n",
       "\\end{enumerate*}\n"
      ],
      "text/markdown": [
       "1. 45033\n",
       "2. 35\n",
       "\n",
       "\n"
      ],
      "text/plain": [
       "[1] 45033    35"
      ]
     },
     "metadata": {},
     "output_type": "display_data"
    }
   ],
   "source": [
    "# The phenotype data is contained inside pData slot. \n",
    "head(pData(my.geo.gse),3)\n",
    "dim(pData(my.geo.gse))\n",
    "# the expression matrix is contained inside exprs slot\n",
    "head(exprs(my.geo.gse),3)\n",
    "dim(exprs(my.geo.gse))"
   ]
  },
  {
   "cell_type": "markdown",
   "metadata": {},
   "source": [
    "***Samples present are:***<br>\n",
    "`(3 L.donovani infected + 3 L.major infected and 1 uninfected) 5 replicates = 35 samples`"
   ]
  },
  {
   "cell_type": "markdown",
   "metadata": {},
   "source": [
    "# Preparing the Phenodata"
   ]
  },
  {
   "cell_type": "code",
   "execution_count": 6,
   "metadata": {},
   "outputs": [
    {
     "data": {
      "text/html": [
       "<table>\n",
       "<caption>A data.frame: 2 × 7</caption>\n",
       "<thead>\n",
       "\t<tr><th></th><th scope=col>title</th><th scope=col>geo_accession</th><th scope=col>source_name</th><th scope=col>organism</th><th scope=col>species</th><th scope=col>strain</th><th scope=col>time</th></tr>\n",
       "\t<tr><th></th><th scope=col>&lt;chr&gt;</th><th scope=col>&lt;chr&gt;</th><th scope=col>&lt;chr&gt;</th><th scope=col>&lt;chr&gt;</th><th scope=col>&lt;chr&gt;</th><th scope=col>&lt;chr&gt;</th><th scope=col>&lt;chr&gt;</th></tr>\n",
       "</thead>\n",
       "<tbody>\n",
       "\t<tr><th scope=row>1</th><td>MDDC_Leishmania-donovani-strain-1S-infected_4HR-post-infection_donor-706</td><td>GSM1575432</td><td>human-monocyte-derived-dendritic-cell_Leishmania-donovani-strain-1S-infected_4HR-post-infection</td><td>Homo sapiens</td><td>Leishmania donovani</td><td>1S</td><td>4 hours</td></tr>\n",
       "\t<tr><th scope=row>2</th><td>MDDC_Leishmania-donovani-strain-1S-infected_8HR-post-infection_donor-706</td><td>GSM1575433</td><td>human-monocyte-derived-dendritic-cell_Leishmania-donovani-strain-1S-infected_8HR-post-infection</td><td>Homo sapiens</td><td>Leishmania donovani</td><td>1S</td><td>8 hours</td></tr>\n",
       "</tbody>\n",
       "</table>\n"
      ],
      "text/latex": [
       "A data.frame: 2 × 7\n",
       "\\begin{tabular}{r|lllllll}\n",
       "  & title & geo\\_accession & source\\_name & organism & species & strain & time\\\\\n",
       "  & <chr> & <chr> & <chr> & <chr> & <chr> & <chr> & <chr>\\\\\n",
       "\\hline\n",
       "\t1 & MDDC\\_Leishmania-donovani-strain-1S-infected\\_4HR-post-infection\\_donor-706 & GSM1575432 & human-monocyte-derived-dendritic-cell\\_Leishmania-donovani-strain-1S-infected\\_4HR-post-infection & Homo sapiens & Leishmania donovani & 1S & 4 hours\\\\\n",
       "\t2 & MDDC\\_Leishmania-donovani-strain-1S-infected\\_8HR-post-infection\\_donor-706 & GSM1575433 & human-monocyte-derived-dendritic-cell\\_Leishmania-donovani-strain-1S-infected\\_8HR-post-infection & Homo sapiens & Leishmania donovani & 1S & 8 hours\\\\\n",
       "\\end{tabular}\n"
      ],
      "text/markdown": [
       "\n",
       "A data.frame: 2 × 7\n",
       "\n",
       "| <!--/--> | title &lt;chr&gt; | geo_accession &lt;chr&gt; | source_name &lt;chr&gt; | organism &lt;chr&gt; | species &lt;chr&gt; | strain &lt;chr&gt; | time &lt;chr&gt; |\n",
       "|---|---|---|---|---|---|---|---|\n",
       "| 1 | MDDC_Leishmania-donovani-strain-1S-infected_4HR-post-infection_donor-706 | GSM1575432 | human-monocyte-derived-dendritic-cell_Leishmania-donovani-strain-1S-infected_4HR-post-infection | Homo sapiens | Leishmania donovani | 1S | 4 hours |\n",
       "| 2 | MDDC_Leishmania-donovani-strain-1S-infected_8HR-post-infection_donor-706 | GSM1575433 | human-monocyte-derived-dendritic-cell_Leishmania-donovani-strain-1S-infected_8HR-post-infection | Homo sapiens | Leishmania donovani | 1S | 8 hours |\n",
       "\n"
      ],
      "text/plain": [
       "  title                                                                   \n",
       "1 MDDC_Leishmania-donovani-strain-1S-infected_4HR-post-infection_donor-706\n",
       "2 MDDC_Leishmania-donovani-strain-1S-infected_8HR-post-infection_donor-706\n",
       "  geo_accession\n",
       "1 GSM1575432   \n",
       "2 GSM1575433   \n",
       "  source_name                                                                                    \n",
       "1 human-monocyte-derived-dendritic-cell_Leishmania-donovani-strain-1S-infected_4HR-post-infection\n",
       "2 human-monocyte-derived-dendritic-cell_Leishmania-donovani-strain-1S-infected_8HR-post-infection\n",
       "  organism     species             strain time   \n",
       "1 Homo sapiens Leishmania donovani 1S     4 hours\n",
       "2 Homo sapiens Leishmania donovani 1S     8 hours"
      ]
     },
     "metadata": {},
     "output_type": "display_data"
    }
   ],
   "source": [
    "# make data frame of phenotypic Data\n",
    "pdata <- as.data.frame(pData(my.geo.gse), stringsAsFactors=F)\n",
    "\n",
    "# column to retain from pheonotype dataframe\n",
    "names<-c(\"title\",\"geo_accession\",\"source_name\",\"organism\",\"species\" ,\"strain\",\"time\")\n",
    "my.pdata<-data.frame()\n",
    "\n",
    "for(col.name in names){\n",
    "    store<- data.frame(pdata[,grepl(col.name,colnames(pdata))])\n",
    "    colnames(store)<- col.name\n",
    "    if(dim(my.pdata)[1]==0){\n",
    "        my.pdata<- store\n",
    "    }\n",
    "    else if(dim(my.pdata)[1]==dim(store)[1]){\n",
    "        my.pdata[col.name]<- store\n",
    "    }\n",
    "}\n",
    "head(my.pdata,2)"
   ]
  },
  {
   "cell_type": "code",
   "execution_count": 7,
   "metadata": {},
   "outputs": [
    {
     "data": {
      "text/html": [
       "<table>\n",
       "<caption>A data.frame: 3 × 8</caption>\n",
       "<thead>\n",
       "\t<tr><th></th><th scope=col>title</th><th scope=col>geo_accession</th><th scope=col>source_name</th><th scope=col>organism</th><th scope=col>species</th><th scope=col>strain</th><th scope=col>time</th><th scope=col>group</th></tr>\n",
       "\t<tr><th></th><th scope=col>&lt;chr&gt;</th><th scope=col>&lt;chr&gt;</th><th scope=col>&lt;chr&gt;</th><th scope=col>&lt;chr&gt;</th><th scope=col>&lt;chr&gt;</th><th scope=col>&lt;chr&gt;</th><th scope=col>&lt;chr&gt;</th><th scope=col>&lt;chr&gt;</th></tr>\n",
       "</thead>\n",
       "<tbody>\n",
       "\t<tr><th scope=row>GSM1575432</th><td>MDDC_Leishmania-donovani-strain-1S-infected_4HR-post-infection_donor-706 </td><td>GSM1575432</td><td>human-monocyte-derived-dendritic-cell_Leishmania-donovani-strain-1S-infected_4HR-post-infection </td><td>Homo sapiens</td><td>Leishmania donovani</td><td>1S</td><td>4 hours </td><td>L.donovani_4 </td></tr>\n",
       "\t<tr><th scope=row>GSM1575433</th><td>MDDC_Leishmania-donovani-strain-1S-infected_8HR-post-infection_donor-706 </td><td>GSM1575433</td><td>human-monocyte-derived-dendritic-cell_Leishmania-donovani-strain-1S-infected_8HR-post-infection </td><td>Homo sapiens</td><td>Leishmania donovani</td><td>1S</td><td>8 hours </td><td>L.donovani_8 </td></tr>\n",
       "\t<tr><th scope=row>GSM1575434</th><td>MDDC_Leishmania-donovani-strain-1S-infected_24HR-post-infection_donor-706</td><td>GSM1575434</td><td>human-monocyte-derived-dendritic-cell_Leishmania-donovani-strain-1S-infected_24HR-post-infection</td><td>Homo sapiens</td><td>Leishmania donovani</td><td>1S</td><td>24 hours</td><td>L.donovani_24</td></tr>\n",
       "</tbody>\n",
       "</table>\n"
      ],
      "text/latex": [
       "A data.frame: 3 × 8\n",
       "\\begin{tabular}{r|llllllll}\n",
       "  & title & geo\\_accession & source\\_name & organism & species & strain & time & group\\\\\n",
       "  & <chr> & <chr> & <chr> & <chr> & <chr> & <chr> & <chr> & <chr>\\\\\n",
       "\\hline\n",
       "\tGSM1575432 & MDDC\\_Leishmania-donovani-strain-1S-infected\\_4HR-post-infection\\_donor-706  & GSM1575432 & human-monocyte-derived-dendritic-cell\\_Leishmania-donovani-strain-1S-infected\\_4HR-post-infection  & Homo sapiens & Leishmania donovani & 1S & 4 hours  & L.donovani\\_4 \\\\\n",
       "\tGSM1575433 & MDDC\\_Leishmania-donovani-strain-1S-infected\\_8HR-post-infection\\_donor-706  & GSM1575433 & human-monocyte-derived-dendritic-cell\\_Leishmania-donovani-strain-1S-infected\\_8HR-post-infection  & Homo sapiens & Leishmania donovani & 1S & 8 hours  & L.donovani\\_8 \\\\\n",
       "\tGSM1575434 & MDDC\\_Leishmania-donovani-strain-1S-infected\\_24HR-post-infection\\_donor-706 & GSM1575434 & human-monocyte-derived-dendritic-cell\\_Leishmania-donovani-strain-1S-infected\\_24HR-post-infection & Homo sapiens & Leishmania donovani & 1S & 24 hours & L.donovani\\_24\\\\\n",
       "\\end{tabular}\n"
      ],
      "text/markdown": [
       "\n",
       "A data.frame: 3 × 8\n",
       "\n",
       "| <!--/--> | title &lt;chr&gt; | geo_accession &lt;chr&gt; | source_name &lt;chr&gt; | organism &lt;chr&gt; | species &lt;chr&gt; | strain &lt;chr&gt; | time &lt;chr&gt; | group &lt;chr&gt; |\n",
       "|---|---|---|---|---|---|---|---|---|\n",
       "| GSM1575432 | MDDC_Leishmania-donovani-strain-1S-infected_4HR-post-infection_donor-706  | GSM1575432 | human-monocyte-derived-dendritic-cell_Leishmania-donovani-strain-1S-infected_4HR-post-infection  | Homo sapiens | Leishmania donovani | 1S | 4 hours  | L.donovani_4  |\n",
       "| GSM1575433 | MDDC_Leishmania-donovani-strain-1S-infected_8HR-post-infection_donor-706  | GSM1575433 | human-monocyte-derived-dendritic-cell_Leishmania-donovani-strain-1S-infected_8HR-post-infection  | Homo sapiens | Leishmania donovani | 1S | 8 hours  | L.donovani_8  |\n",
       "| GSM1575434 | MDDC_Leishmania-donovani-strain-1S-infected_24HR-post-infection_donor-706 | GSM1575434 | human-monocyte-derived-dendritic-cell_Leishmania-donovani-strain-1S-infected_24HR-post-infection | Homo sapiens | Leishmania donovani | 1S | 24 hours | L.donovani_24 |\n",
       "\n"
      ],
      "text/plain": [
       "           title                                                                    \n",
       "GSM1575432 MDDC_Leishmania-donovani-strain-1S-infected_4HR-post-infection_donor-706 \n",
       "GSM1575433 MDDC_Leishmania-donovani-strain-1S-infected_8HR-post-infection_donor-706 \n",
       "GSM1575434 MDDC_Leishmania-donovani-strain-1S-infected_24HR-post-infection_donor-706\n",
       "           geo_accession\n",
       "GSM1575432 GSM1575432   \n",
       "GSM1575433 GSM1575433   \n",
       "GSM1575434 GSM1575434   \n",
       "           source_name                                                                                     \n",
       "GSM1575432 human-monocyte-derived-dendritic-cell_Leishmania-donovani-strain-1S-infected_4HR-post-infection \n",
       "GSM1575433 human-monocyte-derived-dendritic-cell_Leishmania-donovani-strain-1S-infected_8HR-post-infection \n",
       "GSM1575434 human-monocyte-derived-dendritic-cell_Leishmania-donovani-strain-1S-infected_24HR-post-infection\n",
       "           organism     species             strain time     group        \n",
       "GSM1575432 Homo sapiens Leishmania donovani 1S     4 hours  L.donovani_4 \n",
       "GSM1575433 Homo sapiens Leishmania donovani 1S     8 hours  L.donovani_8 \n",
       "GSM1575434 Homo sapiens Leishmania donovani 1S     24 hours L.donovani_24"
      ]
     },
     "metadata": {},
     "output_type": "display_data"
    },
    {
     "data": {
      "text/plain": [
       "\n",
       "      control L.donovani_24  L.donovani_4  L.donovani_8    L.major_24 \n",
       "            5             5             5             5             5 \n",
       "    L.major_4     L.major_8 \n",
       "            5             5 "
      ]
     },
     "metadata": {},
     "output_type": "display_data"
    }
   ],
   "source": [
    "# allocate groups\n",
    "my.pdata[[\"group\"]]<-rep(c(paste(\"L.donovani\",c(\"4\",\"8\",\"24\"),sep=\"_\"),\n",
    "                           paste(\"L.major\",c(\"4\",\"8\",\"24\"),sep=\"_\"),\n",
    "                           \"control\"),5)\n",
    "rownames(my.pdata)<-my.pdata$geo_accession\n",
    "head(my.pdata,3)\n",
    "# num of replicates in each group\n",
    "table(my.pdata$group)"
   ]
  },
  {
   "cell_type": "code",
   "execution_count": 8,
   "metadata": {},
   "outputs": [],
   "source": [
    "# store processed phenotype data\n",
    "write.table(my.pdata, file=paste0(\"results/\",my.gse,\"_PhenoData.txt\"), \n",
    "            sep=\"\\t\", quote=F,col.names=NA)"
   ]
  },
  {
   "cell_type": "markdown",
   "metadata": {},
   "source": [
    "# Preparing Gene Expression Data<br>"
   ]
  },
  {
   "cell_type": "markdown",
   "metadata": {},
   "source": [
    "## Normalize Expression Data"
   ]
  },
  {
   "cell_type": "code",
   "execution_count": 9,
   "metadata": {},
   "outputs": [
    {
     "data": {
      "text/html": [
       "TRUE"
      ],
      "text/latex": [
       "TRUE"
      ],
      "text/markdown": [
       "TRUE"
      ],
      "text/plain": [
       "[1] TRUE"
      ]
     },
     "metadata": {},
     "output_type": "display_data"
    }
   ],
   "source": [
    "# cal 0%,25%,50%,75%,99%,100% quantile of expreesion data.\n",
    "qx <- as.numeric(quantile(exprs(my.geo.gse), c(0., 0.25, 0.5, 0.75, 0.99, 1.0), na.rm=T))\n",
    "\n",
    "# check if data need to be normalized \n",
    "LogC <- (qx[5] > 100) ||\n",
    "          (qx[6]-qx[1] > 50 && qx[2] > 0) ||\n",
    "          (qx[2] > 0 && qx[2] < 1 && qx[4] > 1 && qx[4] < 2)\n",
    "LogC"
   ]
  },
  {
   "cell_type": "code",
   "execution_count": 10,
   "metadata": {},
   "outputs": [
    {
     "data": {
      "text/html": [
       "<table>\n",
       "<caption>A matrix: 3 × 35 of type dbl</caption>\n",
       "<thead>\n",
       "\t<tr><th></th><th scope=col>GSM1575432</th><th scope=col>GSM1575433</th><th scope=col>GSM1575434</th><th scope=col>GSM1575435</th><th scope=col>GSM1575436</th><th scope=col>GSM1575437</th><th scope=col>GSM1575438</th><th scope=col>GSM1575439</th><th scope=col>GSM1575440</th><th scope=col>GSM1575441</th><th scope=col>...</th><th scope=col>GSM1575457</th><th scope=col>GSM1575458</th><th scope=col>GSM1575459</th><th scope=col>GSM1575460</th><th scope=col>GSM1575461</th><th scope=col>GSM1575462</th><th scope=col>GSM1575463</th><th scope=col>GSM1575464</th><th scope=col>GSM1575465</th><th scope=col>GSM1575466</th></tr>\n",
       "</thead>\n",
       "<tbody>\n",
       "\t<tr><th scope=row>AB000409</th><td>13.21496</td><td>12.89461</td><td>13.00362</td><td>13.26603</td><td>12.90729</td><td>12.54590</td><td>13.51209</td><td>13.66068</td><td>13.36653</td><td>12.92988</td><td>...</td><td>12.15027</td><td>11.72482</td><td>13.22371</td><td>13.55937</td><td>13.45949</td><td>12.77630</td><td>13.69054</td><td>13.45411</td><td>12.65801</td><td>13.66859</td></tr>\n",
       "\t<tr><th scope=row>AB002308</th><td>12.67287</td><td>12.50171</td><td>12.34905</td><td>12.94613</td><td>12.38008</td><td>12.61861</td><td>12.89788</td><td>12.49231</td><td>12.58243</td><td>12.57114</td><td>...</td><td>12.50486</td><td>12.63225</td><td>12.66595</td><td>12.45953</td><td>12.49520</td><td>12.75765</td><td>12.86865</td><td>13.41190</td><td>12.99975</td><td>13.04160</td></tr>\n",
       "\t<tr><th scope=row>AB002311</th><td>11.18878</td><td>11.01547</td><td>11.55745</td><td>12.29527</td><td>12.15199</td><td>11.86165</td><td>10.71835</td><td>11.38192</td><td>11.40852</td><td>12.44259</td><td>...</td><td>13.04312</td><td>12.42363</td><td>10.83102</td><td>11.66061</td><td>11.55601</td><td>11.37194</td><td>12.13318</td><td>12.03300</td><td>11.28213</td><td>11.13987</td></tr>\n",
       "</tbody>\n",
       "</table>\n"
      ],
      "text/latex": [
       "A matrix: 3 × 35 of type dbl\n",
       "\\begin{tabular}{r|lllllllllllllllllllll}\n",
       "  & GSM1575432 & GSM1575433 & GSM1575434 & GSM1575435 & GSM1575436 & GSM1575437 & GSM1575438 & GSM1575439 & GSM1575440 & GSM1575441 & ... & GSM1575457 & GSM1575458 & GSM1575459 & GSM1575460 & GSM1575461 & GSM1575462 & GSM1575463 & GSM1575464 & GSM1575465 & GSM1575466\\\\\n",
       "\\hline\n",
       "\tAB000409 & 13.21496 & 12.89461 & 13.00362 & 13.26603 & 12.90729 & 12.54590 & 13.51209 & 13.66068 & 13.36653 & 12.92988 & ... & 12.15027 & 11.72482 & 13.22371 & 13.55937 & 13.45949 & 12.77630 & 13.69054 & 13.45411 & 12.65801 & 13.66859\\\\\n",
       "\tAB002308 & 12.67287 & 12.50171 & 12.34905 & 12.94613 & 12.38008 & 12.61861 & 12.89788 & 12.49231 & 12.58243 & 12.57114 & ... & 12.50486 & 12.63225 & 12.66595 & 12.45953 & 12.49520 & 12.75765 & 12.86865 & 13.41190 & 12.99975 & 13.04160\\\\\n",
       "\tAB002311 & 11.18878 & 11.01547 & 11.55745 & 12.29527 & 12.15199 & 11.86165 & 10.71835 & 11.38192 & 11.40852 & 12.44259 & ... & 13.04312 & 12.42363 & 10.83102 & 11.66061 & 11.55601 & 11.37194 & 12.13318 & 12.03300 & 11.28213 & 11.13987\\\\\n",
       "\\end{tabular}\n"
      ],
      "text/markdown": [
       "\n",
       "A matrix: 3 × 35 of type dbl\n",
       "\n",
       "| <!--/--> | GSM1575432 | GSM1575433 | GSM1575434 | GSM1575435 | GSM1575436 | GSM1575437 | GSM1575438 | GSM1575439 | GSM1575440 | GSM1575441 | ... | GSM1575457 | GSM1575458 | GSM1575459 | GSM1575460 | GSM1575461 | GSM1575462 | GSM1575463 | GSM1575464 | GSM1575465 | GSM1575466 |\n",
       "|---|---|---|---|---|---|---|---|---|---|---|---|---|---|---|---|---|---|---|---|---|---|\n",
       "| AB000409 | 13.21496 | 12.89461 | 13.00362 | 13.26603 | 12.90729 | 12.54590 | 13.51209 | 13.66068 | 13.36653 | 12.92988 | ... | 12.15027 | 11.72482 | 13.22371 | 13.55937 | 13.45949 | 12.77630 | 13.69054 | 13.45411 | 12.65801 | 13.66859 |\n",
       "| AB002308 | 12.67287 | 12.50171 | 12.34905 | 12.94613 | 12.38008 | 12.61861 | 12.89788 | 12.49231 | 12.58243 | 12.57114 | ... | 12.50486 | 12.63225 | 12.66595 | 12.45953 | 12.49520 | 12.75765 | 12.86865 | 13.41190 | 12.99975 | 13.04160 |\n",
       "| AB002311 | 11.18878 | 11.01547 | 11.55745 | 12.29527 | 12.15199 | 11.86165 | 10.71835 | 11.38192 | 11.40852 | 12.44259 | ... | 13.04312 | 12.42363 | 10.83102 | 11.66061 | 11.55601 | 11.37194 | 12.13318 | 12.03300 | 11.28213 | 11.13987 |\n",
       "\n"
      ],
      "text/plain": [
       "         GSM1575432 GSM1575433 GSM1575434 GSM1575435 GSM1575436 GSM1575437\n",
       "AB000409 13.21496   12.89461   13.00362   13.26603   12.90729   12.54590  \n",
       "AB002308 12.67287   12.50171   12.34905   12.94613   12.38008   12.61861  \n",
       "AB002311 11.18878   11.01547   11.55745   12.29527   12.15199   11.86165  \n",
       "         GSM1575438 GSM1575439 GSM1575440 GSM1575441 ... GSM1575457 GSM1575458\n",
       "AB000409 13.51209   13.66068   13.36653   12.92988   ... 12.15027   11.72482  \n",
       "AB002308 12.89788   12.49231   12.58243   12.57114   ... 12.50486   12.63225  \n",
       "AB002311 10.71835   11.38192   11.40852   12.44259   ... 13.04312   12.42363  \n",
       "         GSM1575459 GSM1575460 GSM1575461 GSM1575462 GSM1575463 GSM1575464\n",
       "AB000409 13.22371   13.55937   13.45949   12.77630   13.69054   13.45411  \n",
       "AB002308 12.66595   12.45953   12.49520   12.75765   12.86865   13.41190  \n",
       "AB002311 10.83102   11.66061   11.55601   11.37194   12.13318   12.03300  \n",
       "         GSM1575465 GSM1575466\n",
       "AB000409 12.65801   13.66859  \n",
       "AB002308 12.99975   13.04160  \n",
       "AB002311 11.28213   11.13987  "
      ]
     },
     "metadata": {},
     "output_type": "display_data"
    }
   ],
   "source": [
    "assayData<-exprs(my.geo.gse)\n",
    "if (LogC) { \n",
    "    assayData[which(assayData<= 0)] <- NaN\n",
    "    # take log2 transform\n",
    "    assayData<-na.omit(log2(assayData))\n",
    "}\n",
    "# prpare an Expression Set\n",
    "my.rma<-ExpressionSet(assayData=assayData,\n",
    "                      phenoData=AnnotatedDataFrame(my.pdata))\n",
    "head(exprs(my.rma),3)"
   ]
  },
  {
   "cell_type": "code",
   "execution_count": 11,
   "metadata": {},
   "outputs": [],
   "source": [
    "# save expression values\n",
    "write.table(exprs(my.rma), file=paste0(\"results/\",my.gse,\"_NormExprsData.txt\"),\n",
    "            sep=\"\\t\", quote=FALSE, col.names=NA)"
   ]
  },
  {
   "cell_type": "markdown",
   "metadata": {},
   "source": [
    "## Check Normalization"
   ]
  },
  {
   "cell_type": "code",
   "execution_count": 12,
   "metadata": {},
   "outputs": [
    {
     "name": "stderr",
     "output_type": "stream",
     "text": [
      "\n",
      "Attaching package: 'limma'\n",
      "\n",
      "\n",
      "The following object is masked from 'package:oligo':\n",
      "\n",
      "    backgroundCorrect\n",
      "\n",
      "\n",
      "The following object is masked from 'package:BiocGenerics':\n",
      "\n",
      "    plotMA\n",
      "\n",
      "\n"
     ]
    }
   ],
   "source": [
    "library(RColorBrewer)\n",
    "library(limma)"
   ]
  },
  {
   "cell_type": "code",
   "execution_count": 13,
   "metadata": {},
   "outputs": [],
   "source": [
    "# select colour for each group\n",
    "group.color <- brewer.pal(7, \"Dark2\")\n",
    "# allocate colour to each sample\n",
    "sample.color <- group.color[unname(factor(my.pdata$group))]"
   ]
  },
  {
   "cell_type": "code",
   "execution_count": 14,
   "metadata": {},
   "outputs": [],
   "source": [
    "if(!file.exists(\"results/SamplesPlot\"))  dir.create(\"results/SamplesPlot\", recursive=TRUE)"
   ]
  },
  {
   "cell_type": "code",
   "execution_count": 15,
   "metadata": {},
   "outputs": [
    {
     "data": {
      "text/html": [
       "<strong>png:</strong> 2"
      ],
      "text/latex": [
       "\\textbf{png:} 2"
      ],
      "text/markdown": [
       "**png:** 2"
      ],
      "text/plain": [
       "png \n",
       "  2 "
      ]
     },
     "metadata": {},
     "output_type": "display_data"
    }
   ],
   "source": [
    "svg(\"results/SamplesPlot/DensityPlot.svg\")\n",
    "par(mar=c(6,4,4,10),xpd=TRUE)\n",
    "plotDensities(exprs(my.rma), legend=F, col=sample.color, main=\"Arrays Normalized?\")\n",
    "legend(\"topright\",title=\"Samples\",inset=c(-0.43,0),box.lwd=0.2, legend=levels(factor(pData(my.rma)$group)), fill=group.color)\n",
    "dev.off()"
   ]
  },
  {
   "cell_type": "code",
   "execution_count": 16,
   "metadata": {},
   "outputs": [
    {
     "data": {
      "text/html": [
       "<strong>png:</strong> 2"
      ],
      "text/latex": [
       "\\textbf{png:} 2"
      ],
      "text/markdown": [
       "**png:** 2"
      ],
      "text/plain": [
       "png \n",
       "  2 "
      ]
     },
     "metadata": {},
     "output_type": "display_data"
    }
   ],
   "source": [
    "svg(\"results/SamplesPlot/BoxPlot.svg\")\n",
    "par(mar=c(8,4,4,10),xpd=TRUE)\n",
    "boxplot(exprs(my.rma), las=2, names=pData(my.rma)$group, \n",
    "        outline=F, col=sample.color, main=\"Arrays Normalized?\")\n",
    "legend(\"topright\",title=\"Samples\",inset=c(-0.43,0),box.lwd=0.5, legend=levels(factor(pData(my.rma)$group)), fill=group.color)\n",
    "dev.off()"
   ]
  },
  {
   "cell_type": "markdown",
   "metadata": {},
   "source": [
    "## Checking variation across sample<br>\n",
    "we are mainly checking for consistency between biological replicates of the same treatment."
   ]
  },
  {
   "cell_type": "markdown",
   "metadata": {},
   "source": [
    "### Principle component analysis"
   ]
  },
  {
   "cell_type": "code",
   "execution_count": 17,
   "metadata": {},
   "outputs": [
    {
     "data": {
      "text/html": [
       "<strong>png:</strong> 2"
      ],
      "text/latex": [
       "\\textbf{png:} 2"
      ],
      "text/markdown": [
       "**png:** 2"
      ],
      "text/plain": [
       "png \n",
       "  2 "
      ]
     },
     "metadata": {},
     "output_type": "display_data"
    }
   ],
   "source": [
    "svg(\"results/SamplesPlot/PCA_Plot.svg\")\n",
    "par(mar=c(4,4,4,10),xpd=TRUE)\n",
    "limma::plotMDS(exprs(my.rma),top=500, labels=factor(pData(my.rma)$group),\n",
    "         col=sample.color, gene.selection=\"common\", main=\"MDS Plot, Top 500, to Compare Replicates\")\n",
    "legend(\"topright\",title=\"Samples\",inset=c(-0.43,0),box.lwd=0.5, legend=levels(factor(pData(my.rma)$group)), fill=group.color)\n",
    "dev.off()"
   ]
  },
  {
   "cell_type": "markdown",
   "metadata": {},
   "source": [
    "### Hierarchical Clustering"
   ]
  },
  {
   "cell_type": "markdown",
   "metadata": {},
   "source": [
    "`z-score = (rma-sample - rma-mean) / rma-sd`"
   ]
  },
  {
   "cell_type": "code",
   "execution_count": 18,
   "metadata": {},
   "outputs": [
    {
     "data": {
      "text/html": [
       "<strong>png:</strong> 2"
      ],
      "text/latex": [
       "\\textbf{png:} 2"
      ],
      "text/markdown": [
       "**png:** 2"
      ],
      "text/plain": [
       "png \n",
       "  2 "
      ]
     },
     "metadata": {},
     "output_type": "display_data"
    }
   ],
   "source": [
    "# cal z-score\n",
    "cluster.dat <- exprs(my.rma)\n",
    "gene.mean <- apply(cluster.dat, 1, mean)\n",
    "gene.sd <- apply(cluster.dat, 1, sd)\n",
    "cluster.dat <- sweep(cluster.dat, 1, gene.mean, \"-\")\n",
    "cluster.dat <- sweep(cluster.dat, 1, gene.sd, \"/\")\n",
    "\n",
    "my.dist <- dist(t(cluster.dat), method=\"euclidean\")\n",
    "my.hclust <- hclust(my.dist, method=\"average\")\n",
    "my.hclust$labels <- factor(pData(my.rma)$group)\n",
    "svg(\"results/SamplesPlot/HierarchicalPlot.svg\")\n",
    "plot(my.hclust, cex=0.75,col=\"blue\",\n",
    "     main=\"Comparison of Biological Replicates\", \n",
    "      xlab=\"Euclidean Distance\")\n",
    "dev.off()"
   ]
  },
  {
   "cell_type": "markdown",
   "metadata": {},
   "source": [
    "### Removing Low Expression Data"
   ]
  },
  {
   "cell_type": "markdown",
   "metadata": {},
   "source": [
    "To reduce the possibility for type I errors is to do fewer comparisons. This can be done by filtering the data. For example, we know that not all genes are expressed in all tissues and many genes will not be expressed in any sample. As a result, DGE analysis, it makes sense to remove probesets for genes that likely not expressed at all."
   ]
  },
  {
   "cell_type": "code",
   "execution_count": 19,
   "metadata": {},
   "outputs": [
    {
     "data": {
      "text/plain": [
       "\n",
       " FALSE \n",
       "469980 "
      ]
     },
     "metadata": {},
     "output_type": "display_data"
    }
   ],
   "source": [
    "table(exprs(my.rma)<0)"
   ]
  },
  {
   "cell_type": "markdown",
   "metadata": {},
   "source": [
    "no genes have expression zero"
   ]
  },
  {
   "cell_type": "code",
   "execution_count": 20,
   "metadata": {},
   "outputs": [
    {
     "data": {
      "text/html": [
       "<style>\n",
       ".list-inline {list-style: none; margin:0; padding: 0}\n",
       ".list-inline>li {display: inline-block}\n",
       ".list-inline>li:not(:last-child)::after {content: \"\\00b7\"; padding: 0 .5ex}\n",
       "</style>\n",
       "<ol class=list-inline><li>8.60785550710689</li><li>10.128072964407</li><li>10.3939708511285</li><li>10.5738665569506</li><li>10.7065245090643</li><li>10.7117507627206</li></ol>\n"
      ],
      "text/latex": [
       "\\begin{enumerate*}\n",
       "\\item 8.60785550710689\n",
       "\\item 10.128072964407\n",
       "\\item 10.3939708511285\n",
       "\\item 10.5738665569506\n",
       "\\item 10.7065245090643\n",
       "\\item 10.7117507627206\n",
       "\\end{enumerate*}\n"
      ],
      "text/markdown": [
       "1. 8.60785550710689\n",
       "2. 10.128072964407\n",
       "3. 10.3939708511285\n",
       "4. 10.5738665569506\n",
       "5. 10.7065245090643\n",
       "6. 10.7117507627206\n",
       "\n",
       "\n"
      ],
      "text/plain": [
       "[1]  8.607856 10.128073 10.393971 10.573867 10.706525 10.711751"
      ]
     },
     "metadata": {},
     "output_type": "display_data"
    }
   ],
   "source": [
    "as.numeric(quantile(exprs(my.rma), c(0., 0.025, 0.05, 0.075, 0.099, .10), na.rm=T))"
   ]
  },
  {
   "cell_type": "markdown",
   "metadata": {},
   "source": [
    "***We now have the metadata and phenodata (sample data) for this experiment. The expression data is in format that could be used for differential gene expression (DGE) analysis.***"
   ]
  },
  {
   "cell_type": "markdown",
   "metadata": {},
   "source": [
    "# DGE with Limma"
   ]
  },
  {
   "cell_type": "code",
   "execution_count": 21,
   "metadata": {},
   "outputs": [
    {
     "data": {
      "text/plain": [
       "\n",
       "TRUE \n",
       "  35 "
      ]
     },
     "metadata": {},
     "output_type": "display_data"
    }
   ],
   "source": [
    "# check if rows of phenotype is sorted same way as columns of exprs matrix\n",
    "table(rownames(pData(my.rma))==colnames(exprs(my.rma)))"
   ]
  },
  {
   "cell_type": "markdown",
   "metadata": {},
   "source": [
    "## Design Matrix"
   ]
  },
  {
   "cell_type": "code",
   "execution_count": 22,
   "metadata": {},
   "outputs": [
    {
     "data": {
      "text/html": [
       "<table>\n",
       "<caption>A matrix: 35 × 7 of type dbl</caption>\n",
       "<thead>\n",
       "\t<tr><th></th><th scope=col>control</th><th scope=col>L.donovani_24</th><th scope=col>L.donovani_4</th><th scope=col>L.donovani_8</th><th scope=col>L.major_24</th><th scope=col>L.major_4</th><th scope=col>L.major_8</th></tr>\n",
       "</thead>\n",
       "<tbody>\n",
       "\t<tr><th scope=row>L.donovani_4</th><td>0</td><td>0</td><td>1</td><td>0</td><td>0</td><td>0</td><td>0</td></tr>\n",
       "\t<tr><th scope=row>L.donovani_8</th><td>0</td><td>0</td><td>0</td><td>1</td><td>0</td><td>0</td><td>0</td></tr>\n",
       "\t<tr><th scope=row>L.donovani_24</th><td>0</td><td>1</td><td>0</td><td>0</td><td>0</td><td>0</td><td>0</td></tr>\n",
       "\t<tr><th scope=row>L.major_4</th><td>0</td><td>0</td><td>0</td><td>0</td><td>0</td><td>1</td><td>0</td></tr>\n",
       "\t<tr><th scope=row>L.major_8</th><td>0</td><td>0</td><td>0</td><td>0</td><td>0</td><td>0</td><td>1</td></tr>\n",
       "\t<tr><th scope=row>L.major_24</th><td>0</td><td>0</td><td>0</td><td>0</td><td>1</td><td>0</td><td>0</td></tr>\n",
       "\t<tr><th scope=row>control</th><td>1</td><td>0</td><td>0</td><td>0</td><td>0</td><td>0</td><td>0</td></tr>\n",
       "\t<tr><th scope=row>L.donovani_4</th><td>0</td><td>0</td><td>1</td><td>0</td><td>0</td><td>0</td><td>0</td></tr>\n",
       "\t<tr><th scope=row>L.donovani_8</th><td>0</td><td>0</td><td>0</td><td>1</td><td>0</td><td>0</td><td>0</td></tr>\n",
       "\t<tr><th scope=row>L.donovani_24</th><td>0</td><td>1</td><td>0</td><td>0</td><td>0</td><td>0</td><td>0</td></tr>\n",
       "\t<tr><th scope=row>L.major_4</th><td>0</td><td>0</td><td>0</td><td>0</td><td>0</td><td>1</td><td>0</td></tr>\n",
       "\t<tr><th scope=row>L.major_8</th><td>0</td><td>0</td><td>0</td><td>0</td><td>0</td><td>0</td><td>1</td></tr>\n",
       "\t<tr><th scope=row>L.major_24</th><td>0</td><td>0</td><td>0</td><td>0</td><td>1</td><td>0</td><td>0</td></tr>\n",
       "\t<tr><th scope=row>control</th><td>1</td><td>0</td><td>0</td><td>0</td><td>0</td><td>0</td><td>0</td></tr>\n",
       "\t<tr><th scope=row>L.donovani_4</th><td>0</td><td>0</td><td>1</td><td>0</td><td>0</td><td>0</td><td>0</td></tr>\n",
       "\t<tr><th scope=row>L.donovani_8</th><td>0</td><td>0</td><td>0</td><td>1</td><td>0</td><td>0</td><td>0</td></tr>\n",
       "\t<tr><th scope=row>L.donovani_24</th><td>0</td><td>1</td><td>0</td><td>0</td><td>0</td><td>0</td><td>0</td></tr>\n",
       "\t<tr><th scope=row>L.major_4</th><td>0</td><td>0</td><td>0</td><td>0</td><td>0</td><td>1</td><td>0</td></tr>\n",
       "\t<tr><th scope=row>L.major_8</th><td>0</td><td>0</td><td>0</td><td>0</td><td>0</td><td>0</td><td>1</td></tr>\n",
       "\t<tr><th scope=row>L.major_24</th><td>0</td><td>0</td><td>0</td><td>0</td><td>1</td><td>0</td><td>0</td></tr>\n",
       "\t<tr><th scope=row>control</th><td>1</td><td>0</td><td>0</td><td>0</td><td>0</td><td>0</td><td>0</td></tr>\n",
       "\t<tr><th scope=row>L.donovani_4</th><td>0</td><td>0</td><td>1</td><td>0</td><td>0</td><td>0</td><td>0</td></tr>\n",
       "\t<tr><th scope=row>L.donovani_8</th><td>0</td><td>0</td><td>0</td><td>1</td><td>0</td><td>0</td><td>0</td></tr>\n",
       "\t<tr><th scope=row>L.donovani_24</th><td>0</td><td>1</td><td>0</td><td>0</td><td>0</td><td>0</td><td>0</td></tr>\n",
       "\t<tr><th scope=row>L.major_4</th><td>0</td><td>0</td><td>0</td><td>0</td><td>0</td><td>1</td><td>0</td></tr>\n",
       "\t<tr><th scope=row>L.major_8</th><td>0</td><td>0</td><td>0</td><td>0</td><td>0</td><td>0</td><td>1</td></tr>\n",
       "\t<tr><th scope=row>L.major_24</th><td>0</td><td>0</td><td>0</td><td>0</td><td>1</td><td>0</td><td>0</td></tr>\n",
       "\t<tr><th scope=row>control</th><td>1</td><td>0</td><td>0</td><td>0</td><td>0</td><td>0</td><td>0</td></tr>\n",
       "\t<tr><th scope=row>L.donovani_4</th><td>0</td><td>0</td><td>1</td><td>0</td><td>0</td><td>0</td><td>0</td></tr>\n",
       "\t<tr><th scope=row>L.donovani_8</th><td>0</td><td>0</td><td>0</td><td>1</td><td>0</td><td>0</td><td>0</td></tr>\n",
       "\t<tr><th scope=row>L.donovani_24</th><td>0</td><td>1</td><td>0</td><td>0</td><td>0</td><td>0</td><td>0</td></tr>\n",
       "\t<tr><th scope=row>L.major_4</th><td>0</td><td>0</td><td>0</td><td>0</td><td>0</td><td>1</td><td>0</td></tr>\n",
       "\t<tr><th scope=row>L.major_8</th><td>0</td><td>0</td><td>0</td><td>0</td><td>0</td><td>0</td><td>1</td></tr>\n",
       "\t<tr><th scope=row>L.major_24</th><td>0</td><td>0</td><td>0</td><td>0</td><td>1</td><td>0</td><td>0</td></tr>\n",
       "\t<tr><th scope=row>control</th><td>1</td><td>0</td><td>0</td><td>0</td><td>0</td><td>0</td><td>0</td></tr>\n",
       "</tbody>\n",
       "</table>\n"
      ],
      "text/latex": [
       "A matrix: 35 × 7 of type dbl\n",
       "\\begin{tabular}{r|lllllll}\n",
       "  & control & L.donovani\\_24 & L.donovani\\_4 & L.donovani\\_8 & L.major\\_24 & L.major\\_4 & L.major\\_8\\\\\n",
       "\\hline\n",
       "\tL.donovani\\_4 & 0 & 0 & 1 & 0 & 0 & 0 & 0\\\\\n",
       "\tL.donovani\\_8 & 0 & 0 & 0 & 1 & 0 & 0 & 0\\\\\n",
       "\tL.donovani\\_24 & 0 & 1 & 0 & 0 & 0 & 0 & 0\\\\\n",
       "\tL.major\\_4 & 0 & 0 & 0 & 0 & 0 & 1 & 0\\\\\n",
       "\tL.major\\_8 & 0 & 0 & 0 & 0 & 0 & 0 & 1\\\\\n",
       "\tL.major\\_24 & 0 & 0 & 0 & 0 & 1 & 0 & 0\\\\\n",
       "\tcontrol & 1 & 0 & 0 & 0 & 0 & 0 & 0\\\\\n",
       "\tL.donovani\\_4 & 0 & 0 & 1 & 0 & 0 & 0 & 0\\\\\n",
       "\tL.donovani\\_8 & 0 & 0 & 0 & 1 & 0 & 0 & 0\\\\\n",
       "\tL.donovani\\_24 & 0 & 1 & 0 & 0 & 0 & 0 & 0\\\\\n",
       "\tL.major\\_4 & 0 & 0 & 0 & 0 & 0 & 1 & 0\\\\\n",
       "\tL.major\\_8 & 0 & 0 & 0 & 0 & 0 & 0 & 1\\\\\n",
       "\tL.major\\_24 & 0 & 0 & 0 & 0 & 1 & 0 & 0\\\\\n",
       "\tcontrol & 1 & 0 & 0 & 0 & 0 & 0 & 0\\\\\n",
       "\tL.donovani\\_4 & 0 & 0 & 1 & 0 & 0 & 0 & 0\\\\\n",
       "\tL.donovani\\_8 & 0 & 0 & 0 & 1 & 0 & 0 & 0\\\\\n",
       "\tL.donovani\\_24 & 0 & 1 & 0 & 0 & 0 & 0 & 0\\\\\n",
       "\tL.major\\_4 & 0 & 0 & 0 & 0 & 0 & 1 & 0\\\\\n",
       "\tL.major\\_8 & 0 & 0 & 0 & 0 & 0 & 0 & 1\\\\\n",
       "\tL.major\\_24 & 0 & 0 & 0 & 0 & 1 & 0 & 0\\\\\n",
       "\tcontrol & 1 & 0 & 0 & 0 & 0 & 0 & 0\\\\\n",
       "\tL.donovani\\_4 & 0 & 0 & 1 & 0 & 0 & 0 & 0\\\\\n",
       "\tL.donovani\\_8 & 0 & 0 & 0 & 1 & 0 & 0 & 0\\\\\n",
       "\tL.donovani\\_24 & 0 & 1 & 0 & 0 & 0 & 0 & 0\\\\\n",
       "\tL.major\\_4 & 0 & 0 & 0 & 0 & 0 & 1 & 0\\\\\n",
       "\tL.major\\_8 & 0 & 0 & 0 & 0 & 0 & 0 & 1\\\\\n",
       "\tL.major\\_24 & 0 & 0 & 0 & 0 & 1 & 0 & 0\\\\\n",
       "\tcontrol & 1 & 0 & 0 & 0 & 0 & 0 & 0\\\\\n",
       "\tL.donovani\\_4 & 0 & 0 & 1 & 0 & 0 & 0 & 0\\\\\n",
       "\tL.donovani\\_8 & 0 & 0 & 0 & 1 & 0 & 0 & 0\\\\\n",
       "\tL.donovani\\_24 & 0 & 1 & 0 & 0 & 0 & 0 & 0\\\\\n",
       "\tL.major\\_4 & 0 & 0 & 0 & 0 & 0 & 1 & 0\\\\\n",
       "\tL.major\\_8 & 0 & 0 & 0 & 0 & 0 & 0 & 1\\\\\n",
       "\tL.major\\_24 & 0 & 0 & 0 & 0 & 1 & 0 & 0\\\\\n",
       "\tcontrol & 1 & 0 & 0 & 0 & 0 & 0 & 0\\\\\n",
       "\\end{tabular}\n"
      ],
      "text/markdown": [
       "\n",
       "A matrix: 35 × 7 of type dbl\n",
       "\n",
       "| <!--/--> | control | L.donovani_24 | L.donovani_4 | L.donovani_8 | L.major_24 | L.major_4 | L.major_8 |\n",
       "|---|---|---|---|---|---|---|---|\n",
       "| L.donovani_4 | 0 | 0 | 1 | 0 | 0 | 0 | 0 |\n",
       "| L.donovani_8 | 0 | 0 | 0 | 1 | 0 | 0 | 0 |\n",
       "| L.donovani_24 | 0 | 1 | 0 | 0 | 0 | 0 | 0 |\n",
       "| L.major_4 | 0 | 0 | 0 | 0 | 0 | 1 | 0 |\n",
       "| L.major_8 | 0 | 0 | 0 | 0 | 0 | 0 | 1 |\n",
       "| L.major_24 | 0 | 0 | 0 | 0 | 1 | 0 | 0 |\n",
       "| control | 1 | 0 | 0 | 0 | 0 | 0 | 0 |\n",
       "| L.donovani_4 | 0 | 0 | 1 | 0 | 0 | 0 | 0 |\n",
       "| L.donovani_8 | 0 | 0 | 0 | 1 | 0 | 0 | 0 |\n",
       "| L.donovani_24 | 0 | 1 | 0 | 0 | 0 | 0 | 0 |\n",
       "| L.major_4 | 0 | 0 | 0 | 0 | 0 | 1 | 0 |\n",
       "| L.major_8 | 0 | 0 | 0 | 0 | 0 | 0 | 1 |\n",
       "| L.major_24 | 0 | 0 | 0 | 0 | 1 | 0 | 0 |\n",
       "| control | 1 | 0 | 0 | 0 | 0 | 0 | 0 |\n",
       "| L.donovani_4 | 0 | 0 | 1 | 0 | 0 | 0 | 0 |\n",
       "| L.donovani_8 | 0 | 0 | 0 | 1 | 0 | 0 | 0 |\n",
       "| L.donovani_24 | 0 | 1 | 0 | 0 | 0 | 0 | 0 |\n",
       "| L.major_4 | 0 | 0 | 0 | 0 | 0 | 1 | 0 |\n",
       "| L.major_8 | 0 | 0 | 0 | 0 | 0 | 0 | 1 |\n",
       "| L.major_24 | 0 | 0 | 0 | 0 | 1 | 0 | 0 |\n",
       "| control | 1 | 0 | 0 | 0 | 0 | 0 | 0 |\n",
       "| L.donovani_4 | 0 | 0 | 1 | 0 | 0 | 0 | 0 |\n",
       "| L.donovani_8 | 0 | 0 | 0 | 1 | 0 | 0 | 0 |\n",
       "| L.donovani_24 | 0 | 1 | 0 | 0 | 0 | 0 | 0 |\n",
       "| L.major_4 | 0 | 0 | 0 | 0 | 0 | 1 | 0 |\n",
       "| L.major_8 | 0 | 0 | 0 | 0 | 0 | 0 | 1 |\n",
       "| L.major_24 | 0 | 0 | 0 | 0 | 1 | 0 | 0 |\n",
       "| control | 1 | 0 | 0 | 0 | 0 | 0 | 0 |\n",
       "| L.donovani_4 | 0 | 0 | 1 | 0 | 0 | 0 | 0 |\n",
       "| L.donovani_8 | 0 | 0 | 0 | 1 | 0 | 0 | 0 |\n",
       "| L.donovani_24 | 0 | 1 | 0 | 0 | 0 | 0 | 0 |\n",
       "| L.major_4 | 0 | 0 | 0 | 0 | 0 | 1 | 0 |\n",
       "| L.major_8 | 0 | 0 | 0 | 0 | 0 | 0 | 1 |\n",
       "| L.major_24 | 0 | 0 | 0 | 0 | 1 | 0 | 0 |\n",
       "| control | 1 | 0 | 0 | 0 | 0 | 0 | 0 |\n",
       "\n"
      ],
      "text/plain": [
       "              control L.donovani_24 L.donovani_4 L.donovani_8 L.major_24\n",
       "L.donovani_4  0       0             1            0            0         \n",
       "L.donovani_8  0       0             0            1            0         \n",
       "L.donovani_24 0       1             0            0            0         \n",
       "L.major_4     0       0             0            0            0         \n",
       "L.major_8     0       0             0            0            0         \n",
       "L.major_24    0       0             0            0            1         \n",
       "control       1       0             0            0            0         \n",
       "L.donovani_4  0       0             1            0            0         \n",
       "L.donovani_8  0       0             0            1            0         \n",
       "L.donovani_24 0       1             0            0            0         \n",
       "L.major_4     0       0             0            0            0         \n",
       "L.major_8     0       0             0            0            0         \n",
       "L.major_24    0       0             0            0            1         \n",
       "control       1       0             0            0            0         \n",
       "L.donovani_4  0       0             1            0            0         \n",
       "L.donovani_8  0       0             0            1            0         \n",
       "L.donovani_24 0       1             0            0            0         \n",
       "L.major_4     0       0             0            0            0         \n",
       "L.major_8     0       0             0            0            0         \n",
       "L.major_24    0       0             0            0            1         \n",
       "control       1       0             0            0            0         \n",
       "L.donovani_4  0       0             1            0            0         \n",
       "L.donovani_8  0       0             0            1            0         \n",
       "L.donovani_24 0       1             0            0            0         \n",
       "L.major_4     0       0             0            0            0         \n",
       "L.major_8     0       0             0            0            0         \n",
       "L.major_24    0       0             0            0            1         \n",
       "control       1       0             0            0            0         \n",
       "L.donovani_4  0       0             1            0            0         \n",
       "L.donovani_8  0       0             0            1            0         \n",
       "L.donovani_24 0       1             0            0            0         \n",
       "L.major_4     0       0             0            0            0         \n",
       "L.major_8     0       0             0            0            0         \n",
       "L.major_24    0       0             0            0            1         \n",
       "control       1       0             0            0            0         \n",
       "              L.major_4 L.major_8\n",
       "L.donovani_4  0         0        \n",
       "L.donovani_8  0         0        \n",
       "L.donovani_24 0         0        \n",
       "L.major_4     1         0        \n",
       "L.major_8     0         1        \n",
       "L.major_24    0         0        \n",
       "control       0         0        \n",
       "L.donovani_4  0         0        \n",
       "L.donovani_8  0         0        \n",
       "L.donovani_24 0         0        \n",
       "L.major_4     1         0        \n",
       "L.major_8     0         1        \n",
       "L.major_24    0         0        \n",
       "control       0         0        \n",
       "L.donovani_4  0         0        \n",
       "L.donovani_8  0         0        \n",
       "L.donovani_24 0         0        \n",
       "L.major_4     1         0        \n",
       "L.major_8     0         1        \n",
       "L.major_24    0         0        \n",
       "control       0         0        \n",
       "L.donovani_4  0         0        \n",
       "L.donovani_8  0         0        \n",
       "L.donovani_24 0         0        \n",
       "L.major_4     1         0        \n",
       "L.major_8     0         1        \n",
       "L.major_24    0         0        \n",
       "control       0         0        \n",
       "L.donovani_4  0         0        \n",
       "L.donovani_8  0         0        \n",
       "L.donovani_24 0         0        \n",
       "L.major_4     1         0        \n",
       "L.major_8     0         1        \n",
       "L.major_24    0         0        \n",
       "control       0         0        "
      ]
     },
     "metadata": {},
     "output_type": "display_data"
    }
   ],
   "source": [
    "# prepare design matrix\n",
    "sample.lst<-pData(my.rma)$group\n",
    "group.lst<-factor(sample.lst)\n",
    "\n",
    "my.design <- model.matrix(~0 + group, pData(my.rma))\n",
    "\n",
    "rownames(my.design) <- sample.lst\n",
    "colnames(my.design) <- levels(group.lst)\n",
    "\n",
    "my.design"
   ]
  },
  {
   "cell_type": "code",
   "execution_count": 23,
   "metadata": {
    "scrolled": true
   },
   "outputs": [],
   "source": [
    "# fit linear model\n",
    "fit <- lmFit(my.rma, my.design)"
   ]
  },
  {
   "cell_type": "code",
   "execution_count": 24,
   "metadata": {},
   "outputs": [
    {
     "data": {
      "text/html": [
       "<table>\n",
       "<caption>A matrix: 7 × 6 of type dbl</caption>\n",
       "<thead>\n",
       "\t<tr><th></th><th scope=col>L.donovani_4vsControl</th><th scope=col>L.donovani_8vsControl</th><th scope=col>L.donovani_24vsControl</th><th scope=col>L.major_4vsControl</th><th scope=col>L.major_8vsControl</th><th scope=col>L.major_24vsControl</th></tr>\n",
       "</thead>\n",
       "<tbody>\n",
       "\t<tr><th scope=row>control</th><td>-1</td><td>-1</td><td>-1</td><td>-1</td><td>-1</td><td>-1</td></tr>\n",
       "\t<tr><th scope=row>L.donovani_24</th><td> 0</td><td> 0</td><td> 1</td><td> 0</td><td> 0</td><td> 0</td></tr>\n",
       "\t<tr><th scope=row>L.donovani_4</th><td> 1</td><td> 0</td><td> 0</td><td> 0</td><td> 0</td><td> 0</td></tr>\n",
       "\t<tr><th scope=row>L.donovani_8</th><td> 0</td><td> 1</td><td> 0</td><td> 0</td><td> 0</td><td> 0</td></tr>\n",
       "\t<tr><th scope=row>L.major_24</th><td> 0</td><td> 0</td><td> 0</td><td> 0</td><td> 0</td><td> 1</td></tr>\n",
       "\t<tr><th scope=row>L.major_4</th><td> 0</td><td> 0</td><td> 0</td><td> 1</td><td> 0</td><td> 0</td></tr>\n",
       "\t<tr><th scope=row>L.major_8</th><td> 0</td><td> 0</td><td> 0</td><td> 0</td><td> 1</td><td> 0</td></tr>\n",
       "</tbody>\n",
       "</table>\n"
      ],
      "text/latex": [
       "A matrix: 7 × 6 of type dbl\n",
       "\\begin{tabular}{r|llllll}\n",
       "  & L.donovani\\_4vsControl & L.donovani\\_8vsControl & L.donovani\\_24vsControl & L.major\\_4vsControl & L.major\\_8vsControl & L.major\\_24vsControl\\\\\n",
       "\\hline\n",
       "\tcontrol & -1 & -1 & -1 & -1 & -1 & -1\\\\\n",
       "\tL.donovani\\_24 &  0 &  0 &  1 &  0 &  0 &  0\\\\\n",
       "\tL.donovani\\_4 &  1 &  0 &  0 &  0 &  0 &  0\\\\\n",
       "\tL.donovani\\_8 &  0 &  1 &  0 &  0 &  0 &  0\\\\\n",
       "\tL.major\\_24 &  0 &  0 &  0 &  0 &  0 &  1\\\\\n",
       "\tL.major\\_4 &  0 &  0 &  0 &  1 &  0 &  0\\\\\n",
       "\tL.major\\_8 &  0 &  0 &  0 &  0 &  1 &  0\\\\\n",
       "\\end{tabular}\n"
      ],
      "text/markdown": [
       "\n",
       "A matrix: 7 × 6 of type dbl\n",
       "\n",
       "| <!--/--> | L.donovani_4vsControl | L.donovani_8vsControl | L.donovani_24vsControl | L.major_4vsControl | L.major_8vsControl | L.major_24vsControl |\n",
       "|---|---|---|---|---|---|---|\n",
       "| control | -1 | -1 | -1 | -1 | -1 | -1 |\n",
       "| L.donovani_24 |  0 |  0 |  1 |  0 |  0 |  0 |\n",
       "| L.donovani_4 |  1 |  0 |  0 |  0 |  0 |  0 |\n",
       "| L.donovani_8 |  0 |  1 |  0 |  0 |  0 |  0 |\n",
       "| L.major_24 |  0 |  0 |  0 |  0 |  0 |  1 |\n",
       "| L.major_4 |  0 |  0 |  0 |  1 |  0 |  0 |\n",
       "| L.major_8 |  0 |  0 |  0 |  0 |  1 |  0 |\n",
       "\n"
      ],
      "text/plain": [
       "               Contrasts\n",
       "Levels          L.donovani_4vsControl L.donovani_8vsControl\n",
       "  control       -1                    -1                   \n",
       "  L.donovani_24  0                     0                   \n",
       "  L.donovani_4   1                     0                   \n",
       "  L.donovani_8   0                     1                   \n",
       "  L.major_24     0                     0                   \n",
       "  L.major_4      0                     0                   \n",
       "  L.major_8      0                     0                   \n",
       "               Contrasts\n",
       "Levels          L.donovani_24vsControl L.major_4vsControl L.major_8vsControl\n",
       "  control       -1                     -1                 -1                \n",
       "  L.donovani_24  1                      0                  0                \n",
       "  L.donovani_4   0                      0                  0                \n",
       "  L.donovani_8   0                      0                  0                \n",
       "  L.major_24     0                      0                  0                \n",
       "  L.major_4      0                      1                  0                \n",
       "  L.major_8      0                      0                  1                \n",
       "               Contrasts\n",
       "Levels          L.major_24vsControl\n",
       "  control       -1                 \n",
       "  L.donovani_24  0                 \n",
       "  L.donovani_4   0                 \n",
       "  L.donovani_8   0                 \n",
       "  L.major_24     1                 \n",
       "  L.major_4      0                 \n",
       "  L.major_8      0                 "
      ]
     },
     "metadata": {},
     "output_type": "display_data"
    }
   ],
   "source": [
    "# specify the comparison btw group of interest\n",
    "my.contrasts <- makeContrasts(L.donovani_4vsControl = L.donovani_4-control, \n",
    "                            L.donovani_8vsControl = L.donovani_8-control, \n",
    "                            L.donovani_24vsControl = L.donovani_24-control,\n",
    "                            L.major_4vsControl = L.major_4-control, \n",
    "                            L.major_8vsControl = L.major_8-control, \n",
    "                            L.major_24vsControl = L.major_24-control\n",
    "                            , levels = my.design)\n",
    "my.contrasts"
   ]
  },
  {
   "cell_type": "code",
   "execution_count": 25,
   "metadata": {},
   "outputs": [],
   "source": [
    "# store comparison matrix\n",
    "write.table(my.contrasts, file=paste0(\"results/\",my.gse,\"_Comparisons.txt\"), \n",
    "            sep=\"\\t\", quote=F,col.names=NA)"
   ]
  },
  {
   "cell_type": "markdown",
   "metadata": {},
   "source": [
    "## Statistical Inference"
   ]
  },
  {
   "cell_type": "code",
   "execution_count": 26,
   "metadata": {},
   "outputs": [],
   "source": [
    "fits.fun<-function(x)(contrasts.fit(fit, contrasts=my.contrasts[, x]));\n",
    "\n",
    "contrast.fits <- lapply(colnames(my.contrasts),fits.fun)\n",
    "names(contrast.fits)<-colnames(my.contrasts)"
   ]
  },
  {
   "cell_type": "code",
   "execution_count": 27,
   "metadata": {
    "scrolled": true
   },
   "outputs": [],
   "source": [
    "ebs.fun<-function(x)(eBayes(x, proportion=0.1, trend=FALSE, robust=FALSE))\n",
    "    \n",
    "contrast.ebs <- lapply(contrast.fits, ebs.fun)"
   ]
  },
  {
   "cell_type": "code",
   "execution_count": 28,
   "metadata": {},
   "outputs": [],
   "source": [
    "tts.fun<-function(x)(topTable(x, adjust.method=\"BH\", number=length(x$coefficients), sort.by=\"none\"));\n",
    "\n",
    "contrast.tts <- lapply(contrast.ebs,tts.fun)"
   ]
  },
  {
   "cell_type": "code",
   "execution_count": 29,
   "metadata": {},
   "outputs": [],
   "source": [
    "test.fun<-function(x){\n",
    "    store<-decideTests(x, method=\"separate\", \n",
    "                                  adjust.method=\"BH\", p.value=0.05, \n",
    "                                  lfc=0)\n",
    "    return(store)\n",
    "};\n",
    "\n",
    "contrast.tests <- lapply(contrast.ebs, test.fun)\n"
   ]
  },
  {
   "cell_type": "code",
   "execution_count": 30,
   "metadata": {},
   "outputs": [],
   "source": [
    "contrast.tests.df<-lapply(contrast.tests,function(x){\n",
    "    store<-as.data.frame(x)\n",
    "    colnames(store)<-\"test\"\n",
    "    return(store)\n",
    "})"
   ]
  },
  {
   "cell_type": "code",
   "execution_count": 31,
   "metadata": {},
   "outputs": [
    {
     "data": {
      "text/html": [
       "<table>\n",
       "<caption>A data.frame: 6 × 1</caption>\n",
       "<thead>\n",
       "\t<tr><th></th><th scope=col>test</th></tr>\n",
       "\t<tr><th></th><th scope=col>&lt;dbl&gt;</th></tr>\n",
       "</thead>\n",
       "<tbody>\n",
       "\t<tr><th scope=row>AB000409</th><td>0</td></tr>\n",
       "\t<tr><th scope=row>AB002308</th><td>0</td></tr>\n",
       "\t<tr><th scope=row>AB002311</th><td>0</td></tr>\n",
       "\t<tr><th scope=row>AB002313</th><td>0</td></tr>\n",
       "\t<tr><th scope=row>AB002381</th><td>0</td></tr>\n",
       "\t<tr><th scope=row>AB002382</th><td>0</td></tr>\n",
       "</tbody>\n",
       "</table>\n"
      ],
      "text/latex": [
       "A data.frame: 6 × 1\n",
       "\\begin{tabular}{r|l}\n",
       "  & test\\\\\n",
       "  & <dbl>\\\\\n",
       "\\hline\n",
       "\tAB000409 & 0\\\\\n",
       "\tAB002308 & 0\\\\\n",
       "\tAB002311 & 0\\\\\n",
       "\tAB002313 & 0\\\\\n",
       "\tAB002381 & 0\\\\\n",
       "\tAB002382 & 0\\\\\n",
       "\\end{tabular}\n"
      ],
      "text/markdown": [
       "\n",
       "A data.frame: 6 × 1\n",
       "\n",
       "| <!--/--> | test &lt;dbl&gt; |\n",
       "|---|---|\n",
       "| AB000409 | 0 |\n",
       "| AB002308 | 0 |\n",
       "| AB002311 | 0 |\n",
       "| AB002313 | 0 |\n",
       "| AB002381 | 0 |\n",
       "| AB002382 | 0 |\n",
       "\n"
      ],
      "text/plain": [
       "         test\n",
       "AB000409 0   \n",
       "AB002308 0   \n",
       "AB002311 0   \n",
       "AB002313 0   \n",
       "AB002381 0   \n",
       "AB002382 0   "
      ]
     },
     "metadata": {},
     "output_type": "display_data"
    }
   ],
   "source": [
    "head(contrast.tests.df[[1]])"
   ]
  },
  {
   "cell_type": "code",
   "execution_count": 32,
   "metadata": {},
   "outputs": [],
   "source": [
    "# show in one matrix whether up or down regulated in diff comparisons\n",
    "tests.mat <- do.call(cbind, contrast.tests)\n",
    "colnames(tests.mat) <- names(contrast.tests)\n",
    "write.table(tests.mat, file=paste0(\"results/\",my.gse,\"_Test.txt\"), \n",
    "            sep=\"\\t\", quote=F, col.names=NA)"
   ]
  },
  {
   "cell_type": "code",
   "execution_count": 33,
   "metadata": {},
   "outputs": [
    {
     "data": {
      "text/html": [
       "<table>\n",
       "<caption>A matrix: 3 × 6 of type dbl</caption>\n",
       "<thead>\n",
       "\t<tr><th></th><th scope=col>L.donovani_4vsControl</th><th scope=col>L.donovani_8vsControl</th><th scope=col>L.donovani_24vsControl</th><th scope=col>L.major_4vsControl</th><th scope=col>L.major_8vsControl</th><th scope=col>L.major_24vsControl</th></tr>\n",
       "</thead>\n",
       "<tbody>\n",
       "\t<tr><th scope=row>AB000409</th><td>0</td><td>0</td><td>-1</td><td>0</td><td>-1</td><td>-1</td></tr>\n",
       "\t<tr><th scope=row>AB002308</th><td>0</td><td>0</td><td> 0</td><td>0</td><td> 0</td><td> 0</td></tr>\n",
       "\t<tr><th scope=row>AB002311</th><td>0</td><td>0</td><td> 1</td><td>1</td><td> 1</td><td> 1</td></tr>\n",
       "</tbody>\n",
       "</table>\n"
      ],
      "text/latex": [
       "A matrix: 3 × 6 of type dbl\n",
       "\\begin{tabular}{r|llllll}\n",
       "  & L.donovani\\_4vsControl & L.donovani\\_8vsControl & L.donovani\\_24vsControl & L.major\\_4vsControl & L.major\\_8vsControl & L.major\\_24vsControl\\\\\n",
       "\\hline\n",
       "\tAB000409 & 0 & 0 & -1 & 0 & -1 & -1\\\\\n",
       "\tAB002308 & 0 & 0 &  0 & 0 &  0 &  0\\\\\n",
       "\tAB002311 & 0 & 0 &  1 & 1 &  1 &  1\\\\\n",
       "\\end{tabular}\n"
      ],
      "text/markdown": [
       "\n",
       "A matrix: 3 × 6 of type dbl\n",
       "\n",
       "| <!--/--> | L.donovani_4vsControl | L.donovani_8vsControl | L.donovani_24vsControl | L.major_4vsControl | L.major_8vsControl | L.major_24vsControl |\n",
       "|---|---|---|---|---|---|---|\n",
       "| AB000409 | 0 | 0 | -1 | 0 | -1 | -1 |\n",
       "| AB002308 | 0 | 0 |  0 | 0 |  0 |  0 |\n",
       "| AB002311 | 0 | 0 |  1 | 1 |  1 |  1 |\n",
       "\n"
      ],
      "text/plain": [
       "         L.donovani_4vsControl L.donovani_8vsControl L.donovani_24vsControl\n",
       "AB000409 0                     0                     -1                    \n",
       "AB002308 0                     0                      0                    \n",
       "AB002311 0                     0                      1                    \n",
       "         L.major_4vsControl L.major_8vsControl L.major_24vsControl\n",
       "AB000409 0                  -1                 -1                 \n",
       "AB002308 0                   0                  0                 \n",
       "AB002311 1                   1                  1                 "
      ]
     },
     "metadata": {},
     "output_type": "display_data"
    }
   ],
   "source": [
    "head(tests.mat,3)"
   ]
  },
  {
   "cell_type": "markdown",
   "metadata": {},
   "source": [
    "# Gene Annotations for Microarray Probesets"
   ]
  },
  {
   "cell_type": "code",
   "execution_count": 34,
   "metadata": {},
   "outputs": [
    {
     "name": "stderr",
     "output_type": "stream",
     "text": [
      "Loading required package: AnnotationDbi\n",
      "\n",
      "\n",
      "\n"
     ]
    }
   ],
   "source": [
    "library(org.Hs.eg.db)"
   ]
  },
  {
   "cell_type": "code",
   "execution_count": 35,
   "metadata": {},
   "outputs": [
    {
     "name": "stderr",
     "output_type": "stream",
     "text": [
      "'select()' returned 1:many mapping between keys and columns\n",
      "\n"
     ]
    }
   ],
   "source": [
    "# get annotation \n",
    "gene.data <- select(org.Hs.eg.db, \n",
    "                keys=rownames(contrast.tts[[1]]), \n",
    "                keytype=\"ACCNUM\", \n",
    "                columns=c(\"ENTREZID\", \"GENENAME\", \"SYMBOL\",\"ENSEMBL\"))\n",
    "gene.data<-na.omit(gene.data)\n",
    "\n",
    "my.annotated.results<-lapply(colnames(my.contrasts),function(x){  \n",
    "    store<-merge(contrast.tts[[x]], contrast.tests.df[[x]], by=\"row.names\",all.x=TRUE)\n",
    "    colnames(store)[1]<-\"ACCNUM\"\n",
    "\n",
    "    store<-merge(gene.data, store, by=\"ACCNUM\")\n",
    "    return(store)\n",
    "})\n",
    "names(my.annotated.results)<-colnames(my.contrasts)"
   ]
  },
  {
   "cell_type": "code",
   "execution_count": 36,
   "metadata": {},
   "outputs": [
    {
     "data": {
      "text/html": [
       "<table>\n",
       "<caption>A data.frame: 3 × 12</caption>\n",
       "<thead>\n",
       "\t<tr><th></th><th scope=col>ACCNUM</th><th scope=col>ENTREZID</th><th scope=col>GENENAME</th><th scope=col>SYMBOL</th><th scope=col>ENSEMBL</th><th scope=col>logFC</th><th scope=col>AveExpr</th><th scope=col>t</th><th scope=col>P.Value</th><th scope=col>adj.P.Val</th><th scope=col>B</th><th scope=col>test</th></tr>\n",
       "\t<tr><th></th><th scope=col>&lt;chr&gt;</th><th scope=col>&lt;chr&gt;</th><th scope=col>&lt;chr&gt;</th><th scope=col>&lt;chr&gt;</th><th scope=col>&lt;chr&gt;</th><th scope=col>&lt;dbl&gt;</th><th scope=col>&lt;dbl&gt;</th><th scope=col>&lt;dbl&gt;</th><th scope=col>&lt;dbl&gt;</th><th scope=col>&lt;dbl&gt;</th><th scope=col>&lt;dbl&gt;</th><th scope=col>&lt;dbl&gt;</th></tr>\n",
       "</thead>\n",
       "<tbody>\n",
       "\t<tr><th scope=row>1</th><td>AB000409</td><td>8569</td><td>MAPK interacting serine/threonine kinase 1          </td><td>MKNK1  </td><td>ENSG00000079277</td><td>-0.1832388</td><td>13.03796</td><td>-0.9267334</td><td>0.36104288</td><td>0.5709674</td><td>-3.271029</td><td>0</td></tr>\n",
       "\t<tr><th scope=row>2</th><td>AB002308</td><td>9919</td><td>SEC16 homolog A, endoplasmic reticulum export factor</td><td>SEC16A </td><td>ENSG00000148396</td><td>-0.2404156</td><td>12.62041</td><td>-1.2506015</td><td>0.22020057</td><td>0.4248963</td><td>-2.939187</td><td>0</td></tr>\n",
       "\t<tr><th scope=row>3</th><td>AB002311</td><td>9693</td><td>Rap guanine nucleotide exchange factor 2            </td><td>RAPGEF2</td><td>ENSG00000109756</td><td> 0.6631599</td><td>11.94540</td><td> 2.1819112</td><td>0.03661735</td><td>0.1322479</td><td>-1.522200</td><td>0</td></tr>\n",
       "</tbody>\n",
       "</table>\n"
      ],
      "text/latex": [
       "A data.frame: 3 × 12\n",
       "\\begin{tabular}{r|llllllllllll}\n",
       "  & ACCNUM & ENTREZID & GENENAME & SYMBOL & ENSEMBL & logFC & AveExpr & t & P.Value & adj.P.Val & B & test\\\\\n",
       "  & <chr> & <chr> & <chr> & <chr> & <chr> & <dbl> & <dbl> & <dbl> & <dbl> & <dbl> & <dbl> & <dbl>\\\\\n",
       "\\hline\n",
       "\t1 & AB000409 & 8569 & MAPK interacting serine/threonine kinase 1           & MKNK1   & ENSG00000079277 & -0.1832388 & 13.03796 & -0.9267334 & 0.36104288 & 0.5709674 & -3.271029 & 0\\\\\n",
       "\t2 & AB002308 & 9919 & SEC16 homolog A, endoplasmic reticulum export factor & SEC16A  & ENSG00000148396 & -0.2404156 & 12.62041 & -1.2506015 & 0.22020057 & 0.4248963 & -2.939187 & 0\\\\\n",
       "\t3 & AB002311 & 9693 & Rap guanine nucleotide exchange factor 2             & RAPGEF2 & ENSG00000109756 &  0.6631599 & 11.94540 &  2.1819112 & 0.03661735 & 0.1322479 & -1.522200 & 0\\\\\n",
       "\\end{tabular}\n"
      ],
      "text/markdown": [
       "\n",
       "A data.frame: 3 × 12\n",
       "\n",
       "| <!--/--> | ACCNUM &lt;chr&gt; | ENTREZID &lt;chr&gt; | GENENAME &lt;chr&gt; | SYMBOL &lt;chr&gt; | ENSEMBL &lt;chr&gt; | logFC &lt;dbl&gt; | AveExpr &lt;dbl&gt; | t &lt;dbl&gt; | P.Value &lt;dbl&gt; | adj.P.Val &lt;dbl&gt; | B &lt;dbl&gt; | test &lt;dbl&gt; |\n",
       "|---|---|---|---|---|---|---|---|---|---|---|---|---|\n",
       "| 1 | AB000409 | 8569 | MAPK interacting serine/threonine kinase 1           | MKNK1   | ENSG00000079277 | -0.1832388 | 13.03796 | -0.9267334 | 0.36104288 | 0.5709674 | -3.271029 | 0 |\n",
       "| 2 | AB002308 | 9919 | SEC16 homolog A, endoplasmic reticulum export factor | SEC16A  | ENSG00000148396 | -0.2404156 | 12.62041 | -1.2506015 | 0.22020057 | 0.4248963 | -2.939187 | 0 |\n",
       "| 3 | AB002311 | 9693 | Rap guanine nucleotide exchange factor 2             | RAPGEF2 | ENSG00000109756 |  0.6631599 | 11.94540 |  2.1819112 | 0.03661735 | 0.1322479 | -1.522200 | 0 |\n",
       "\n"
      ],
      "text/plain": [
       "  ACCNUM   ENTREZID GENENAME                                            \n",
       "1 AB000409 8569     MAPK interacting serine/threonine kinase 1          \n",
       "2 AB002308 9919     SEC16 homolog A, endoplasmic reticulum export factor\n",
       "3 AB002311 9693     Rap guanine nucleotide exchange factor 2            \n",
       "  SYMBOL  ENSEMBL         logFC      AveExpr  t          P.Value    adj.P.Val\n",
       "1 MKNK1   ENSG00000079277 -0.1832388 13.03796 -0.9267334 0.36104288 0.5709674\n",
       "2 SEC16A  ENSG00000148396 -0.2404156 12.62041 -1.2506015 0.22020057 0.4248963\n",
       "3 RAPGEF2 ENSG00000109756  0.6631599 11.94540  2.1819112 0.03661735 0.1322479\n",
       "  B         test\n",
       "1 -3.271029 0   \n",
       "2 -2.939187 0   \n",
       "3 -1.522200 0   "
      ]
     },
     "metadata": {},
     "output_type": "display_data"
    }
   ],
   "source": [
    "head(my.annotated.results[[1]],3)"
   ]
  },
  {
   "cell_type": "code",
   "execution_count": 37,
   "metadata": {},
   "outputs": [
    {
     "data": {
      "text/plain": [
       "       \n",
       "        FALSE TRUE\n",
       "  FALSE  6680    7\n",
       "  TRUE   5203 1715"
      ]
     },
     "metadata": {},
     "output_type": "display_data"
    }
   ],
   "source": [
    "# venn diagram\n",
    "table(duplicated(gene.data$ENTREZID), duplicated(gene.data$ACCNUM))"
   ]
  },
  {
   "cell_type": "markdown",
   "metadata": {},
   "source": [
    "## Cases of genes with two or more probes, only the most significant ones were used."
   ]
  },
  {
   "cell_type": "code",
   "execution_count": 38,
   "metadata": {},
   "outputs": [],
   "source": [
    "my.unique.results <- lapply(colnames(my.contrasts), function(x){\n",
    "    ordered.result<-my.annotated.results[[x]][order(my.annotated.results[[x]]$ENTREZID,\n",
    "              my.annotated.results[[x]]$adj.P.Val,decreasing=FALSE),]\n",
    "    return(ordered.result[!duplicated(ordered.result$ENTREZID),])\n",
    "})\n",
    "names(my.unique.results) <- colnames(my.contrasts)"
   ]
  },
  {
   "cell_type": "code",
   "execution_count": 39,
   "metadata": {},
   "outputs": [
    {
     "data": {
      "text/plain": [
       "\n",
       "FALSE \n",
       " 6687 "
      ]
     },
     "metadata": {},
     "output_type": "display_data"
    }
   ],
   "source": [
    "# check if duplication still exists\n",
    "table(duplicated(my.unique.results[[1]]$ENTREZID))"
   ]
  },
  {
   "cell_type": "markdown",
   "metadata": {},
   "source": [
    "## Combine different time point comparison of a strain"
   ]
  },
  {
   "cell_type": "code",
   "execution_count": 40,
   "metadata": {},
   "outputs": [],
   "source": [
    "combined.lst<-list()\n",
    "strains<-c(\"L.donovani\",\"L.major\")\n",
    "for(strain in strains){\n",
    "    strain.lst<- my.unique.results[grep(strain,names(my.unique.results))]\n",
    "    store <-data.frame()\n",
    "    names<-names(strain.lst)    \n",
    "    for(x in names){\n",
    "        if(which(x==names)==1){\n",
    "            store<-strain.lst[[x]][,c(\"ENTREZID\",\"GENENAME\",\"SYMBOL\",\"logFC\",\"test\")]\n",
    "            colnames(store)[4:5]<-paste(x,c(\"logFC\",\"test\"),sep=\"_\")\n",
    "            } \n",
    "        else{\n",
    "             colnames(strain.lst[[x]])<-paste(x,colnames(strain.lst[[x]]),sep=\"_\")\n",
    "             colnames(strain.lst[[x]])[which(colnames(strain.lst[[x]])==paste(x,\"ENTREZID\",sep=\"_\"))]<-c(\"ENTREZID\")\n",
    "             store<-merge(store,strain.lst[[x]][,c(c(\"ENTREZID\"),paste(x,c(\"logFC\",\"test\"),sep=\"_\"))],by=\"ENTREZID\")\n",
    "            }\n",
    "    }\n",
    "    combined.lst[[strain]]<- store  \n",
    "}    "
   ]
  },
  {
   "cell_type": "code",
   "execution_count": 41,
   "metadata": {},
   "outputs": [
    {
     "data": {
      "text/html": [
       "<table>\n",
       "<caption>A data.frame: 3 × 9</caption>\n",
       "<thead>\n",
       "\t<tr><th></th><th scope=col>ENTREZID</th><th scope=col>GENENAME</th><th scope=col>SYMBOL</th><th scope=col>L.donovani_4vsControl_logFC</th><th scope=col>L.donovani_4vsControl_test</th><th scope=col>L.donovani_8vsControl_logFC</th><th scope=col>L.donovani_8vsControl_test</th><th scope=col>L.donovani_24vsControl_logFC</th><th scope=col>L.donovani_24vsControl_test</th></tr>\n",
       "\t<tr><th></th><th scope=col>&lt;chr&gt;</th><th scope=col>&lt;chr&gt;</th><th scope=col>&lt;chr&gt;</th><th scope=col>&lt;dbl&gt;</th><th scope=col>&lt;dbl&gt;</th><th scope=col>&lt;dbl&gt;</th><th scope=col>&lt;dbl&gt;</th><th scope=col>&lt;dbl&gt;</th><th scope=col>&lt;dbl&gt;</th></tr>\n",
       "</thead>\n",
       "<tbody>\n",
       "\t<tr><th scope=row>1</th><td>100  </td><td>adenosine deaminase          </td><td>ADA </td><td>-0.7940217</td><td>0</td><td>-1.44493902</td><td>-1</td><td>-0.6574808</td><td>0</td></tr>\n",
       "\t<tr><th scope=row>2</th><td>10000</td><td>AKT serine/threonine kinase 3</td><td>AKT3</td><td> 0.2404119</td><td>0</td><td> 0.22433607</td><td> 0</td><td> 0.5633049</td><td>0</td></tr>\n",
       "\t<tr><th scope=row>3</th><td>10001</td><td>mediator complex subunit 6   </td><td>MED6</td><td>-0.1513220</td><td>0</td><td> 0.08165015</td><td> 0</td><td> 0.1119840</td><td>0</td></tr>\n",
       "</tbody>\n",
       "</table>\n"
      ],
      "text/latex": [
       "A data.frame: 3 × 9\n",
       "\\begin{tabular}{r|lllllllll}\n",
       "  & ENTREZID & GENENAME & SYMBOL & L.donovani\\_4vsControl\\_logFC & L.donovani\\_4vsControl\\_test & L.donovani\\_8vsControl\\_logFC & L.donovani\\_8vsControl\\_test & L.donovani\\_24vsControl\\_logFC & L.donovani\\_24vsControl\\_test\\\\\n",
       "  & <chr> & <chr> & <chr> & <dbl> & <dbl> & <dbl> & <dbl> & <dbl> & <dbl>\\\\\n",
       "\\hline\n",
       "\t1 & 100   & adenosine deaminase           & ADA  & -0.7940217 & 0 & -1.44493902 & -1 & -0.6574808 & 0\\\\\n",
       "\t2 & 10000 & AKT serine/threonine kinase 3 & AKT3 &  0.2404119 & 0 &  0.22433607 &  0 &  0.5633049 & 0\\\\\n",
       "\t3 & 10001 & mediator complex subunit 6    & MED6 & -0.1513220 & 0 &  0.08165015 &  0 &  0.1119840 & 0\\\\\n",
       "\\end{tabular}\n"
      ],
      "text/markdown": [
       "\n",
       "A data.frame: 3 × 9\n",
       "\n",
       "| <!--/--> | ENTREZID &lt;chr&gt; | GENENAME &lt;chr&gt; | SYMBOL &lt;chr&gt; | L.donovani_4vsControl_logFC &lt;dbl&gt; | L.donovani_4vsControl_test &lt;dbl&gt; | L.donovani_8vsControl_logFC &lt;dbl&gt; | L.donovani_8vsControl_test &lt;dbl&gt; | L.donovani_24vsControl_logFC &lt;dbl&gt; | L.donovani_24vsControl_test &lt;dbl&gt; |\n",
       "|---|---|---|---|---|---|---|---|---|---|\n",
       "| 1 | 100   | adenosine deaminase           | ADA  | -0.7940217 | 0 | -1.44493902 | -1 | -0.6574808 | 0 |\n",
       "| 2 | 10000 | AKT serine/threonine kinase 3 | AKT3 |  0.2404119 | 0 |  0.22433607 |  0 |  0.5633049 | 0 |\n",
       "| 3 | 10001 | mediator complex subunit 6    | MED6 | -0.1513220 | 0 |  0.08165015 |  0 |  0.1119840 | 0 |\n",
       "\n"
      ],
      "text/plain": [
       "  ENTREZID GENENAME                      SYMBOL L.donovani_4vsControl_logFC\n",
       "1 100      adenosine deaminase           ADA    -0.7940217                 \n",
       "2 10000    AKT serine/threonine kinase 3 AKT3    0.2404119                 \n",
       "3 10001    mediator complex subunit 6    MED6   -0.1513220                 \n",
       "  L.donovani_4vsControl_test L.donovani_8vsControl_logFC\n",
       "1 0                          -1.44493902                \n",
       "2 0                           0.22433607                \n",
       "3 0                           0.08165015                \n",
       "  L.donovani_8vsControl_test L.donovani_24vsControl_logFC\n",
       "1 -1                         -0.6574808                  \n",
       "2  0                          0.5633049                  \n",
       "3  0                          0.1119840                  \n",
       "  L.donovani_24vsControl_test\n",
       "1 0                          \n",
       "2 0                          \n",
       "3 0                          "
      ]
     },
     "metadata": {},
     "output_type": "display_data"
    }
   ],
   "source": [
    "head(combined.lst[[1]],3)"
   ]
  },
  {
   "cell_type": "markdown",
   "metadata": {},
   "source": [
    "## Filter genes that are significant in atleast one comparison"
   ]
  },
  {
   "cell_type": "code",
   "execution_count": 42,
   "metadata": {},
   "outputs": [],
   "source": [
    "strain.significant.genes<- lapply(names(combined.lst), function(x){\n",
    "    store.test<- 1*(combined.lst[[x]][,grep(\"test\",colnames(combined.lst[[x]]))]!=0)\n",
    "    # select genes that was significant in atleast one time point \n",
    "    filtered<-combined.lst[[x]][apply(store.test,1,sum)>=1,]\n",
    "    store.logFC<-filtered[,grep(\"logFC\",colnames(filtered))]\n",
    "    # sort genes according in logFC\n",
    "    sorted.genes<-filtered[order(apply(store.logFC,1,sum),decreasing=TRUE),]\n",
    "    return(sorted.genes)\n",
    "})\n",
    "names(strain.significant.genes) <- names(combined.lst)"
   ]
  },
  {
   "cell_type": "code",
   "execution_count": 43,
   "metadata": {},
   "outputs": [
    {
     "data": {
      "text/html": [
       "<table>\n",
       "<caption>A data.frame: 3 × 9</caption>\n",
       "<thead>\n",
       "\t<tr><th></th><th scope=col>ENTREZID</th><th scope=col>GENENAME</th><th scope=col>SYMBOL</th><th scope=col>L.donovani_4vsControl_logFC</th><th scope=col>L.donovani_4vsControl_test</th><th scope=col>L.donovani_8vsControl_logFC</th><th scope=col>L.donovani_8vsControl_test</th><th scope=col>L.donovani_24vsControl_logFC</th><th scope=col>L.donovani_24vsControl_test</th></tr>\n",
       "\t<tr><th></th><th scope=col>&lt;chr&gt;</th><th scope=col>&lt;chr&gt;</th><th scope=col>&lt;chr&gt;</th><th scope=col>&lt;dbl&gt;</th><th scope=col>&lt;dbl&gt;</th><th scope=col>&lt;dbl&gt;</th><th scope=col>&lt;dbl&gt;</th><th scope=col>&lt;dbl&gt;</th><th scope=col>&lt;dbl&gt;</th></tr>\n",
       "</thead>\n",
       "<tbody>\n",
       "\t<tr><th scope=row>2815</th><td>4489</td><td>metallothionein 1A</td><td>MT1A</td><td>3.564736</td><td>1</td><td>3.937992</td><td>1</td><td>3.333190</td><td>1</td></tr>\n",
       "\t<tr><th scope=row>2819</th><td>4502</td><td>metallothionein 2A</td><td>MT2A</td><td>3.545896</td><td>1</td><td>3.678668</td><td>1</td><td>3.405996</td><td>1</td></tr>\n",
       "\t<tr><th scope=row>2817</th><td>4496</td><td>metallothionein 1H</td><td>MT1H</td><td>3.501433</td><td>1</td><td>3.669528</td><td>1</td><td>3.203044</td><td>1</td></tr>\n",
       "</tbody>\n",
       "</table>\n"
      ],
      "text/latex": [
       "A data.frame: 3 × 9\n",
       "\\begin{tabular}{r|lllllllll}\n",
       "  & ENTREZID & GENENAME & SYMBOL & L.donovani\\_4vsControl\\_logFC & L.donovani\\_4vsControl\\_test & L.donovani\\_8vsControl\\_logFC & L.donovani\\_8vsControl\\_test & L.donovani\\_24vsControl\\_logFC & L.donovani\\_24vsControl\\_test\\\\\n",
       "  & <chr> & <chr> & <chr> & <dbl> & <dbl> & <dbl> & <dbl> & <dbl> & <dbl>\\\\\n",
       "\\hline\n",
       "\t2815 & 4489 & metallothionein 1A & MT1A & 3.564736 & 1 & 3.937992 & 1 & 3.333190 & 1\\\\\n",
       "\t2819 & 4502 & metallothionein 2A & MT2A & 3.545896 & 1 & 3.678668 & 1 & 3.405996 & 1\\\\\n",
       "\t2817 & 4496 & metallothionein 1H & MT1H & 3.501433 & 1 & 3.669528 & 1 & 3.203044 & 1\\\\\n",
       "\\end{tabular}\n"
      ],
      "text/markdown": [
       "\n",
       "A data.frame: 3 × 9\n",
       "\n",
       "| <!--/--> | ENTREZID &lt;chr&gt; | GENENAME &lt;chr&gt; | SYMBOL &lt;chr&gt; | L.donovani_4vsControl_logFC &lt;dbl&gt; | L.donovani_4vsControl_test &lt;dbl&gt; | L.donovani_8vsControl_logFC &lt;dbl&gt; | L.donovani_8vsControl_test &lt;dbl&gt; | L.donovani_24vsControl_logFC &lt;dbl&gt; | L.donovani_24vsControl_test &lt;dbl&gt; |\n",
       "|---|---|---|---|---|---|---|---|---|---|\n",
       "| 2815 | 4489 | metallothionein 1A | MT1A | 3.564736 | 1 | 3.937992 | 1 | 3.333190 | 1 |\n",
       "| 2819 | 4502 | metallothionein 2A | MT2A | 3.545896 | 1 | 3.678668 | 1 | 3.405996 | 1 |\n",
       "| 2817 | 4496 | metallothionein 1H | MT1H | 3.501433 | 1 | 3.669528 | 1 | 3.203044 | 1 |\n",
       "\n"
      ],
      "text/plain": [
       "     ENTREZID GENENAME           SYMBOL L.donovani_4vsControl_logFC\n",
       "2815 4489     metallothionein 1A MT1A   3.564736                   \n",
       "2819 4502     metallothionein 2A MT2A   3.545896                   \n",
       "2817 4496     metallothionein 1H MT1H   3.501433                   \n",
       "     L.donovani_4vsControl_test L.donovani_8vsControl_logFC\n",
       "2815 1                          3.937992                   \n",
       "2819 1                          3.678668                   \n",
       "2817 1                          3.669528                   \n",
       "     L.donovani_8vsControl_test L.donovani_24vsControl_logFC\n",
       "2815 1                          3.333190                    \n",
       "2819 1                          3.405996                    \n",
       "2817 1                          3.203044                    \n",
       "     L.donovani_24vsControl_test\n",
       "2815 1                          \n",
       "2819 1                          \n",
       "2817 1                          "
      ]
     },
     "metadata": {},
     "output_type": "display_data"
    }
   ],
   "source": [
    "head(strain.significant.genes[[1]],3)"
   ]
  },
  {
   "cell_type": "code",
   "execution_count": 44,
   "metadata": {},
   "outputs": [],
   "source": [
    "if(!file.exists(\"results/Strains\"))  dir.create(\"results/Strains\", recursive=TRUE)"
   ]
  },
  {
   "cell_type": "code",
   "execution_count": 45,
   "metadata": {},
   "outputs": [
    {
     "data": {
      "text/html": [
       "<ol>\n",
       "\t<li>NULL</li>\n",
       "\t<li>NULL</li>\n",
       "</ol>\n"
      ],
      "text/latex": [
       "\\begin{enumerate}\n",
       "\\item NULL\n",
       "\\item NULL\n",
       "\\end{enumerate}\n"
      ],
      "text/markdown": [
       "1. NULL\n",
       "2. NULL\n",
       "\n",
       "\n"
      ],
      "text/plain": [
       "[[1]]\n",
       "NULL\n",
       "\n",
       "[[2]]\n",
       "NULL\n"
      ]
     },
     "metadata": {},
     "output_type": "display_data"
    }
   ],
   "source": [
    "# store results\n",
    "lapply(names(strain.significant.genes),function(x){\n",
    "    if(!file.exists(file=paste0(\"results/Strains/\",x)))  dir.create(paste0(\"results/Strains/\",x), recursive=TRUE)\n",
    "    write.table(strain.significant.genes[[x]], \n",
    "                file=paste0(\"results/Strains/\",x,\"/SignificantGenes.txt\"), \n",
    "                sep=\"\\t\", quote=F, row.names=FALSE)\n",
    "})"
   ]
  },
  {
   "cell_type": "code",
   "execution_count": 46,
   "metadata": {},
   "outputs": [
    {
     "data": {
      "text/html": [
       "<ol>\n",
       "\t<li><ol>\n",
       "\t<li>NULL</li>\n",
       "\t<li>NULL</li>\n",
       "\t<li>NULL</li>\n",
       "</ol>\n",
       "</li>\n",
       "\t<li><ol>\n",
       "\t<li>NULL</li>\n",
       "\t<li>NULL</li>\n",
       "\t<li>NULL</li>\n",
       "</ol>\n",
       "</li>\n",
       "</ol>\n"
      ],
      "text/latex": [
       "\\begin{enumerate}\n",
       "\\item \\begin{enumerate}\n",
       "\\item NULL\n",
       "\\item NULL\n",
       "\\item NULL\n",
       "\\end{enumerate}\n",
       "\n",
       "\\item \\begin{enumerate}\n",
       "\\item NULL\n",
       "\\item NULL\n",
       "\\item NULL\n",
       "\\end{enumerate}\n",
       "\n",
       "\\end{enumerate}\n"
      ],
      "text/markdown": [
       "1. 1. NULL\n",
       "2. NULL\n",
       "3. NULL\n",
       "\n",
       "\n",
       "\n",
       "2. 1. NULL\n",
       "2. NULL\n",
       "3. NULL\n",
       "\n",
       "\n",
       "\n",
       "\n",
       "\n"
      ],
      "text/plain": [
       "[[1]]\n",
       "[[1]][[1]]\n",
       "NULL\n",
       "\n",
       "[[1]][[2]]\n",
       "NULL\n",
       "\n",
       "[[1]][[3]]\n",
       "NULL\n",
       "\n",
       "\n",
       "[[2]]\n",
       "[[2]][[1]]\n",
       "NULL\n",
       "\n",
       "[[2]][[2]]\n",
       "NULL\n",
       "\n",
       "[[2]][[3]]\n",
       "NULL\n",
       "\n"
      ]
     },
     "metadata": {},
     "output_type": "display_data"
    }
   ],
   "source": [
    "lapply(names(strain.significant.genes),function(strain){\n",
    "    if(!file.exists(paste0(\"results/Strains/\",strain)))  dir.create(paste0(\"results/Strains/\",strain), recursive=TRUE)\n",
    "    strain.comparisons<-my.unique.results[grep(strain,names(my.unique.results))]\n",
    "    lapply(names(strain.comparisons),function(x){\n",
    "        if(!file.exists(paste0(\"results/Strains/\",strain,\"/\",x)))  \n",
    "            dir.create(paste0(\"results/Strains/\",strain,\"/\",x), recursive=TRUE)\n",
    "        \n",
    "        write.table(strain.comparisons[[x]], file=paste0(\"results/Strains/\",strain,\"/\",x,\"/DGE_result.txt\"), \n",
    "                  row.names=FALSE, sep=\"\\t\", quote=FALSE)\n",
    "        })\n",
    "})"
   ]
  },
  {
   "cell_type": "markdown",
   "metadata": {},
   "source": [
    "# Visualizing the Results"
   ]
  },
  {
   "cell_type": "markdown",
   "metadata": {},
   "source": [
    "The function plotMA will produce a scatter plot of average log2 expression on the x-axis vs. log2 fold change on the y-axis."
   ]
  },
  {
   "cell_type": "markdown",
   "metadata": {},
   "source": [
    "## MAPlot "
   ]
  },
  {
   "cell_type": "code",
   "execution_count": 47,
   "metadata": {},
   "outputs": [],
   "source": [
    "folder.loc<-lapply(names(strain.significant.genes),function(strain){\n",
    "    loc<-paste(strain,names(my.unique.results)[grep(strain,names(my.unique.results))],sep=\"/\") \n",
    "    return(paste0(\"results/Strains/\",loc))\n",
    "})\n",
    "names(folder.loc)<-names(strain.significant.genes)"
   ]
  },
  {
   "cell_type": "code",
   "execution_count": 48,
   "metadata": {},
   "outputs": [
    {
     "data": {
      "text/html": [
       "<ol>\n",
       "\t<li><ol>\n",
       "\t<li><strong>png:</strong> 2</li>\n",
       "\t<li><strong>png:</strong> 2</li>\n",
       "\t<li><strong>png:</strong> 2</li>\n",
       "</ol>\n",
       "</li>\n",
       "\t<li><ol>\n",
       "\t<li><strong>png:</strong> 2</li>\n",
       "\t<li><strong>png:</strong> 2</li>\n",
       "\t<li><strong>png:</strong> 2</li>\n",
       "</ol>\n",
       "</li>\n",
       "</ol>\n"
      ],
      "text/latex": [
       "\\begin{enumerate}\n",
       "\\item \\begin{enumerate}\n",
       "\\item \\textbf{png:} 2\n",
       "\\item \\textbf{png:} 2\n",
       "\\item \\textbf{png:} 2\n",
       "\\end{enumerate}\n",
       "\n",
       "\\item \\begin{enumerate}\n",
       "\\item \\textbf{png:} 2\n",
       "\\item \\textbf{png:} 2\n",
       "\\item \\textbf{png:} 2\n",
       "\\end{enumerate}\n",
       "\n",
       "\\end{enumerate}\n"
      ],
      "text/markdown": [
       "1. 1. **png:** 2\n",
       "2. **png:** 2\n",
       "3. **png:** 2\n",
       "\n",
       "\n",
       "\n",
       "2. 1. **png:** 2\n",
       "2. **png:** 2\n",
       "3. **png:** 2\n",
       "\n",
       "\n",
       "\n",
       "\n",
       "\n"
      ],
      "text/plain": [
       "[[1]]\n",
       "[[1]][[1]]\n",
       "png \n",
       "  2 \n",
       "\n",
       "[[1]][[2]]\n",
       "png \n",
       "  2 \n",
       "\n",
       "[[1]][[3]]\n",
       "png \n",
       "  2 \n",
       "\n",
       "\n",
       "[[2]]\n",
       "[[2]][[1]]\n",
       "png \n",
       "  2 \n",
       "\n",
       "[[2]][[2]]\n",
       "png \n",
       "  2 \n",
       "\n",
       "[[2]][[3]]\n",
       "png \n",
       "  2 \n",
       "\n"
      ]
     },
     "metadata": {},
     "output_type": "display_data"
    }
   ],
   "source": [
    "# chosing different color for up, down and not regulated probes, using tests 1,-1,0 marking.\n",
    "ma.cols <- c(brewer.pal(11, \"RdBu\")[10], \"grey50\", brewer.pal(11, \"RdBu\")[2])\n",
    "\n",
    "lapply(names(strain.significant.genes),function(strain){\n",
    "    names<-names(my.unique.results)[grep(strain,names(my.unique.results))]\n",
    "    lapply(names,function(x){\n",
    "        loc<-folder.loc[[strain]][grep(x,folder.loc[[strain]])]\n",
    "        svg(file=paste0(loc,\"/MAPlot.svg\"))  \n",
    "        # assign above color to the rows,probeids.\n",
    "        my.cols <- ma.cols[as.factor(contrast.tests[[x]][, 1])]\n",
    "        \n",
    "        limma::plotMA(contrast.ebs[[x]], status=contrast.tests[[x]],\n",
    "                      col=my.cols, pch=19, main=x)  \n",
    "#         abline(h=1,col=\"red\")\n",
    "#         abline(h=-1,col=\"blue\" )\n",
    "        dev.off()  })\n",
    "    })"
   ]
  },
  {
   "cell_type": "markdown",
   "metadata": {},
   "source": [
    "## Volcano Plot"
   ]
  },
  {
   "cell_type": "markdown",
   "metadata": {},
   "source": [
    "volcano plot which plot logFC on the x-axis and p-value (-log10) on the y-axis."
   ]
  },
  {
   "cell_type": "code",
   "execution_count": 49,
   "metadata": {},
   "outputs": [
    {
     "data": {
      "text/html": [
       "<ol>\n",
       "\t<li><ol>\n",
       "\t<li><strong>png:</strong> 2</li>\n",
       "\t<li><strong>png:</strong> 2</li>\n",
       "\t<li><strong>png:</strong> 2</li>\n",
       "</ol>\n",
       "</li>\n",
       "\t<li><ol>\n",
       "\t<li><strong>png:</strong> 2</li>\n",
       "\t<li><strong>png:</strong> 2</li>\n",
       "\t<li><strong>png:</strong> 2</li>\n",
       "</ol>\n",
       "</li>\n",
       "</ol>\n"
      ],
      "text/latex": [
       "\\begin{enumerate}\n",
       "\\item \\begin{enumerate}\n",
       "\\item \\textbf{png:} 2\n",
       "\\item \\textbf{png:} 2\n",
       "\\item \\textbf{png:} 2\n",
       "\\end{enumerate}\n",
       "\n",
       "\\item \\begin{enumerate}\n",
       "\\item \\textbf{png:} 2\n",
       "\\item \\textbf{png:} 2\n",
       "\\item \\textbf{png:} 2\n",
       "\\end{enumerate}\n",
       "\n",
       "\\end{enumerate}\n"
      ],
      "text/markdown": [
       "1. 1. **png:** 2\n",
       "2. **png:** 2\n",
       "3. **png:** 2\n",
       "\n",
       "\n",
       "\n",
       "2. 1. **png:** 2\n",
       "2. **png:** 2\n",
       "3. **png:** 2\n",
       "\n",
       "\n",
       "\n",
       "\n",
       "\n"
      ],
      "text/plain": [
       "[[1]]\n",
       "[[1]][[1]]\n",
       "png \n",
       "  2 \n",
       "\n",
       "[[1]][[2]]\n",
       "png \n",
       "  2 \n",
       "\n",
       "[[1]][[3]]\n",
       "png \n",
       "  2 \n",
       "\n",
       "\n",
       "[[2]]\n",
       "[[2]][[1]]\n",
       "png \n",
       "  2 \n",
       "\n",
       "[[2]][[2]]\n",
       "png \n",
       "  2 \n",
       "\n",
       "[[2]][[3]]\n",
       "png \n",
       "  2 \n",
       "\n"
      ]
     },
     "metadata": {},
     "output_type": "display_data"
    }
   ],
   "source": [
    "# chosing different color for up, down and not regulated probes.\n",
    "ma.cols <- c(brewer.pal(11, \"RdBu\")[10], \"grey50\", brewer.pal(11, \"RdBu\")[2])\n",
    "\n",
    "lapply(names(strain.significant.genes),function(strain){\n",
    "    names<-names(my.unique.results)[grep(strain,names(my.unique.results))]\n",
    "    lapply(names,function(x){\n",
    "        loc<-folder.loc[[strain]][grep(x,folder.loc[[strain]])]\n",
    "        svg(file=paste0(loc,\"/VolcanoPlot.svg\"))\n",
    "        par(mar=c(5,4,4,8),xpd=TRUE)\n",
    "        \n",
    "        legend<-c(\"Down\",\"NoSig\",\"Up\")  \n",
    "        my.cols <- ma.cols[as.factor(contrast.tests[[x]][, 1])]\n",
    "        # assign color to each row.\n",
    "        row.colors <- ma.cols[as.factor(contrast.tests[[x]][, 1])]\n",
    "        \n",
    "        plot(contrast.tts[[x]]$logFC, \n",
    "             -log10(contrast.tts[[x]]$adj.P.Val), \n",
    "             col=row.colors, pch=19, main=x, \n",
    "             xlab=\"log2 Fold Change\", ylab=\"-log10 Adjusted P-Value\")\n",
    "#         abline(h=-log10(0.05))\n",
    "#         abline(v=1,col=\"red\")\n",
    "#         abline(v=-1,col=\"blue\")\n",
    "        legend(\"topright\",inset=c(-0.24,0), legend=legend, \n",
    "               fill=ma.cols[as.factor(legend)])\n",
    "        dev.off()\n",
    "    })\n",
    "})"
   ]
  },
  {
   "cell_type": "markdown",
   "metadata": {},
   "source": [
    "## Cholesterol Genes"
   ]
  },
  {
   "cell_type": "code",
   "execution_count": 50,
   "metadata": {},
   "outputs": [],
   "source": [
    "human_cholesterol_genes<-read.table(file=paste0(\"geo_downloads/\",\"human_cholesterol.txt\")\n",
    "                              ,header=T,sep=\"\\t\",quote=\"\")"
   ]
  },
  {
   "cell_type": "code",
   "execution_count": 51,
   "metadata": {},
   "outputs": [
    {
     "name": "stderr",
     "output_type": "stream",
     "text": [
      "'select()' returned 1:many mapping between keys and columns\n",
      "\n"
     ]
    }
   ],
   "source": [
    "store<-select(org.Hs.eg.db, \n",
    "                keys=human_cholesterol_genes$SYMBOL, \n",
    "                keytype=\"SYMBOL\", \n",
    "                columns=c(\"ENTREZID\",\"GENENAME\",\"ENSEMBL\"))\n",
    "\n",
    "human_cholesterol<- merge(human_cholesterol_genes,store,by=\"SYMBOL\")"
   ]
  },
  {
   "cell_type": "code",
   "execution_count": 52,
   "metadata": {},
   "outputs": [
    {
     "data": {
      "text/html": [
       "<table>\n",
       "<caption>A data.frame: 6 × 1</caption>\n",
       "<thead>\n",
       "\t<tr><th></th><th scope=col>ENTREZID</th></tr>\n",
       "\t<tr><th></th><th scope=col>&lt;chr&gt;</th></tr>\n",
       "</thead>\n",
       "<tbody>\n",
       "\t<tr><th scope=row>1</th><td>39   </td></tr>\n",
       "\t<tr><th scope=row>2</th><td>47   </td></tr>\n",
       "\t<tr><th scope=row>3</th><td>55902</td></tr>\n",
       "\t<tr><th scope=row>4</th><td>55911</td></tr>\n",
       "\t<tr><th scope=row>5</th><td>8542 </td></tr>\n",
       "\t<tr><th scope=row>6</th><td>23780</td></tr>\n",
       "</tbody>\n",
       "</table>\n"
      ],
      "text/latex": [
       "A data.frame: 6 × 1\n",
       "\\begin{tabular}{r|l}\n",
       "  & ENTREZID\\\\\n",
       "  & <chr>\\\\\n",
       "\\hline\n",
       "\t1 & 39   \\\\\n",
       "\t2 & 47   \\\\\n",
       "\t3 & 55902\\\\\n",
       "\t4 & 55911\\\\\n",
       "\t5 & 8542 \\\\\n",
       "\t6 & 23780\\\\\n",
       "\\end{tabular}\n"
      ],
      "text/markdown": [
       "\n",
       "A data.frame: 6 × 1\n",
       "\n",
       "| <!--/--> | ENTREZID &lt;chr&gt; |\n",
       "|---|---|\n",
       "| 1 | 39    |\n",
       "| 2 | 47    |\n",
       "| 3 | 55902 |\n",
       "| 4 | 55911 |\n",
       "| 5 | 8542  |\n",
       "| 6 | 23780 |\n",
       "\n"
      ],
      "text/plain": [
       "  ENTREZID\n",
       "1 39      \n",
       "2 47      \n",
       "3 55902   \n",
       "4 55911   \n",
       "5 8542    \n",
       "6 23780   "
      ]
     },
     "metadata": {},
     "output_type": "display_data"
    }
   ],
   "source": [
    "human_cholesterol_id<-as.data.frame(human_cholesterol[!duplicated(human_cholesterol$ENTREZID),]$ENTREZID)\n",
    "colnames(human_cholesterol_id)<-c(\"ENTREZID\")\n",
    "head(human_cholesterol_id)"
   ]
  },
  {
   "cell_type": "code",
   "execution_count": 53,
   "metadata": {},
   "outputs": [],
   "source": [
    "strain.cholesterol.genes<-lapply(names(combined.lst), \n",
    "                                 function(x){\n",
    "                                     merge(combined.lst[[x]],\n",
    "                                          human_cholesterol_id,\n",
    "                                           by=\"ENTREZID\")\n",
    "                                 })\n",
    "names(strain.cholesterol.genes) <- names(combined.lst)"
   ]
  },
  {
   "cell_type": "code",
   "execution_count": 54,
   "metadata": {},
   "outputs": [
    {
     "data": {
      "text/html": [
       "<table>\n",
       "<caption>A data.frame: 2 × 9</caption>\n",
       "<thead>\n",
       "\t<tr><th></th><th scope=col>ENTREZID</th><th scope=col>GENENAME</th><th scope=col>SYMBOL</th><th scope=col>L.donovani_4vsControl_logFC</th><th scope=col>L.donovani_4vsControl_test</th><th scope=col>L.donovani_8vsControl_logFC</th><th scope=col>L.donovani_8vsControl_test</th><th scope=col>L.donovani_24vsControl_logFC</th><th scope=col>L.donovani_24vsControl_test</th></tr>\n",
       "\t<tr><th></th><th scope=col>&lt;chr&gt;</th><th scope=col>&lt;chr&gt;</th><th scope=col>&lt;chr&gt;</th><th scope=col>&lt;dbl&gt;</th><th scope=col>&lt;dbl&gt;</th><th scope=col>&lt;dbl&gt;</th><th scope=col>&lt;dbl&gt;</th><th scope=col>&lt;dbl&gt;</th><th scope=col>&lt;dbl&gt;</th></tr>\n",
       "</thead>\n",
       "<tbody>\n",
       "\t<tr><th scope=row>1</th><td>10062</td><td>nuclear receptor subfamily 1 group H member 3</td><td>NR1H3 </td><td>0.8831344</td><td>1</td><td>1.414751</td><td>1</td><td>1.8102835</td><td>1</td></tr>\n",
       "\t<tr><th scope=row>2</th><td>10484</td><td>Sec23 homolog A, coat complex II component   </td><td>SEC23A</td><td>0.3723486</td><td>0</td><td>0.135058</td><td>0</td><td>0.2865723</td><td>0</td></tr>\n",
       "</tbody>\n",
       "</table>\n"
      ],
      "text/latex": [
       "A data.frame: 2 × 9\n",
       "\\begin{tabular}{r|lllllllll}\n",
       "  & ENTREZID & GENENAME & SYMBOL & L.donovani\\_4vsControl\\_logFC & L.donovani\\_4vsControl\\_test & L.donovani\\_8vsControl\\_logFC & L.donovani\\_8vsControl\\_test & L.donovani\\_24vsControl\\_logFC & L.donovani\\_24vsControl\\_test\\\\\n",
       "  & <chr> & <chr> & <chr> & <dbl> & <dbl> & <dbl> & <dbl> & <dbl> & <dbl>\\\\\n",
       "\\hline\n",
       "\t1 & 10062 & nuclear receptor subfamily 1 group H member 3 & NR1H3  & 0.8831344 & 1 & 1.414751 & 1 & 1.8102835 & 1\\\\\n",
       "\t2 & 10484 & Sec23 homolog A, coat complex II component    & SEC23A & 0.3723486 & 0 & 0.135058 & 0 & 0.2865723 & 0\\\\\n",
       "\\end{tabular}\n"
      ],
      "text/markdown": [
       "\n",
       "A data.frame: 2 × 9\n",
       "\n",
       "| <!--/--> | ENTREZID &lt;chr&gt; | GENENAME &lt;chr&gt; | SYMBOL &lt;chr&gt; | L.donovani_4vsControl_logFC &lt;dbl&gt; | L.donovani_4vsControl_test &lt;dbl&gt; | L.donovani_8vsControl_logFC &lt;dbl&gt; | L.donovani_8vsControl_test &lt;dbl&gt; | L.donovani_24vsControl_logFC &lt;dbl&gt; | L.donovani_24vsControl_test &lt;dbl&gt; |\n",
       "|---|---|---|---|---|---|---|---|---|---|\n",
       "| 1 | 10062 | nuclear receptor subfamily 1 group H member 3 | NR1H3  | 0.8831344 | 1 | 1.414751 | 1 | 1.8102835 | 1 |\n",
       "| 2 | 10484 | Sec23 homolog A, coat complex II component    | SEC23A | 0.3723486 | 0 | 0.135058 | 0 | 0.2865723 | 0 |\n",
       "\n"
      ],
      "text/plain": [
       "  ENTREZID GENENAME                                      SYMBOL\n",
       "1 10062    nuclear receptor subfamily 1 group H member 3 NR1H3 \n",
       "2 10484    Sec23 homolog A, coat complex II component    SEC23A\n",
       "  L.donovani_4vsControl_logFC L.donovani_4vsControl_test\n",
       "1 0.8831344                   1                         \n",
       "2 0.3723486                   0                         \n",
       "  L.donovani_8vsControl_logFC L.donovani_8vsControl_test\n",
       "1 1.414751                    1                         \n",
       "2 0.135058                    0                         \n",
       "  L.donovani_24vsControl_logFC L.donovani_24vsControl_test\n",
       "1 1.8102835                    1                          \n",
       "2 0.2865723                    0                          "
      ]
     },
     "metadata": {},
     "output_type": "display_data"
    }
   ],
   "source": [
    "head(strain.cholesterol.genes[[1]],2)"
   ]
  },
  {
   "cell_type": "code",
   "execution_count": 55,
   "metadata": {},
   "outputs": [
    {
     "data": {
      "text/html": [
       "<ol>\n",
       "\t<li>NULL</li>\n",
       "\t<li>NULL</li>\n",
       "</ol>\n"
      ],
      "text/latex": [
       "\\begin{enumerate}\n",
       "\\item NULL\n",
       "\\item NULL\n",
       "\\end{enumerate}\n"
      ],
      "text/markdown": [
       "1. NULL\n",
       "2. NULL\n",
       "\n",
       "\n"
      ],
      "text/plain": [
       "[[1]]\n",
       "NULL\n",
       "\n",
       "[[2]]\n",
       "NULL\n"
      ]
     },
     "metadata": {},
     "output_type": "display_data"
    }
   ],
   "source": [
    "lapply(names(strain.cholesterol.genes),function(x){\n",
    "    write.table(strain.cholesterol.genes[[x]], \n",
    "                file=paste0(\"results/Strains/\",x,\"/CholesterolGenes.txt\"), \n",
    "            sep=\"\\t\", quote=F, row.names=FALSE)\n",
    "\n",
    "})"
   ]
  },
  {
   "cell_type": "code",
   "execution_count": 56,
   "metadata": {},
   "outputs": [],
   "source": [
    "significant.cholesterol.genes<-lapply(names(strain.significant.genes), \n",
    "                                 function(x){\n",
    "                                     merge(strain.significant.genes[[x]],\n",
    "                                          human_cholesterol_id,\n",
    "                                           by=\"ENTREZID\")\n",
    "                                 })\n",
    "names(significant.cholesterol.genes) <- names(strain.significant.genes)"
   ]
  },
  {
   "cell_type": "code",
   "execution_count": 57,
   "metadata": {},
   "outputs": [
    {
     "data": {
      "text/html": [
       "<table>\n",
       "<caption>A data.frame: 2 × 9</caption>\n",
       "<thead>\n",
       "\t<tr><th></th><th scope=col>ENTREZID</th><th scope=col>GENENAME</th><th scope=col>SYMBOL</th><th scope=col>L.donovani_4vsControl_logFC</th><th scope=col>L.donovani_4vsControl_test</th><th scope=col>L.donovani_8vsControl_logFC</th><th scope=col>L.donovani_8vsControl_test</th><th scope=col>L.donovani_24vsControl_logFC</th><th scope=col>L.donovani_24vsControl_test</th></tr>\n",
       "\t<tr><th></th><th scope=col>&lt;chr&gt;</th><th scope=col>&lt;chr&gt;</th><th scope=col>&lt;chr&gt;</th><th scope=col>&lt;dbl&gt;</th><th scope=col>&lt;dbl&gt;</th><th scope=col>&lt;dbl&gt;</th><th scope=col>&lt;dbl&gt;</th><th scope=col>&lt;dbl&gt;</th><th scope=col>&lt;dbl&gt;</th></tr>\n",
       "</thead>\n",
       "<tbody>\n",
       "\t<tr><th scope=row>1</th><td>10062</td><td>nuclear receptor subfamily 1 group H member 3</td><td>NR1H3 </td><td>0.8831344</td><td>1</td><td>1.4147506</td><td>1</td><td>1.8102835</td><td>1</td></tr>\n",
       "\t<tr><th scope=row>2</th><td>10613</td><td>ER lipid raft associated 1                   </td><td>ERLIN1</td><td>0.2552710</td><td>0</td><td>0.5287214</td><td>0</td><td>0.8387841</td><td>1</td></tr>\n",
       "</tbody>\n",
       "</table>\n"
      ],
      "text/latex": [
       "A data.frame: 2 × 9\n",
       "\\begin{tabular}{r|lllllllll}\n",
       "  & ENTREZID & GENENAME & SYMBOL & L.donovani\\_4vsControl\\_logFC & L.donovani\\_4vsControl\\_test & L.donovani\\_8vsControl\\_logFC & L.donovani\\_8vsControl\\_test & L.donovani\\_24vsControl\\_logFC & L.donovani\\_24vsControl\\_test\\\\\n",
       "  & <chr> & <chr> & <chr> & <dbl> & <dbl> & <dbl> & <dbl> & <dbl> & <dbl>\\\\\n",
       "\\hline\n",
       "\t1 & 10062 & nuclear receptor subfamily 1 group H member 3 & NR1H3  & 0.8831344 & 1 & 1.4147506 & 1 & 1.8102835 & 1\\\\\n",
       "\t2 & 10613 & ER lipid raft associated 1                    & ERLIN1 & 0.2552710 & 0 & 0.5287214 & 0 & 0.8387841 & 1\\\\\n",
       "\\end{tabular}\n"
      ],
      "text/markdown": [
       "\n",
       "A data.frame: 2 × 9\n",
       "\n",
       "| <!--/--> | ENTREZID &lt;chr&gt; | GENENAME &lt;chr&gt; | SYMBOL &lt;chr&gt; | L.donovani_4vsControl_logFC &lt;dbl&gt; | L.donovani_4vsControl_test &lt;dbl&gt; | L.donovani_8vsControl_logFC &lt;dbl&gt; | L.donovani_8vsControl_test &lt;dbl&gt; | L.donovani_24vsControl_logFC &lt;dbl&gt; | L.donovani_24vsControl_test &lt;dbl&gt; |\n",
       "|---|---|---|---|---|---|---|---|---|---|\n",
       "| 1 | 10062 | nuclear receptor subfamily 1 group H member 3 | NR1H3  | 0.8831344 | 1 | 1.4147506 | 1 | 1.8102835 | 1 |\n",
       "| 2 | 10613 | ER lipid raft associated 1                    | ERLIN1 | 0.2552710 | 0 | 0.5287214 | 0 | 0.8387841 | 1 |\n",
       "\n"
      ],
      "text/plain": [
       "  ENTREZID GENENAME                                      SYMBOL\n",
       "1 10062    nuclear receptor subfamily 1 group H member 3 NR1H3 \n",
       "2 10613    ER lipid raft associated 1                    ERLIN1\n",
       "  L.donovani_4vsControl_logFC L.donovani_4vsControl_test\n",
       "1 0.8831344                   1                         \n",
       "2 0.2552710                   0                         \n",
       "  L.donovani_8vsControl_logFC L.donovani_8vsControl_test\n",
       "1 1.4147506                   1                         \n",
       "2 0.5287214                   0                         \n",
       "  L.donovani_24vsControl_logFC L.donovani_24vsControl_test\n",
       "1 1.8102835                    1                          \n",
       "2 0.8387841                    1                          "
      ]
     },
     "metadata": {},
     "output_type": "display_data"
    }
   ],
   "source": [
    "head(significant.cholesterol.genes[[1]],2)"
   ]
  },
  {
   "cell_type": "code",
   "execution_count": 58,
   "metadata": {},
   "outputs": [
    {
     "data": {
      "text/html": [
       "<ol>\n",
       "\t<li>NULL</li>\n",
       "\t<li>NULL</li>\n",
       "</ol>\n"
      ],
      "text/latex": [
       "\\begin{enumerate}\n",
       "\\item NULL\n",
       "\\item NULL\n",
       "\\end{enumerate}\n"
      ],
      "text/markdown": [
       "1. NULL\n",
       "2. NULL\n",
       "\n",
       "\n"
      ],
      "text/plain": [
       "[[1]]\n",
       "NULL\n",
       "\n",
       "[[2]]\n",
       "NULL\n"
      ]
     },
     "metadata": {},
     "output_type": "display_data"
    }
   ],
   "source": [
    "lapply(names(significant.cholesterol.genes),function(x){\n",
    "    write.table(significant.cholesterol.genes[[x]], \n",
    "                file=paste0(\"results/Strains/\",x,\"/SignificantCholesterolGenes.txt\"), \n",
    "            sep=\"\\t\", quote=F, row.names=FALSE)\n",
    "})"
   ]
  },
  {
   "cell_type": "markdown",
   "metadata": {},
   "source": [
    "# Heatmap"
   ]
  },
  {
   "cell_type": "code",
   "execution_count": 59,
   "metadata": {},
   "outputs": [
    {
     "name": "stderr",
     "output_type": "stream",
     "text": [
      "Warning message:\n",
      "\"package 'gplots' was built under R version 4.0.3\"\n",
      "\n",
      "Attaching package: 'gplots'\n",
      "\n",
      "\n",
      "The following object is masked from 'package:IRanges':\n",
      "\n",
      "    space\n",
      "\n",
      "\n",
      "The following object is masked from 'package:S4Vectors':\n",
      "\n",
      "    space\n",
      "\n",
      "\n",
      "The following object is masked from 'package:stats':\n",
      "\n",
      "    lowess\n",
      "\n",
      "\n"
     ]
    }
   ],
   "source": [
    "library(\"gplots\")"
   ]
  },
  {
   "cell_type": "code",
   "execution_count": 60,
   "metadata": {},
   "outputs": [
    {
     "data": {
      "text/html": [
       "<strong>png:</strong> 2"
      ],
      "text/latex": [
       "\\textbf{png:} 2"
      ],
      "text/markdown": [
       "**png:** 2"
      ],
      "text/plain": [
       "png \n",
       "  2 "
      ]
     },
     "metadata": {},
     "output_type": "display_data"
    }
   ],
   "source": [
    "store<-significant.cholesterol.genes[[1]]\n",
    "store<-store[,-grep(\"test\",colnames(store))]\n",
    "input<-data.matrix(store[,-c(1:3)])\n",
    "\n",
    "input.mean<-apply(input,1,mean)\n",
    "input.sd<-apply(input,1,sd)\n",
    "input <- sweep(input, 1, input.mean, \"-\")\n",
    "input <- sweep(input, 1, input.sd, \"/\")\n",
    "\n",
    "colors<-c(c(brewer.pal(8,\"Set1\")),c(brewer.pal(5,\"Set2\")))\n",
    "treatment_time_color<-c(colors[1],colors[2],colors[3])\n",
    "strain_color<-c(rep(colors[4],3))\n",
    "\n",
    "\n",
    "strain_names<-rep(\"L.dono\",3)\n",
    "\n",
    "treatment_times<-c(4,8,24)\n",
    "treatment_color_options<-factor(treatment_time_color)\n",
    "strain_color_options<-factor(strain_color)\n",
    "\n",
    "# Top genes heatmap\n",
    "# dendrogram = c(\"both\",\"row\",\"column\",\"none\")\n",
    "svg(file=\"results/Strains/L.donovani/SignificantCholesterolHeatmap.svg\")  \n",
    "par(cex.main=0.8,mar=c(0,15,1.5,0))\n",
    "heatmap.2(input, trace=\"column\", tracecol=\"cyan\", \n",
    "          col=bluered(100),\n",
    "          labRow=store$SYMBOL,\n",
    "          labCol=strain_names,\n",
    "          dendrogram = \"row\",Colv=NA,\n",
    "          scale=\"column\",\n",
    "          cexRow=0.8,cexCol=1, \n",
    "          margins = c(5,12), main=\"Cholesterol Genes\",  \n",
    "          ColSideColors=treatment_time_color\n",
    "         )\n",
    "# legend(\"topright\",inset=c(0.01,0.0),legend=c(\"L.dono\"),\n",
    "#        fill=strain_color_options,cex=0.45,title=\"Strains\",\n",
    "#        box.lwd=0.5,text.width=0.15)\n",
    "legend(\"topright\",inset=c(0.4,0.09),legend=paste(treatment_times,\"hours\"),\n",
    "       fill=treatment_color_options,cex=0.45,title=\"Infection Time\",\n",
    "       box.lwd=0.5,text.width=0.15)\n",
    "          \n",
    "# for exporting svg etc\n",
    "dev.off()"
   ]
  },
  {
   "cell_type": "code",
   "execution_count": 61,
   "metadata": {},
   "outputs": [
    {
     "data": {
      "text/html": [
       "<strong>png:</strong> 2"
      ],
      "text/latex": [
       "\\textbf{png:} 2"
      ],
      "text/markdown": [
       "**png:** 2"
      ],
      "text/plain": [
       "png \n",
       "  2 "
      ]
     },
     "metadata": {},
     "output_type": "display_data"
    }
   ],
   "source": [
    "store<-significant.cholesterol.genes[[2]]\n",
    "store<-store[,-grep(\"test\",colnames(store))]\n",
    "input<-data.matrix(store[,-c(1:3)])\n",
    "\n",
    "input.mean<-apply(input,1,mean)\n",
    "input.sd<-apply(input,1,sd)\n",
    "input <- sweep(input, 1, input.mean, \"-\")\n",
    "input <- sweep(input, 1, input.sd, \"/\")\n",
    "\n",
    "colors<-c(c(brewer.pal(8,\"Set1\")),c(brewer.pal(5,\"Set2\")))\n",
    "treatment_time_color<-c(colors[1],colors[2],colors[3])\n",
    "strain_color<-c(rep(colors[4],3))\n",
    "\n",
    "\n",
    "strain_options<-c(\"L.major\")\n",
    "strain_names<-rep(\"L.major\",3)\n",
    "\n",
    "treatment_times<-c(4,8,24)\n",
    "treatment_color_options<-factor(treatment_time_color)\n",
    "strain_color_options<-factor(strain_color)\n",
    "\n",
    "# Top genes heatmap\n",
    "# dendrogram = c(\"both\",\"row\",\"column\",\"none\")\n",
    "svg(file=\"results/Strains/L.major/SignificantCholesterolHeatmap.svg\")  \n",
    "par(cex.main=0.8,mar=c(0,15,1.5,0))\n",
    "heatmap.2(input, trace=\"column\", tracecol=\"cyan\", \n",
    "          col=bluered(100),\n",
    "          labRow=store$SYMBOL,\n",
    "          labCol=strain_names,\n",
    "          dendrogram = \"row\",Colv=NA,\n",
    "          scale=\"column\",\n",
    "          cexRow=0.8,cexCol=1, \n",
    "          margins = c(5,12), main=\"Cholesterol Genes\",  \n",
    "          ColSideColors=treatment_time_color\n",
    "         )\n",
    "# legend(\"topright\",inset=c(0.01,0.0),legend=strain_options,\n",
    "#        fill=strain_color_options,cex=0.45,title=\"Strains\",\n",
    "#        box.lwd=0.5,text.width=0.15)\n",
    "legend(\"topright\",inset=c(0.4,0.09),legend=paste(treatment_times,\"hours\"),\n",
    "       fill=treatment_color_options,cex=0.45,title=\"Infection Time\",\n",
    "       box.lwd=0.5,text.width=0.15)\n",
    "          \n",
    "# for exporting svg etc\n",
    "dev.off()"
   ]
  },
  {
   "cell_type": "markdown",
   "metadata": {},
   "source": [
    "## Vienn Diagram"
   ]
  },
  {
   "cell_type": "code",
   "execution_count": 62,
   "metadata": {},
   "outputs": [
    {
     "name": "stderr",
     "output_type": "stream",
     "text": [
      "Warning message:\n",
      "\"package 'VennDiagram' was built under R version 4.0.3\"\n",
      "Loading required package: grid\n",
      "\n",
      "Loading required package: futile.logger\n",
      "\n"
     ]
    }
   ],
   "source": [
    "library(\"VennDiagram\")"
   ]
  },
  {
   "cell_type": "code",
   "execution_count": 63,
   "metadata": {},
   "outputs": [
    {
     "data": {
      "text/html": [
       "<style>\n",
       ".list-inline {list-style: none; margin:0; padding: 0}\n",
       ".list-inline>li {display: inline-block}\n",
       ".list-inline>li:not(:last-child)::after {content: \"\\00b7\"; padding: 0 .5ex}\n",
       "</style>\n",
       "<ol class=list-inline><li>'L.donovani_4vsControl'</li><li>'L.donovani_8vsControl'</li><li>'L.donovani_24vsControl'</li><li>'L.major_4vsControl'</li><li>'L.major_8vsControl'</li><li>'L.major_24vsControl'</li></ol>\n"
      ],
      "text/latex": [
       "\\begin{enumerate*}\n",
       "\\item 'L.donovani\\_4vsControl'\n",
       "\\item 'L.donovani\\_8vsControl'\n",
       "\\item 'L.donovani\\_24vsControl'\n",
       "\\item 'L.major\\_4vsControl'\n",
       "\\item 'L.major\\_8vsControl'\n",
       "\\item 'L.major\\_24vsControl'\n",
       "\\end{enumerate*}\n"
      ],
      "text/markdown": [
       "1. 'L.donovani_4vsControl'\n",
       "2. 'L.donovani_8vsControl'\n",
       "3. 'L.donovani_24vsControl'\n",
       "4. 'L.major_4vsControl'\n",
       "5. 'L.major_8vsControl'\n",
       "6. 'L.major_24vsControl'\n",
       "\n",
       "\n"
      ],
      "text/plain": [
       "[1] \"L.donovani_4vsControl\"  \"L.donovani_8vsControl\"  \"L.donovani_24vsControl\"\n",
       "[4] \"L.major_4vsControl\"     \"L.major_8vsControl\"     \"L.major_24vsControl\"   "
      ]
     },
     "metadata": {},
     "output_type": "display_data"
    }
   ],
   "source": [
    "names(my.unique.results)"
   ]
  },
  {
   "cell_type": "code",
   "execution_count": 64,
   "metadata": {},
   "outputs": [
    {
     "data": {
      "text/html": [
       "1"
      ],
      "text/latex": [
       "1"
      ],
      "text/markdown": [
       "1"
      ],
      "text/plain": [
       "[1] 1"
      ]
     },
     "metadata": {},
     "output_type": "display_data"
    }
   ],
   "source": [
    "set.seed(12)\n",
    "set1 ＜- my.unique.results[[1]][my.unique.results[[1]]$test!=0,\"ENTREZID\"]\n",
    "set2 ＜- my.unique.results[[2]][my.unique.results[[2]]$test!=0,\"ENTREZID\"]\n",
    "set3 ＜- my.unique.results[[3]][my.unique.results[[3]]$test!=0,\"ENTREZID\"]\n",
    "set4  <- human_cholesterol$ENTREZID\n",
    "\n",
    "x<-list(set1, set2, set3, set4)\n",
    "colors ＜- c(\"#6b7fff\", \"#c3db0f\", \"#ff4059\", \"#2cff21\")#, \"#de4dff\")\n",
    "cat.names<-c(\"4 hr\",\"8 hr\",\"24 hr\",\"Cholesterol\")\n",
    "filename<-c('results/Strains/L.donovani/vennDiagram.tiff')\n",
    "# Make Venn diagram from list of groups\n",
    "venn.diagram(x = x ,\n",
    "            category.names = cat.names,\n",
    "            filename = filename,output=TRUE,\n",
    "            height = 3000, width = 3000, resolution = 500, \n",
    "            imagetype = \"tiff\" ,\n",
    "            scaled = FALSE,\n",
    "            col = \"black\",\n",
    "            fill = colors,\n",
    "            cat.col = colors,\n",
    "            cat.cex = 1,\n",
    "            margin = 0.15,\n",
    "            main = \"L.donovani Significant Genes\",\n",
    "#             sub = \"Featuring: rotation and external lines\",\n",
    "            main.cex = 2,\n",
    "            sub.cex = 1\n",
    ")"
   ]
  },
  {
   "cell_type": "code",
   "execution_count": 65,
   "metadata": {},
   "outputs": [
    {
     "data": {
      "text/html": [
       "1"
      ],
      "text/latex": [
       "1"
      ],
      "text/markdown": [
       "1"
      ],
      "text/plain": [
       "[1] 1"
      ]
     },
     "metadata": {},
     "output_type": "display_data"
    }
   ],
   "source": [
    "set.seed(12)\n",
    "set1 ＜- my.unique.results[[4]][my.unique.results[[4]]$test!=0,\"ENTREZID\"]\n",
    "set2 ＜- my.unique.results[[5]][my.unique.results[[5]]$test!=0,\"ENTREZID\"]\n",
    "set3 ＜- my.unique.results[[6]][my.unique.results[[6]]$test!=0,\"ENTREZID\"]\n",
    "set4  <- human_cholesterol$ENTREZID\n",
    "\n",
    "x<-list(set1, set2, set3, set4)\n",
    "colors ＜- c(\"#6b7fff\", \"#c3db0f\", \"#ff4059\", \"#2cff21\")#, \"#de4dff\")\n",
    "cat.names<-c(\"4 hr\",\"8 hr\",\"24 hr\",\"Cholesterol\")\n",
    "filename<-c('results/Strains/L.major/vennDiagram.tiff')\n",
    "# Make Venn diagram from list of groups\n",
    "venn.diagram(x = x ,\n",
    "            category.names = cat.names,\n",
    "            filename = filename,output=TRUE,\n",
    "            height = 3000, width = 3000, resolution = 500, \n",
    "            imagetype = \"tiff\" ,\n",
    "            scaled = FALSE,\n",
    "            col = \"black\",\n",
    "            fill = colors,\n",
    "            cat.col = colors,\n",
    "            cat.cex = 1,\n",
    "            margin = 0.15,\n",
    "            main = \"L.major Significant Genes\",\n",
    "#             sub = \"Featuring: rotation and external lines\",\n",
    "            main.cex = 2,\n",
    "            sub.cex = 1\n",
    ")"
   ]
  },
  {
   "cell_type": "code",
   "execution_count": null,
   "metadata": {},
   "outputs": [],
   "source": []
  }
 ],
 "metadata": {
  "kernelspec": {
   "display_name": "R",
   "language": "R",
   "name": "ir"
  },
  "language_info": {
   "codemirror_mode": "r",
   "file_extension": ".r",
   "mimetype": "text/x-r-source",
   "name": "R",
   "pygments_lexer": "r",
   "version": "4.0.2"
  }
 },
 "nbformat": 4,
 "nbformat_minor": 4
}
